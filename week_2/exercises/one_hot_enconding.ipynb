{
 "metadata": {
  "language_info": {
   "codemirror_mode": {
    "name": "ipython",
    "version": 3
   },
   "file_extension": ".py",
   "mimetype": "text/x-python",
   "name": "python",
   "nbconvert_exporter": "python",
   "pygments_lexer": "ipython3",
   "version": "3.8.5"
  },
  "orig_nbformat": 4,
  "kernelspec": {
   "name": "python3",
   "display_name": "Python 3.8.5 64-bit (conda)"
  },
  "interpreter": {
   "hash": "b89eeedbdc0536dc3b9e0039c7383f02ce6be41de6f0c1496eea1f23aaecc7b1"
  }
 },
 "nbformat": 4,
 "nbformat_minor": 2,
 "cells": [
  {
   "source": [
    "One-Hot Encoding\n",
    "\n",
    "https://scikit-learn.org/stable/modules/generated/sklearn.preprocessing.OneHotEncoder.html\n",
    "\n",
    "converts a categorical (nomial/ordinal) column to a matrix of binary variables\n",
    "\n",
    "1. Execute the code \n",
    "   (in Jupyter, split it into multiple cells)\n",
    "\n",
    "2. Understand what is happening\n",
    "\n",
    "   QUESTION: Why do we convert to multiple columns?\n",
    "\n",
    "3. Explain to the rest of the group what you did"
   ],
   "cell_type": "markdown",
   "metadata": {}
  },
  {
   "cell_type": "code",
   "execution_count": 1,
   "metadata": {},
   "outputs": [],
   "source": [
    "import pandas as pd\n",
    "from sklearn.preprocessing import OneHotEncoder\n"
   ]
  },
  {
   "cell_type": "code",
   "execution_count": 10,
   "metadata": {},
   "outputs": [
    {
     "output_type": "execute_result",
     "data": {
      "text/plain": [
       "  studyName  Sample Number Species  Region     Island               Stage  \\\n",
       "0   PAL0708              1  Adelie  Anvers  Torgersen  Adult, 1 Egg Stage   \n",
       "\n",
       "  Individual ID Clutch Completion  Date Egg  Culmen Length (mm)  \\\n",
       "0          N1A1               Yes  11/11/07                39.1   \n",
       "\n",
       "   Culmen Depth (mm)  Flipper Length (mm)  Body Mass (g) Real ID   Sex  \n",
       "0               18.7                181.0         3750.0     A_0  MALE  "
      ],
      "text/html": "<div>\n<style scoped>\n    .dataframe tbody tr th:only-of-type {\n        vertical-align: middle;\n    }\n\n    .dataframe tbody tr th {\n        vertical-align: top;\n    }\n\n    .dataframe thead th {\n        text-align: right;\n    }\n</style>\n<table border=\"1\" class=\"dataframe\">\n  <thead>\n    <tr style=\"text-align: right;\">\n      <th></th>\n      <th>studyName</th>\n      <th>Sample Number</th>\n      <th>Species</th>\n      <th>Region</th>\n      <th>Island</th>\n      <th>Stage</th>\n      <th>Individual ID</th>\n      <th>Clutch Completion</th>\n      <th>Date Egg</th>\n      <th>Culmen Length (mm)</th>\n      <th>Culmen Depth (mm)</th>\n      <th>Flipper Length (mm)</th>\n      <th>Body Mass (g)</th>\n      <th>Real ID</th>\n      <th>Sex</th>\n    </tr>\n  </thead>\n  <tbody>\n    <tr>\n      <th>0</th>\n      <td>PAL0708</td>\n      <td>1</td>\n      <td>Adelie</td>\n      <td>Anvers</td>\n      <td>Torgersen</td>\n      <td>Adult, 1 Egg Stage</td>\n      <td>N1A1</td>\n      <td>Yes</td>\n      <td>11/11/07</td>\n      <td>39.1</td>\n      <td>18.7</td>\n      <td>181.0</td>\n      <td>3750.0</td>\n      <td>A_0</td>\n      <td>MALE</td>\n    </tr>\n  </tbody>\n</table>\n</div>"
     },
     "metadata": {},
     "execution_count": 10
    }
   ],
   "source": [
    "df = pd.read_csv('all_penguins_clean.csv')\n",
    "df.head(1)"
   ]
  },
  {
   "cell_type": "code",
   "execution_count": 31,
   "metadata": {},
   "outputs": [
    {
     "output_type": "stream",
     "name": "stdout",
     "text": [
      "[[0. 0.]\n [0. 0.]\n [0. 0.]\n [0. 0.]\n [0. 0.]\n [0. 0.]\n [0. 0.]\n [0. 0.]\n [0. 0.]\n [0. 0.]\n [0. 0.]\n [0. 0.]\n [0. 0.]\n [0. 0.]\n [0. 0.]\n [0. 0.]\n [0. 0.]\n [0. 0.]\n [0. 0.]\n [0. 0.]\n [0. 0.]\n [0. 0.]\n [0. 0.]\n [0. 0.]\n [0. 0.]\n [0. 0.]\n [0. 0.]\n [0. 0.]\n [0. 0.]\n [0. 0.]\n [0. 0.]\n [0. 0.]\n [0. 0.]\n [0. 0.]\n [0. 0.]\n [0. 0.]\n [0. 0.]\n [0. 0.]\n [0. 0.]\n [0. 0.]\n [0. 0.]\n [0. 0.]\n [0. 0.]\n [0. 0.]\n [0. 0.]\n [0. 0.]\n [0. 0.]\n [0. 0.]\n [0. 0.]\n [0. 0.]\n [0. 0.]\n [0. 0.]\n [0. 0.]\n [0. 0.]\n [0. 0.]\n [0. 0.]\n [0. 0.]\n [0. 0.]\n [0. 0.]\n [0. 0.]\n [0. 0.]\n [0. 0.]\n [0. 0.]\n [0. 0.]\n [0. 0.]\n [0. 0.]\n [0. 0.]\n [0. 0.]\n [0. 0.]\n [0. 0.]\n [0. 0.]\n [0. 0.]\n [0. 0.]\n [0. 0.]\n [0. 0.]\n [0. 0.]\n [0. 0.]\n [0. 0.]\n [0. 0.]\n [0. 0.]\n [0. 0.]\n [0. 0.]\n [0. 0.]\n [0. 0.]\n [0. 0.]\n [0. 0.]\n [0. 0.]\n [0. 0.]\n [0. 0.]\n [0. 0.]\n [0. 0.]\n [0. 0.]\n [0. 0.]\n [0. 0.]\n [0. 0.]\n [0. 0.]\n [0. 0.]\n [0. 0.]\n [0. 0.]\n [0. 0.]\n [0. 0.]\n [0. 0.]\n [0. 0.]\n [0. 0.]\n [0. 0.]\n [0. 0.]\n [0. 0.]\n [0. 0.]\n [0. 0.]\n [0. 0.]\n [0. 0.]\n [0. 0.]\n [0. 0.]\n [0. 0.]\n [0. 0.]\n [0. 0.]\n [0. 0.]\n [0. 0.]\n [0. 0.]\n [0. 0.]\n [0. 0.]\n [0. 0.]\n [0. 0.]\n [0. 0.]\n [0. 0.]\n [0. 0.]\n [0. 0.]\n [0. 0.]\n [0. 0.]\n [0. 0.]\n [0. 0.]\n [0. 0.]\n [0. 0.]\n [0. 0.]\n [0. 0.]\n [0. 0.]\n [0. 0.]\n [0. 0.]\n [0. 0.]\n [0. 0.]\n [0. 0.]\n [0. 0.]\n [0. 0.]\n [0. 0.]\n [0. 0.]\n [0. 0.]\n [0. 0.]\n [0. 0.]\n [0. 0.]\n [0. 0.]\n [0. 0.]\n [0. 0.]\n [1. 0.]\n [1. 0.]\n [1. 0.]\n [1. 0.]\n [1. 0.]\n [1. 0.]\n [1. 0.]\n [1. 0.]\n [1. 0.]\n [1. 0.]\n [1. 0.]\n [1. 0.]\n [1. 0.]\n [1. 0.]\n [1. 0.]\n [1. 0.]\n [1. 0.]\n [1. 0.]\n [1. 0.]\n [1. 0.]\n [1. 0.]\n [1. 0.]\n [1. 0.]\n [1. 0.]\n [1. 0.]\n [1. 0.]\n [1. 0.]\n [1. 0.]\n [1. 0.]\n [1. 0.]\n [1. 0.]\n [1. 0.]\n [1. 0.]\n [1. 0.]\n [1. 0.]\n [1. 0.]\n [1. 0.]\n [1. 0.]\n [1. 0.]\n [1. 0.]\n [1. 0.]\n [1. 0.]\n [1. 0.]\n [1. 0.]\n [1. 0.]\n [1. 0.]\n [1. 0.]\n [1. 0.]\n [1. 0.]\n [1. 0.]\n [1. 0.]\n [1. 0.]\n [1. 0.]\n [1. 0.]\n [1. 0.]\n [1. 0.]\n [1. 0.]\n [1. 0.]\n [1. 0.]\n [1. 0.]\n [1. 0.]\n [1. 0.]\n [1. 0.]\n [1. 0.]\n [1. 0.]\n [1. 0.]\n [1. 0.]\n [1. 0.]\n [0. 1.]\n [0. 1.]\n [0. 1.]\n [0. 1.]\n [0. 1.]\n [0. 1.]\n [0. 1.]\n [0. 1.]\n [0. 1.]\n [0. 1.]\n [0. 1.]\n [0. 1.]\n [0. 1.]\n [0. 1.]\n [0. 1.]\n [0. 1.]\n [0. 1.]\n [0. 1.]\n [0. 1.]\n [0. 1.]\n [0. 1.]\n [0. 1.]\n [0. 1.]\n [0. 1.]\n [0. 1.]\n [0. 1.]\n [0. 1.]\n [0. 1.]\n [0. 1.]\n [0. 1.]\n [0. 1.]\n [0. 1.]\n [0. 1.]\n [0. 1.]\n [0. 1.]\n [0. 1.]\n [0. 1.]\n [0. 1.]\n [0. 1.]\n [0. 1.]\n [0. 1.]\n [0. 1.]\n [0. 1.]\n [0. 1.]\n [0. 1.]\n [0. 1.]\n [0. 1.]\n [0. 1.]\n [0. 1.]\n [0. 1.]\n [0. 1.]\n [0. 1.]\n [0. 1.]\n [0. 1.]\n [0. 1.]\n [0. 1.]\n [0. 1.]\n [0. 1.]\n [0. 1.]\n [0. 1.]\n [0. 1.]\n [0. 1.]\n [0. 1.]\n [0. 1.]\n [0. 1.]\n [0. 1.]\n [0. 1.]\n [0. 1.]\n [0. 1.]\n [0. 1.]\n [0. 1.]\n [0. 1.]\n [0. 1.]\n [0. 1.]\n [0. 1.]\n [0. 1.]\n [0. 1.]\n [0. 1.]\n [0. 1.]\n [0. 1.]\n [0. 1.]\n [0. 1.]\n [0. 1.]\n [0. 1.]\n [0. 1.]\n [0. 1.]\n [0. 1.]\n [0. 1.]\n [0. 1.]\n [0. 1.]\n [0. 1.]\n [0. 1.]\n [0. 1.]\n [0. 1.]\n [0. 1.]\n [0. 1.]\n [0. 1.]\n [0. 1.]\n [0. 1.]\n [0. 1.]\n [0. 1.]\n [0. 1.]\n [0. 1.]\n [0. 1.]\n [0. 1.]\n [0. 1.]\n [0. 1.]\n [0. 1.]\n [0. 1.]\n [0. 1.]\n [0. 1.]\n [0. 1.]\n [0. 1.]\n [0. 1.]\n [0. 1.]\n [0. 1.]\n [0. 1.]\n [0. 1.]\n [0. 1.]\n [0. 1.]\n [0. 1.]\n [0. 1.]\n [0. 1.]\n [0. 1.]]\n    Species\n0    Adelie\n1    Adelie\n2    Adelie\n3    Adelie\n4    Adelie\n..      ...\n339  Gentoo\n340  Gentoo\n341  Gentoo\n342  Gentoo\n343  Gentoo\n\n[344 rows x 1 columns]\n"
     ]
    }
   ],
   "source": [
    "# transform a categorical column\n",
    "ohc = OneHotEncoder(sparse=False, handle_unknown='error',drop='first')\n",
    "cols = df[['Species']]\n",
    "ohc.fit(cols)           # learn the classes\n",
    "t = ohc.transform(cols)  # result is a numpy array\n",
    "print(t)\n",
    "print(cols)\n"
   ]
  },
  {
   "cell_type": "code",
   "execution_count": null,
   "metadata": {},
   "outputs": [],
   "source": []
  },
  {
   "cell_type": "code",
   "execution_count": 32,
   "metadata": {},
   "outputs": [
    {
     "output_type": "execute_result",
     "data": {
      "text/plain": [
       "   x0_Chinstrap  x0_Gentoo\n",
       "0           0.0        0.0\n",
       "1           0.0        0.0\n",
       "2           0.0        0.0\n",
       "3           0.0        0.0\n",
       "4           0.0        0.0"
      ],
      "text/html": "<div>\n<style scoped>\n    .dataframe tbody tr th:only-of-type {\n        vertical-align: middle;\n    }\n\n    .dataframe tbody tr th {\n        vertical-align: top;\n    }\n\n    .dataframe thead th {\n        text-align: right;\n    }\n</style>\n<table border=\"1\" class=\"dataframe\">\n  <thead>\n    <tr style=\"text-align: right;\">\n      <th></th>\n      <th>x0_Chinstrap</th>\n      <th>x0_Gentoo</th>\n    </tr>\n  </thead>\n  <tbody>\n    <tr>\n      <th>0</th>\n      <td>0.0</td>\n      <td>0.0</td>\n    </tr>\n    <tr>\n      <th>1</th>\n      <td>0.0</td>\n      <td>0.0</td>\n    </tr>\n    <tr>\n      <th>2</th>\n      <td>0.0</td>\n      <td>0.0</td>\n    </tr>\n    <tr>\n      <th>3</th>\n      <td>0.0</td>\n      <td>0.0</td>\n    </tr>\n    <tr>\n      <th>4</th>\n      <td>0.0</td>\n      <td>0.0</td>\n    </tr>\n  </tbody>\n</table>\n</div>"
     },
     "metadata": {},
     "execution_count": 32
    }
   ],
   "source": [
    "# format output as a DataFame\n",
    "species = pd.DataFrame(t, columns=ohc.get_feature_names())\n",
    "species.head()"
   ]
  },
  {
   "cell_type": "code",
   "execution_count": 33,
   "metadata": {},
   "outputs": [],
   "source": [
    "# BONUS: include a second column\n",
    "ild = df[['Island']]\n",
    "ohc.fit(ild)            # learn the classes\n",
    "c = ohc.transform(ild)  # result is a numpy array\n"
   ]
  },
  {
   "cell_type": "code",
   "execution_count": 34,
   "metadata": {},
   "outputs": [
    {
     "output_type": "execute_result",
     "data": {
      "text/plain": [
       "   x0_Dream  x0_Torgersen\n",
       "0       0.0           1.0\n",
       "1       0.0           1.0\n",
       "2       0.0           1.0\n",
       "3       0.0           1.0\n",
       "4       0.0           1.0"
      ],
      "text/html": "<div>\n<style scoped>\n    .dataframe tbody tr th:only-of-type {\n        vertical-align: middle;\n    }\n\n    .dataframe tbody tr th {\n        vertical-align: top;\n    }\n\n    .dataframe thead th {\n        text-align: right;\n    }\n</style>\n<table border=\"1\" class=\"dataframe\">\n  <thead>\n    <tr style=\"text-align: right;\">\n      <th></th>\n      <th>x0_Dream</th>\n      <th>x0_Torgersen</th>\n    </tr>\n  </thead>\n  <tbody>\n    <tr>\n      <th>0</th>\n      <td>0.0</td>\n      <td>1.0</td>\n    </tr>\n    <tr>\n      <th>1</th>\n      <td>0.0</td>\n      <td>1.0</td>\n    </tr>\n    <tr>\n      <th>2</th>\n      <td>0.0</td>\n      <td>1.0</td>\n    </tr>\n    <tr>\n      <th>3</th>\n      <td>0.0</td>\n      <td>1.0</td>\n    </tr>\n    <tr>\n      <th>4</th>\n      <td>0.0</td>\n      <td>1.0</td>\n    </tr>\n  </tbody>\n</table>\n</div>"
     },
     "metadata": {},
     "execution_count": 34
    }
   ],
   "source": [
    "islands = pd.DataFrame(c, columns=ohc.get_feature_names())\n",
    "islands.head()"
   ]
  },
  {
   "cell_type": "code",
   "execution_count": 35,
   "metadata": {},
   "outputs": [
    {
     "output_type": "execute_result",
     "data": {
      "text/plain": [
       "Index(['studyName', 'Sample Number', 'Species', 'Region', 'Island', 'Stage',\n",
       "       'Individual ID', 'Clutch Completion', 'Date Egg', 'Culmen Length (mm)',\n",
       "       'Culmen Depth (mm)', 'Flipper Length (mm)', 'Body Mass (g)', 'Real ID',\n",
       "       'Sex', 'x0_Dream', 'x0_Torgersen', 'x0_Chinstrap', 'x0_Gentoo'],\n",
       "      dtype='object')"
      ]
     },
     "metadata": {},
     "execution_count": 35
    }
   ],
   "source": [
    "df_all =df\n",
    "df_all = df_all.join(islands)\n",
    "df_all =df_all.join(species)\n",
    "df_all.columns"
   ]
  },
  {
   "cell_type": "code",
   "execution_count": 36,
   "metadata": {},
   "outputs": [
    {
     "output_type": "execute_result",
     "data": {
      "text/plain": [
       "    studyName  Sample Number Species  Region     Island               Stage  \\\n",
       "0     PAL0708              1  Adelie  Anvers  Torgersen  Adult, 1 Egg Stage   \n",
       "1     PAL0708              2  Adelie  Anvers  Torgersen  Adult, 1 Egg Stage   \n",
       "2     PAL0708              3  Adelie  Anvers  Torgersen  Adult, 1 Egg Stage   \n",
       "3     PAL0708              4  Adelie  Anvers  Torgersen  Adult, 1 Egg Stage   \n",
       "4     PAL0708              5  Adelie  Anvers  Torgersen  Adult, 1 Egg Stage   \n",
       "..        ...            ...     ...     ...        ...                 ...   \n",
       "339   PAL0910            120  Gentoo  Anvers     Biscoe  Adult, 1 Egg Stage   \n",
       "340   PAL0910            121  Gentoo  Anvers     Biscoe  Adult, 1 Egg Stage   \n",
       "341   PAL0910            122  Gentoo  Anvers     Biscoe  Adult, 1 Egg Stage   \n",
       "342   PAL0910            123  Gentoo  Anvers     Biscoe  Adult, 1 Egg Stage   \n",
       "343   PAL0910            124  Gentoo  Anvers     Biscoe  Adult, 1 Egg Stage   \n",
       "\n",
       "    Individual ID Clutch Completion  Date Egg  Culmen Length (mm)  \\\n",
       "0            N1A1               Yes  11/11/07                39.1   \n",
       "1            N1A2               Yes  11/11/07                39.5   \n",
       "2            N2A1               Yes  11/16/07                40.3   \n",
       "3            N2A2               Yes  11/16/07                 NaN   \n",
       "4            N3A1               Yes  11/16/07                36.7   \n",
       "..            ...               ...       ...                 ...   \n",
       "339         N38A2                No   12/1/09                 NaN   \n",
       "340         N39A1               Yes  11/22/09                46.8   \n",
       "341         N39A2               Yes  11/22/09                50.4   \n",
       "342         N43A1               Yes  11/22/09                45.2   \n",
       "343         N43A2               Yes  11/22/09                49.9   \n",
       "\n",
       "     Culmen Depth (mm)  Flipper Length (mm)  Body Mass (g) Real ID     Sex  \\\n",
       "0                 18.7                181.0         3750.0     A_0    MALE   \n",
       "1                 17.4                186.0         3800.0     A_1  FEMALE   \n",
       "2                 18.0                195.0         3250.0     A_2  FEMALE   \n",
       "3                  NaN                  NaN            NaN     A_3     NaN   \n",
       "4                 19.3                193.0         3450.0     A_4  FEMALE   \n",
       "..                 ...                  ...            ...     ...     ...   \n",
       "339                NaN                  NaN            NaN   G_339     NaN   \n",
       "340               14.3                215.0         4850.0   G_340  FEMALE   \n",
       "341               15.7                222.0         5750.0   G_341    MALE   \n",
       "342               14.8                212.0         5200.0   G_342  FEMALE   \n",
       "343               16.1                213.0         5400.0   G_343    MALE   \n",
       "\n",
       "     x0_Dream  x0_Torgersen  x0_Chinstrap  x0_Gentoo  \n",
       "0         0.0           1.0           0.0        0.0  \n",
       "1         0.0           1.0           0.0        0.0  \n",
       "2         0.0           1.0           0.0        0.0  \n",
       "3         0.0           1.0           0.0        0.0  \n",
       "4         0.0           1.0           0.0        0.0  \n",
       "..        ...           ...           ...        ...  \n",
       "339       0.0           0.0           0.0        1.0  \n",
       "340       0.0           0.0           0.0        1.0  \n",
       "341       0.0           0.0           0.0        1.0  \n",
       "342       0.0           0.0           0.0        1.0  \n",
       "343       0.0           0.0           0.0        1.0  \n",
       "\n",
       "[344 rows x 19 columns]"
      ],
      "text/html": "<div>\n<style scoped>\n    .dataframe tbody tr th:only-of-type {\n        vertical-align: middle;\n    }\n\n    .dataframe tbody tr th {\n        vertical-align: top;\n    }\n\n    .dataframe thead th {\n        text-align: right;\n    }\n</style>\n<table border=\"1\" class=\"dataframe\">\n  <thead>\n    <tr style=\"text-align: right;\">\n      <th></th>\n      <th>studyName</th>\n      <th>Sample Number</th>\n      <th>Species</th>\n      <th>Region</th>\n      <th>Island</th>\n      <th>Stage</th>\n      <th>Individual ID</th>\n      <th>Clutch Completion</th>\n      <th>Date Egg</th>\n      <th>Culmen Length (mm)</th>\n      <th>Culmen Depth (mm)</th>\n      <th>Flipper Length (mm)</th>\n      <th>Body Mass (g)</th>\n      <th>Real ID</th>\n      <th>Sex</th>\n      <th>x0_Dream</th>\n      <th>x0_Torgersen</th>\n      <th>x0_Chinstrap</th>\n      <th>x0_Gentoo</th>\n    </tr>\n  </thead>\n  <tbody>\n    <tr>\n      <th>0</th>\n      <td>PAL0708</td>\n      <td>1</td>\n      <td>Adelie</td>\n      <td>Anvers</td>\n      <td>Torgersen</td>\n      <td>Adult, 1 Egg Stage</td>\n      <td>N1A1</td>\n      <td>Yes</td>\n      <td>11/11/07</td>\n      <td>39.1</td>\n      <td>18.7</td>\n      <td>181.0</td>\n      <td>3750.0</td>\n      <td>A_0</td>\n      <td>MALE</td>\n      <td>0.0</td>\n      <td>1.0</td>\n      <td>0.0</td>\n      <td>0.0</td>\n    </tr>\n    <tr>\n      <th>1</th>\n      <td>PAL0708</td>\n      <td>2</td>\n      <td>Adelie</td>\n      <td>Anvers</td>\n      <td>Torgersen</td>\n      <td>Adult, 1 Egg Stage</td>\n      <td>N1A2</td>\n      <td>Yes</td>\n      <td>11/11/07</td>\n      <td>39.5</td>\n      <td>17.4</td>\n      <td>186.0</td>\n      <td>3800.0</td>\n      <td>A_1</td>\n      <td>FEMALE</td>\n      <td>0.0</td>\n      <td>1.0</td>\n      <td>0.0</td>\n      <td>0.0</td>\n    </tr>\n    <tr>\n      <th>2</th>\n      <td>PAL0708</td>\n      <td>3</td>\n      <td>Adelie</td>\n      <td>Anvers</td>\n      <td>Torgersen</td>\n      <td>Adult, 1 Egg Stage</td>\n      <td>N2A1</td>\n      <td>Yes</td>\n      <td>11/16/07</td>\n      <td>40.3</td>\n      <td>18.0</td>\n      <td>195.0</td>\n      <td>3250.0</td>\n      <td>A_2</td>\n      <td>FEMALE</td>\n      <td>0.0</td>\n      <td>1.0</td>\n      <td>0.0</td>\n      <td>0.0</td>\n    </tr>\n    <tr>\n      <th>3</th>\n      <td>PAL0708</td>\n      <td>4</td>\n      <td>Adelie</td>\n      <td>Anvers</td>\n      <td>Torgersen</td>\n      <td>Adult, 1 Egg Stage</td>\n      <td>N2A2</td>\n      <td>Yes</td>\n      <td>11/16/07</td>\n      <td>NaN</td>\n      <td>NaN</td>\n      <td>NaN</td>\n      <td>NaN</td>\n      <td>A_3</td>\n      <td>NaN</td>\n      <td>0.0</td>\n      <td>1.0</td>\n      <td>0.0</td>\n      <td>0.0</td>\n    </tr>\n    <tr>\n      <th>4</th>\n      <td>PAL0708</td>\n      <td>5</td>\n      <td>Adelie</td>\n      <td>Anvers</td>\n      <td>Torgersen</td>\n      <td>Adult, 1 Egg Stage</td>\n      <td>N3A1</td>\n      <td>Yes</td>\n      <td>11/16/07</td>\n      <td>36.7</td>\n      <td>19.3</td>\n      <td>193.0</td>\n      <td>3450.0</td>\n      <td>A_4</td>\n      <td>FEMALE</td>\n      <td>0.0</td>\n      <td>1.0</td>\n      <td>0.0</td>\n      <td>0.0</td>\n    </tr>\n    <tr>\n      <th>...</th>\n      <td>...</td>\n      <td>...</td>\n      <td>...</td>\n      <td>...</td>\n      <td>...</td>\n      <td>...</td>\n      <td>...</td>\n      <td>...</td>\n      <td>...</td>\n      <td>...</td>\n      <td>...</td>\n      <td>...</td>\n      <td>...</td>\n      <td>...</td>\n      <td>...</td>\n      <td>...</td>\n      <td>...</td>\n      <td>...</td>\n      <td>...</td>\n    </tr>\n    <tr>\n      <th>339</th>\n      <td>PAL0910</td>\n      <td>120</td>\n      <td>Gentoo</td>\n      <td>Anvers</td>\n      <td>Biscoe</td>\n      <td>Adult, 1 Egg Stage</td>\n      <td>N38A2</td>\n      <td>No</td>\n      <td>12/1/09</td>\n      <td>NaN</td>\n      <td>NaN</td>\n      <td>NaN</td>\n      <td>NaN</td>\n      <td>G_339</td>\n      <td>NaN</td>\n      <td>0.0</td>\n      <td>0.0</td>\n      <td>0.0</td>\n      <td>1.0</td>\n    </tr>\n    <tr>\n      <th>340</th>\n      <td>PAL0910</td>\n      <td>121</td>\n      <td>Gentoo</td>\n      <td>Anvers</td>\n      <td>Biscoe</td>\n      <td>Adult, 1 Egg Stage</td>\n      <td>N39A1</td>\n      <td>Yes</td>\n      <td>11/22/09</td>\n      <td>46.8</td>\n      <td>14.3</td>\n      <td>215.0</td>\n      <td>4850.0</td>\n      <td>G_340</td>\n      <td>FEMALE</td>\n      <td>0.0</td>\n      <td>0.0</td>\n      <td>0.0</td>\n      <td>1.0</td>\n    </tr>\n    <tr>\n      <th>341</th>\n      <td>PAL0910</td>\n      <td>122</td>\n      <td>Gentoo</td>\n      <td>Anvers</td>\n      <td>Biscoe</td>\n      <td>Adult, 1 Egg Stage</td>\n      <td>N39A2</td>\n      <td>Yes</td>\n      <td>11/22/09</td>\n      <td>50.4</td>\n      <td>15.7</td>\n      <td>222.0</td>\n      <td>5750.0</td>\n      <td>G_341</td>\n      <td>MALE</td>\n      <td>0.0</td>\n      <td>0.0</td>\n      <td>0.0</td>\n      <td>1.0</td>\n    </tr>\n    <tr>\n      <th>342</th>\n      <td>PAL0910</td>\n      <td>123</td>\n      <td>Gentoo</td>\n      <td>Anvers</td>\n      <td>Biscoe</td>\n      <td>Adult, 1 Egg Stage</td>\n      <td>N43A1</td>\n      <td>Yes</td>\n      <td>11/22/09</td>\n      <td>45.2</td>\n      <td>14.8</td>\n      <td>212.0</td>\n      <td>5200.0</td>\n      <td>G_342</td>\n      <td>FEMALE</td>\n      <td>0.0</td>\n      <td>0.0</td>\n      <td>0.0</td>\n      <td>1.0</td>\n    </tr>\n    <tr>\n      <th>343</th>\n      <td>PAL0910</td>\n      <td>124</td>\n      <td>Gentoo</td>\n      <td>Anvers</td>\n      <td>Biscoe</td>\n      <td>Adult, 1 Egg Stage</td>\n      <td>N43A2</td>\n      <td>Yes</td>\n      <td>11/22/09</td>\n      <td>49.9</td>\n      <td>16.1</td>\n      <td>213.0</td>\n      <td>5400.0</td>\n      <td>G_343</td>\n      <td>MALE</td>\n      <td>0.0</td>\n      <td>0.0</td>\n      <td>0.0</td>\n      <td>1.0</td>\n    </tr>\n  </tbody>\n</table>\n<p>344 rows × 19 columns</p>\n</div>"
     },
     "metadata": {},
     "execution_count": 36
    }
   ],
   "source": [
    "df_all"
   ]
  },
  {
   "cell_type": "code",
   "execution_count": null,
   "metadata": {},
   "outputs": [],
   "source": []
  }
 ]
}