{
 "metadata": {
  "language_info": {
   "codemirror_mode": {
    "name": "ipython",
    "version": 3
   },
   "file_extension": ".py",
   "mimetype": "text/x-python",
   "name": "python",
   "nbconvert_exporter": "python",
   "pygments_lexer": "ipython3",
   "version": "3.8.5"
  },
  "orig_nbformat": 4,
  "kernelspec": {
   "name": "python3",
   "display_name": "Python 3.8.5 64-bit (conda)"
  },
  "interpreter": {
   "hash": "b89eeedbdc0536dc3b9e0039c7383f02ce6be41de6f0c1496eea1f23aaecc7b1"
  }
 },
 "nbformat": 4,
 "nbformat_minor": 2,
 "cells": [
  {
   "cell_type": "code",
   "execution_count": 1,
   "metadata": {},
   "outputs": [],
   "source": [
    "import pandas as pd\n"
   ]
  },
  {
   "cell_type": "code",
   "execution_count": 5,
   "metadata": {},
   "outputs": [],
   "source": [
    "df = pd.read_excel(\"gapminder_lifeexpectancy.xlsx\",index_col=0)"
   ]
  },
  {
   "cell_type": "code",
   "execution_count": 6,
   "metadata": {},
   "outputs": [
    {
     "output_type": "execute_result",
     "data": {
      "text/plain": [
       "                        1800   1801   1802   1803   1804   1805   1806   1807  \\\n",
       "Life expectancy                                                                 \n",
       "Abkhazia                 NaN    NaN    NaN    NaN    NaN    NaN    NaN    NaN   \n",
       "Afghanistan            28.21  28.20  28.19  28.18  28.17  28.16  28.15  28.14   \n",
       "Akrotiri and Dhekelia    NaN    NaN    NaN    NaN    NaN    NaN    NaN    NaN   \n",
       "Albania                35.40  35.40  35.40  35.40  35.40  35.40  35.40  35.40   \n",
       "Algeria                28.82  28.82  28.82  28.82  28.82  28.82  28.82  28.82   \n",
       "...                      ...    ...    ...    ...    ...    ...    ...    ...   \n",
       "Yugoslavia               NaN    NaN    NaN    NaN    NaN    NaN    NaN    NaN   \n",
       "Zambia                 32.60  32.60  32.60  32.60  32.60  32.60  32.60  32.60   \n",
       "Zimbabwe               33.70  33.70  33.70  33.70  33.70  33.70  33.70  33.70   \n",
       "Åland                    NaN    NaN    NaN    NaN    NaN    NaN    NaN    NaN   \n",
       "South Sudan            26.67  26.67  26.67  26.67  26.67  26.67  26.67  26.67   \n",
       "\n",
       "                        1808   1809  ...  2007  2008  2009  2010  2011  2012  \\\n",
       "Life expectancy                      ...                                       \n",
       "Abkhazia                 NaN    NaN  ...   NaN   NaN   NaN   NaN   NaN   NaN   \n",
       "Afghanistan            28.13  28.12  ...  52.4  52.8  53.3  53.6  54.0  54.4   \n",
       "Akrotiri and Dhekelia    NaN    NaN  ...   NaN   NaN   NaN   NaN   NaN   NaN   \n",
       "Albania                35.40  35.40  ...  76.6  76.8  77.0  77.2  77.4  77.5   \n",
       "Algeria                28.82  28.82  ...  75.3  75.5  75.7  76.0  76.1  76.2   \n",
       "...                      ...    ...  ...   ...   ...   ...   ...   ...   ...   \n",
       "Yugoslavia               NaN    NaN  ...   NaN   NaN   NaN   NaN   NaN   NaN   \n",
       "Zambia                 32.60  32.60  ...  49.0  51.1  52.3  53.1  53.7  54.7   \n",
       "Zimbabwe               33.70  33.70  ...  46.4  47.3  48.0  49.1  51.6  54.2   \n",
       "Åland                    NaN    NaN  ...   NaN   NaN   NaN   NaN   NaN   NaN   \n",
       "South Sudan            26.67  26.67  ...  55.5  55.6  55.8  56.0  55.9  56.0   \n",
       "\n",
       "                       2013  2014  2015   2016  \n",
       "Life expectancy                                 \n",
       "Abkhazia                NaN   NaN   NaN    NaN  \n",
       "Afghanistan            54.8  54.9  53.8  52.72  \n",
       "Akrotiri and Dhekelia   NaN   NaN   NaN    NaN  \n",
       "Albania                77.7  77.9  78.0  78.10  \n",
       "Algeria                76.3  76.3  76.4  76.50  \n",
       "...                     ...   ...   ...    ...  \n",
       "Yugoslavia              NaN   NaN   NaN    NaN  \n",
       "Zambia                 55.6  56.3  56.7  57.10  \n",
       "Zimbabwe               55.7  57.0  59.3  61.69  \n",
       "Åland                   NaN   NaN   NaN    NaN  \n",
       "South Sudan            56.0  56.1  56.1  56.10  \n",
       "\n",
       "[260 rows x 217 columns]"
      ],
      "text/html": "<div>\n<style scoped>\n    .dataframe tbody tr th:only-of-type {\n        vertical-align: middle;\n    }\n\n    .dataframe tbody tr th {\n        vertical-align: top;\n    }\n\n    .dataframe thead th {\n        text-align: right;\n    }\n</style>\n<table border=\"1\" class=\"dataframe\">\n  <thead>\n    <tr style=\"text-align: right;\">\n      <th></th>\n      <th>1800</th>\n      <th>1801</th>\n      <th>1802</th>\n      <th>1803</th>\n      <th>1804</th>\n      <th>1805</th>\n      <th>1806</th>\n      <th>1807</th>\n      <th>1808</th>\n      <th>1809</th>\n      <th>...</th>\n      <th>2007</th>\n      <th>2008</th>\n      <th>2009</th>\n      <th>2010</th>\n      <th>2011</th>\n      <th>2012</th>\n      <th>2013</th>\n      <th>2014</th>\n      <th>2015</th>\n      <th>2016</th>\n    </tr>\n    <tr>\n      <th>Life expectancy</th>\n      <th></th>\n      <th></th>\n      <th></th>\n      <th></th>\n      <th></th>\n      <th></th>\n      <th></th>\n      <th></th>\n      <th></th>\n      <th></th>\n      <th></th>\n      <th></th>\n      <th></th>\n      <th></th>\n      <th></th>\n      <th></th>\n      <th></th>\n      <th></th>\n      <th></th>\n      <th></th>\n      <th></th>\n    </tr>\n  </thead>\n  <tbody>\n    <tr>\n      <th>Abkhazia</th>\n      <td>NaN</td>\n      <td>NaN</td>\n      <td>NaN</td>\n      <td>NaN</td>\n      <td>NaN</td>\n      <td>NaN</td>\n      <td>NaN</td>\n      <td>NaN</td>\n      <td>NaN</td>\n      <td>NaN</td>\n      <td>...</td>\n      <td>NaN</td>\n      <td>NaN</td>\n      <td>NaN</td>\n      <td>NaN</td>\n      <td>NaN</td>\n      <td>NaN</td>\n      <td>NaN</td>\n      <td>NaN</td>\n      <td>NaN</td>\n      <td>NaN</td>\n    </tr>\n    <tr>\n      <th>Afghanistan</th>\n      <td>28.21</td>\n      <td>28.20</td>\n      <td>28.19</td>\n      <td>28.18</td>\n      <td>28.17</td>\n      <td>28.16</td>\n      <td>28.15</td>\n      <td>28.14</td>\n      <td>28.13</td>\n      <td>28.12</td>\n      <td>...</td>\n      <td>52.4</td>\n      <td>52.8</td>\n      <td>53.3</td>\n      <td>53.6</td>\n      <td>54.0</td>\n      <td>54.4</td>\n      <td>54.8</td>\n      <td>54.9</td>\n      <td>53.8</td>\n      <td>52.72</td>\n    </tr>\n    <tr>\n      <th>Akrotiri and Dhekelia</th>\n      <td>NaN</td>\n      <td>NaN</td>\n      <td>NaN</td>\n      <td>NaN</td>\n      <td>NaN</td>\n      <td>NaN</td>\n      <td>NaN</td>\n      <td>NaN</td>\n      <td>NaN</td>\n      <td>NaN</td>\n      <td>...</td>\n      <td>NaN</td>\n      <td>NaN</td>\n      <td>NaN</td>\n      <td>NaN</td>\n      <td>NaN</td>\n      <td>NaN</td>\n      <td>NaN</td>\n      <td>NaN</td>\n      <td>NaN</td>\n      <td>NaN</td>\n    </tr>\n    <tr>\n      <th>Albania</th>\n      <td>35.40</td>\n      <td>35.40</td>\n      <td>35.40</td>\n      <td>35.40</td>\n      <td>35.40</td>\n      <td>35.40</td>\n      <td>35.40</td>\n      <td>35.40</td>\n      <td>35.40</td>\n      <td>35.40</td>\n      <td>...</td>\n      <td>76.6</td>\n      <td>76.8</td>\n      <td>77.0</td>\n      <td>77.2</td>\n      <td>77.4</td>\n      <td>77.5</td>\n      <td>77.7</td>\n      <td>77.9</td>\n      <td>78.0</td>\n      <td>78.10</td>\n    </tr>\n    <tr>\n      <th>Algeria</th>\n      <td>28.82</td>\n      <td>28.82</td>\n      <td>28.82</td>\n      <td>28.82</td>\n      <td>28.82</td>\n      <td>28.82</td>\n      <td>28.82</td>\n      <td>28.82</td>\n      <td>28.82</td>\n      <td>28.82</td>\n      <td>...</td>\n      <td>75.3</td>\n      <td>75.5</td>\n      <td>75.7</td>\n      <td>76.0</td>\n      <td>76.1</td>\n      <td>76.2</td>\n      <td>76.3</td>\n      <td>76.3</td>\n      <td>76.4</td>\n      <td>76.50</td>\n    </tr>\n    <tr>\n      <th>...</th>\n      <td>...</td>\n      <td>...</td>\n      <td>...</td>\n      <td>...</td>\n      <td>...</td>\n      <td>...</td>\n      <td>...</td>\n      <td>...</td>\n      <td>...</td>\n      <td>...</td>\n      <td>...</td>\n      <td>...</td>\n      <td>...</td>\n      <td>...</td>\n      <td>...</td>\n      <td>...</td>\n      <td>...</td>\n      <td>...</td>\n      <td>...</td>\n      <td>...</td>\n      <td>...</td>\n    </tr>\n    <tr>\n      <th>Yugoslavia</th>\n      <td>NaN</td>\n      <td>NaN</td>\n      <td>NaN</td>\n      <td>NaN</td>\n      <td>NaN</td>\n      <td>NaN</td>\n      <td>NaN</td>\n      <td>NaN</td>\n      <td>NaN</td>\n      <td>NaN</td>\n      <td>...</td>\n      <td>NaN</td>\n      <td>NaN</td>\n      <td>NaN</td>\n      <td>NaN</td>\n      <td>NaN</td>\n      <td>NaN</td>\n      <td>NaN</td>\n      <td>NaN</td>\n      <td>NaN</td>\n      <td>NaN</td>\n    </tr>\n    <tr>\n      <th>Zambia</th>\n      <td>32.60</td>\n      <td>32.60</td>\n      <td>32.60</td>\n      <td>32.60</td>\n      <td>32.60</td>\n      <td>32.60</td>\n      <td>32.60</td>\n      <td>32.60</td>\n      <td>32.60</td>\n      <td>32.60</td>\n      <td>...</td>\n      <td>49.0</td>\n      <td>51.1</td>\n      <td>52.3</td>\n      <td>53.1</td>\n      <td>53.7</td>\n      <td>54.7</td>\n      <td>55.6</td>\n      <td>56.3</td>\n      <td>56.7</td>\n      <td>57.10</td>\n    </tr>\n    <tr>\n      <th>Zimbabwe</th>\n      <td>33.70</td>\n      <td>33.70</td>\n      <td>33.70</td>\n      <td>33.70</td>\n      <td>33.70</td>\n      <td>33.70</td>\n      <td>33.70</td>\n      <td>33.70</td>\n      <td>33.70</td>\n      <td>33.70</td>\n      <td>...</td>\n      <td>46.4</td>\n      <td>47.3</td>\n      <td>48.0</td>\n      <td>49.1</td>\n      <td>51.6</td>\n      <td>54.2</td>\n      <td>55.7</td>\n      <td>57.0</td>\n      <td>59.3</td>\n      <td>61.69</td>\n    </tr>\n    <tr>\n      <th>Åland</th>\n      <td>NaN</td>\n      <td>NaN</td>\n      <td>NaN</td>\n      <td>NaN</td>\n      <td>NaN</td>\n      <td>NaN</td>\n      <td>NaN</td>\n      <td>NaN</td>\n      <td>NaN</td>\n      <td>NaN</td>\n      <td>...</td>\n      <td>NaN</td>\n      <td>NaN</td>\n      <td>NaN</td>\n      <td>NaN</td>\n      <td>NaN</td>\n      <td>NaN</td>\n      <td>NaN</td>\n      <td>NaN</td>\n      <td>NaN</td>\n      <td>NaN</td>\n    </tr>\n    <tr>\n      <th>South Sudan</th>\n      <td>26.67</td>\n      <td>26.67</td>\n      <td>26.67</td>\n      <td>26.67</td>\n      <td>26.67</td>\n      <td>26.67</td>\n      <td>26.67</td>\n      <td>26.67</td>\n      <td>26.67</td>\n      <td>26.67</td>\n      <td>...</td>\n      <td>55.5</td>\n      <td>55.6</td>\n      <td>55.8</td>\n      <td>56.0</td>\n      <td>55.9</td>\n      <td>56.0</td>\n      <td>56.0</td>\n      <td>56.1</td>\n      <td>56.1</td>\n      <td>56.10</td>\n    </tr>\n  </tbody>\n</table>\n<p>260 rows × 217 columns</p>\n</div>"
     },
     "metadata": {},
     "execution_count": 6
    }
   ],
   "source": [
    "df"
   ]
  },
  {
   "cell_type": "code",
   "execution_count": 7,
   "metadata": {},
   "outputs": [],
   "source": [
    "life=df[1960].dropna()"
   ]
  },
  {
   "cell_type": "code",
   "execution_count": 8,
   "metadata": {},
   "outputs": [
    {
     "output_type": "execute_result",
     "data": {
      "text/plain": [
       "Life expectancy\n",
       "Afghanistan              31.94\n",
       "Albania                  62.87\n",
       "Algeria                  47.50\n",
       "Angola                   35.98\n",
       "Antigua and Barbuda      62.97\n",
       "                         ...  \n",
       "Virgin Islands (U.S.)    63.75\n",
       "Yemen                    32.64\n",
       "Zambia                   48.34\n",
       "Zimbabwe                 53.11\n",
       "South Sudan              34.61\n",
       "Name: 1960, Length: 202, dtype: float64"
      ]
     },
     "metadata": {},
     "execution_count": 8
    }
   ],
   "source": [
    "life"
   ]
  },
  {
   "cell_type": "code",
   "execution_count": 10,
   "metadata": {},
   "outputs": [
    {
     "output_type": "execute_result",
     "data": {
      "text/plain": [
       "54.73282178217823"
      ]
     },
     "metadata": {},
     "execution_count": 10
    }
   ],
   "source": [
    "life_expectancies_mean = life.mean()\n",
    "life_expectancies_mean"
   ]
  },
  {
   "cell_type": "code",
   "execution_count": 11,
   "metadata": {},
   "outputs": [
    {
     "output_type": "execute_result",
     "data": {
      "text/plain": [
       "56.185"
      ]
     },
     "metadata": {},
     "execution_count": 11
    }
   ],
   "source": [
    "life.median()"
   ]
  },
  {
   "cell_type": "code",
   "execution_count": 13,
   "metadata": {},
   "outputs": [
    {
     "output_type": "execute_result",
     "data": {
      "text/plain": [
       "11.689637178760742"
      ]
     },
     "metadata": {},
     "execution_count": 13
    }
   ],
   "source": [
    "life.std()"
   ]
  },
  {
   "cell_type": "code",
   "execution_count": 14,
   "metadata": {},
   "outputs": [
    {
     "output_type": "execute_result",
     "data": {
      "text/plain": [
       "136.64761737106542"
      ]
     },
     "metadata": {},
     "execution_count": 14
    }
   ],
   "source": [
    "life.var()"
   ]
  },
  {
   "cell_type": "code",
   "execution_count": 15,
   "metadata": {},
   "outputs": [
    {
     "output_type": "execute_result",
     "data": {
      "text/plain": [
       "74.22"
      ]
     },
     "metadata": {},
     "execution_count": 15
    }
   ],
   "source": [
    "life.max()"
   ]
  },
  {
   "cell_type": "code",
   "execution_count": 16,
   "metadata": {},
   "outputs": [
    {
     "output_type": "execute_result",
     "data": {
      "text/plain": [
       "29.61"
      ]
     },
     "metadata": {},
     "execution_count": 16
    }
   ],
   "source": [
    "life.min()"
   ]
  },
  {
   "cell_type": "code",
   "execution_count": 17,
   "metadata": {},
   "outputs": [
    {
     "output_type": "execute_result",
     "data": {
      "text/plain": [
       "202"
      ]
     },
     "metadata": {},
     "execution_count": 17
    }
   ],
   "source": [
    "life.count()"
   ]
  },
  {
   "cell_type": "code",
   "execution_count": 18,
   "metadata": {},
   "outputs": [
    {
     "output_type": "execute_result",
     "data": {
      "text/plain": [
       "69.707"
      ]
     },
     "metadata": {},
     "execution_count": 18
    }
   ],
   "source": [
    "life.quantile(.9)"
   ]
  },
  {
   "cell_type": "code",
   "execution_count": 19,
   "metadata": {},
   "outputs": [
    {
     "output_type": "execute_result",
     "data": {
      "text/plain": [
       "count    202.000000\n",
       "mean      54.732822\n",
       "std       11.689637\n",
       "min       29.610000\n",
       "25%       45.075000\n",
       "50%       56.185000\n",
       "75%       64.742500\n",
       "max       74.220000\n",
       "Name: 1960, dtype: float64"
      ]
     },
     "metadata": {},
     "execution_count": 19
    }
   ],
   "source": [
    "life.describe()"
   ]
  },
  {
   "cell_type": "code",
   "execution_count": null,
   "metadata": {},
   "outputs": [],
   "source": []
  },
  {
   "cell_type": "code",
   "execution_count": null,
   "metadata": {},
   "outputs": [],
   "source": []
  },
  {
   "cell_type": "code",
   "execution_count": null,
   "metadata": {},
   "outputs": [],
   "source": []
  }
 ]
}