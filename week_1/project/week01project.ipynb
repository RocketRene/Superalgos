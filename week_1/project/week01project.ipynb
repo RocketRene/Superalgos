{
 "metadata": {
  "language_info": {
   "codemirror_mode": {
    "name": "ipython",
    "version": 3
   },
   "file_extension": ".py",
   "mimetype": "text/x-python",
   "name": "python",
   "nbconvert_exporter": "python",
   "pygments_lexer": "ipython3",
   "version": "3.8.5"
  },
  "orig_nbformat": 4,
  "kernelspec": {
   "name": "python3",
   "display_name": "Python 3.8.5 64-bit (conda)"
  },
  "interpreter": {
   "hash": "b89eeedbdc0536dc3b9e0039c7383f02ce6be41de6f0c1496eea1f23aaecc7b1"
  }
 },
 "nbformat": 4,
 "nbformat_minor": 2,
 "cells": [
  {
   "cell_type": "code",
   "execution_count": 31,
   "metadata": {},
   "outputs": [],
   "source": [
    "import pandas as pd\n",
    "import seaborn as sns\n",
    "import matplotlib.pyplot as plt\n"
   ]
  },
  {
   "cell_type": "code",
   "execution_count": 32,
   "metadata": {},
   "outputs": [],
   "source": [
    "fert = pd.read_csv('gapminder_total_fertility.csv', index_col=0)\n",
    "life = pd.read_excel(\"gapminder_lifeexpectancy.xlsx\",index_col=0)\n",
    "pop = pd.read_excel(\"gapminder_population.xlsx\",index_col=0)"
   ]
  },
  {
   "cell_type": "code",
   "execution_count": 33,
   "metadata": {},
   "outputs": [
    {
     "output_type": "execute_result",
     "data": {
      "text/plain": [
       "(260, 217)"
      ]
     },
     "metadata": {},
     "execution_count": 33
    }
   ],
   "source": [
    "life.shape"
   ]
  },
  {
   "cell_type": "code",
   "execution_count": 34,
   "metadata": {},
   "outputs": [
    {
     "output_type": "execute_result",
     "data": {
      "text/plain": [
       "(260, 216)"
      ]
     },
     "metadata": {},
     "execution_count": 34
    }
   ],
   "source": [
    "fert.shape"
   ]
  },
  {
   "cell_type": "code",
   "execution_count": 35,
   "metadata": {},
   "outputs": [
    {
     "output_type": "execute_result",
     "data": {
      "text/plain": [
       "Int64Index([1800, 1801, 1802, 1803, 1804, 1805, 1806, 1807, 1808, 1809,\n",
       "            ...\n",
       "            2007, 2008, 2009, 2010, 2011, 2012, 2013, 2014, 2015, 2016],\n",
       "           dtype='int64', length=217)"
      ]
     },
     "metadata": {},
     "execution_count": 35
    }
   ],
   "source": [
    "life.columns"
   ]
  },
  {
   "cell_type": "code",
   "execution_count": 36,
   "metadata": {},
   "outputs": [
    {
     "output_type": "execute_result",
     "data": {
      "text/plain": [
       "Index(['1800', '1801', '1802', '1803', '1804', '1805', '1806', '1807', '1808',\n",
       "       '1809',\n",
       "       ...\n",
       "       '2006', '2007', '2008', '2009', '2010', '2011', '2012', '2013', '2014',\n",
       "       '2015'],\n",
       "      dtype='object', length=216)"
      ]
     },
     "metadata": {},
     "execution_count": 36
    }
   ],
   "source": [
    "fert.columns"
   ]
  },
  {
   "cell_type": "code",
   "execution_count": 37,
   "metadata": {},
   "outputs": [],
   "source": [
    "fert.columns = fert.columns.astype(int)"
   ]
  },
  {
   "cell_type": "code",
   "execution_count": 38,
   "metadata": {},
   "outputs": [
    {
     "output_type": "execute_result",
     "data": {
      "text/plain": [
       "Index(['Abkhazia', 'Afghanistan', 'Akrotiri and Dhekelia', 'Albania',\n",
       "       'Algeria', 'American Samoa', 'Andorra', 'Angola', 'Anguilla',\n",
       "       'Antigua and Barbuda',\n",
       "       ...\n",
       "       'Vietnam', 'Virgin Islands (U.S.)', 'North Yemen (former)',\n",
       "       'South Yemen (former)', 'Yemen', 'Yugoslavia', 'Zambia', 'Zimbabwe',\n",
       "       'Åland', 'Åland'],\n",
       "      dtype='object', name='Total fertility rate', length=260)"
      ]
     },
     "metadata": {},
     "execution_count": 38
    }
   ],
   "source": [
    "fert.index"
   ]
  },
  {
   "cell_type": "code",
   "execution_count": 39,
   "metadata": {},
   "outputs": [
    {
     "output_type": "execute_result",
     "data": {
      "text/plain": [
       "                       1800  1801  1802  1803  1804  1805  1806  1807  1808  \\\n",
       "country                                                                       \n",
       "Abkhazia                NaN   NaN   NaN   NaN   NaN   NaN   NaN   NaN   NaN   \n",
       "Afghanistan            7.00  7.00  7.00  7.00  7.00  7.00  7.00  7.00  7.00   \n",
       "Akrotiri and Dhekelia   NaN   NaN   NaN   NaN   NaN   NaN   NaN   NaN   NaN   \n",
       "Albania                4.60  4.60  4.60  4.60  4.60  4.60  4.60  4.60  4.60   \n",
       "Algeria                6.99  6.99  6.99  6.99  6.99  6.99  6.99  6.99  6.99   \n",
       "...                     ...   ...   ...   ...   ...   ...   ...   ...   ...   \n",
       "Yugoslavia              NaN   NaN   NaN   NaN   NaN   NaN   NaN   NaN   NaN   \n",
       "Zambia                 6.71  6.71  6.71  6.71  6.71  6.71  6.71  6.71  6.71   \n",
       "Zimbabwe               6.75  6.75  6.75  6.75  6.75  6.75  6.75  6.75  6.75   \n",
       "Åland                   NaN   NaN   NaN   NaN   NaN   NaN   NaN   NaN   NaN   \n",
       "Åland                   NaN   NaN   NaN   NaN   NaN   NaN   NaN   NaN   NaN   \n",
       "\n",
       "                       1809  ...  2006  2007  2008  2009  2010  2011  2012  \\\n",
       "country                      ...                                             \n",
       "Abkhazia                NaN  ...   NaN   NaN   NaN   NaN   NaN   NaN   NaN   \n",
       "Afghanistan            7.00  ...  6.70  6.46  6.20  5.93  5.66  5.40  5.14   \n",
       "Akrotiri and Dhekelia   NaN  ...   NaN   NaN   NaN   NaN   NaN   NaN   NaN   \n",
       "Albania                4.60  ...  1.85  1.80  1.76  1.74  1.74  1.75  1.76   \n",
       "Algeria                6.99  ...  2.58  2.66  2.73  2.78  2.82  2.83  2.82   \n",
       "...                     ...  ...   ...   ...   ...   ...   ...   ...   ...   \n",
       "Yugoslavia              NaN  ...   NaN   NaN   NaN   NaN   NaN   NaN   NaN   \n",
       "Zambia                 6.71  ...  5.93  5.91  5.88  5.85  5.81  5.77  5.73   \n",
       "Zimbabwe               6.75  ...  3.94  3.90  3.85  3.79  3.72  3.64  3.56   \n",
       "Åland                   NaN  ...   NaN   NaN   NaN   NaN   NaN   NaN   NaN   \n",
       "Åland                   NaN  ...   NaN   NaN   NaN   NaN   NaN   NaN   NaN   \n",
       "\n",
       "                       2013  2014  2015  \n",
       "country                                  \n",
       "Abkhazia                NaN   NaN   NaN  \n",
       "Afghanistan            4.90  4.68  4.47  \n",
       "Akrotiri and Dhekelia   NaN   NaN   NaN  \n",
       "Albania                1.77  1.78  1.78  \n",
       "Algeria                2.80  2.76  2.71  \n",
       "...                     ...   ...   ...  \n",
       "Yugoslavia              NaN   NaN   NaN  \n",
       "Zambia                 5.69  5.64  5.59  \n",
       "Zimbabwe               3.49  3.41  3.35  \n",
       "Åland                   NaN   NaN   NaN  \n",
       "Åland                   NaN   NaN   NaN  \n",
       "\n",
       "[260 rows x 216 columns]"
      ],
      "text/html": "<div>\n<style scoped>\n    .dataframe tbody tr th:only-of-type {\n        vertical-align: middle;\n    }\n\n    .dataframe tbody tr th {\n        vertical-align: top;\n    }\n\n    .dataframe thead th {\n        text-align: right;\n    }\n</style>\n<table border=\"1\" class=\"dataframe\">\n  <thead>\n    <tr style=\"text-align: right;\">\n      <th></th>\n      <th>1800</th>\n      <th>1801</th>\n      <th>1802</th>\n      <th>1803</th>\n      <th>1804</th>\n      <th>1805</th>\n      <th>1806</th>\n      <th>1807</th>\n      <th>1808</th>\n      <th>1809</th>\n      <th>...</th>\n      <th>2006</th>\n      <th>2007</th>\n      <th>2008</th>\n      <th>2009</th>\n      <th>2010</th>\n      <th>2011</th>\n      <th>2012</th>\n      <th>2013</th>\n      <th>2014</th>\n      <th>2015</th>\n    </tr>\n    <tr>\n      <th>country</th>\n      <th></th>\n      <th></th>\n      <th></th>\n      <th></th>\n      <th></th>\n      <th></th>\n      <th></th>\n      <th></th>\n      <th></th>\n      <th></th>\n      <th></th>\n      <th></th>\n      <th></th>\n      <th></th>\n      <th></th>\n      <th></th>\n      <th></th>\n      <th></th>\n      <th></th>\n      <th></th>\n      <th></th>\n    </tr>\n  </thead>\n  <tbody>\n    <tr>\n      <th>Abkhazia</th>\n      <td>NaN</td>\n      <td>NaN</td>\n      <td>NaN</td>\n      <td>NaN</td>\n      <td>NaN</td>\n      <td>NaN</td>\n      <td>NaN</td>\n      <td>NaN</td>\n      <td>NaN</td>\n      <td>NaN</td>\n      <td>...</td>\n      <td>NaN</td>\n      <td>NaN</td>\n      <td>NaN</td>\n      <td>NaN</td>\n      <td>NaN</td>\n      <td>NaN</td>\n      <td>NaN</td>\n      <td>NaN</td>\n      <td>NaN</td>\n      <td>NaN</td>\n    </tr>\n    <tr>\n      <th>Afghanistan</th>\n      <td>7.00</td>\n      <td>7.00</td>\n      <td>7.00</td>\n      <td>7.00</td>\n      <td>7.00</td>\n      <td>7.00</td>\n      <td>7.00</td>\n      <td>7.00</td>\n      <td>7.00</td>\n      <td>7.00</td>\n      <td>...</td>\n      <td>6.70</td>\n      <td>6.46</td>\n      <td>6.20</td>\n      <td>5.93</td>\n      <td>5.66</td>\n      <td>5.40</td>\n      <td>5.14</td>\n      <td>4.90</td>\n      <td>4.68</td>\n      <td>4.47</td>\n    </tr>\n    <tr>\n      <th>Akrotiri and Dhekelia</th>\n      <td>NaN</td>\n      <td>NaN</td>\n      <td>NaN</td>\n      <td>NaN</td>\n      <td>NaN</td>\n      <td>NaN</td>\n      <td>NaN</td>\n      <td>NaN</td>\n      <td>NaN</td>\n      <td>NaN</td>\n      <td>...</td>\n      <td>NaN</td>\n      <td>NaN</td>\n      <td>NaN</td>\n      <td>NaN</td>\n      <td>NaN</td>\n      <td>NaN</td>\n      <td>NaN</td>\n      <td>NaN</td>\n      <td>NaN</td>\n      <td>NaN</td>\n    </tr>\n    <tr>\n      <th>Albania</th>\n      <td>4.60</td>\n      <td>4.60</td>\n      <td>4.60</td>\n      <td>4.60</td>\n      <td>4.60</td>\n      <td>4.60</td>\n      <td>4.60</td>\n      <td>4.60</td>\n      <td>4.60</td>\n      <td>4.60</td>\n      <td>...</td>\n      <td>1.85</td>\n      <td>1.80</td>\n      <td>1.76</td>\n      <td>1.74</td>\n      <td>1.74</td>\n      <td>1.75</td>\n      <td>1.76</td>\n      <td>1.77</td>\n      <td>1.78</td>\n      <td>1.78</td>\n    </tr>\n    <tr>\n      <th>Algeria</th>\n      <td>6.99</td>\n      <td>6.99</td>\n      <td>6.99</td>\n      <td>6.99</td>\n      <td>6.99</td>\n      <td>6.99</td>\n      <td>6.99</td>\n      <td>6.99</td>\n      <td>6.99</td>\n      <td>6.99</td>\n      <td>...</td>\n      <td>2.58</td>\n      <td>2.66</td>\n      <td>2.73</td>\n      <td>2.78</td>\n      <td>2.82</td>\n      <td>2.83</td>\n      <td>2.82</td>\n      <td>2.80</td>\n      <td>2.76</td>\n      <td>2.71</td>\n    </tr>\n    <tr>\n      <th>...</th>\n      <td>...</td>\n      <td>...</td>\n      <td>...</td>\n      <td>...</td>\n      <td>...</td>\n      <td>...</td>\n      <td>...</td>\n      <td>...</td>\n      <td>...</td>\n      <td>...</td>\n      <td>...</td>\n      <td>...</td>\n      <td>...</td>\n      <td>...</td>\n      <td>...</td>\n      <td>...</td>\n      <td>...</td>\n      <td>...</td>\n      <td>...</td>\n      <td>...</td>\n      <td>...</td>\n    </tr>\n    <tr>\n      <th>Yugoslavia</th>\n      <td>NaN</td>\n      <td>NaN</td>\n      <td>NaN</td>\n      <td>NaN</td>\n      <td>NaN</td>\n      <td>NaN</td>\n      <td>NaN</td>\n      <td>NaN</td>\n      <td>NaN</td>\n      <td>NaN</td>\n      <td>...</td>\n      <td>NaN</td>\n      <td>NaN</td>\n      <td>NaN</td>\n      <td>NaN</td>\n      <td>NaN</td>\n      <td>NaN</td>\n      <td>NaN</td>\n      <td>NaN</td>\n      <td>NaN</td>\n      <td>NaN</td>\n    </tr>\n    <tr>\n      <th>Zambia</th>\n      <td>6.71</td>\n      <td>6.71</td>\n      <td>6.71</td>\n      <td>6.71</td>\n      <td>6.71</td>\n      <td>6.71</td>\n      <td>6.71</td>\n      <td>6.71</td>\n      <td>6.71</td>\n      <td>6.71</td>\n      <td>...</td>\n      <td>5.93</td>\n      <td>5.91</td>\n      <td>5.88</td>\n      <td>5.85</td>\n      <td>5.81</td>\n      <td>5.77</td>\n      <td>5.73</td>\n      <td>5.69</td>\n      <td>5.64</td>\n      <td>5.59</td>\n    </tr>\n    <tr>\n      <th>Zimbabwe</th>\n      <td>6.75</td>\n      <td>6.75</td>\n      <td>6.75</td>\n      <td>6.75</td>\n      <td>6.75</td>\n      <td>6.75</td>\n      <td>6.75</td>\n      <td>6.75</td>\n      <td>6.75</td>\n      <td>6.75</td>\n      <td>...</td>\n      <td>3.94</td>\n      <td>3.90</td>\n      <td>3.85</td>\n      <td>3.79</td>\n      <td>3.72</td>\n      <td>3.64</td>\n      <td>3.56</td>\n      <td>3.49</td>\n      <td>3.41</td>\n      <td>3.35</td>\n    </tr>\n    <tr>\n      <th>Åland</th>\n      <td>NaN</td>\n      <td>NaN</td>\n      <td>NaN</td>\n      <td>NaN</td>\n      <td>NaN</td>\n      <td>NaN</td>\n      <td>NaN</td>\n      <td>NaN</td>\n      <td>NaN</td>\n      <td>NaN</td>\n      <td>...</td>\n      <td>NaN</td>\n      <td>NaN</td>\n      <td>NaN</td>\n      <td>NaN</td>\n      <td>NaN</td>\n      <td>NaN</td>\n      <td>NaN</td>\n      <td>NaN</td>\n      <td>NaN</td>\n      <td>NaN</td>\n    </tr>\n    <tr>\n      <th>Åland</th>\n      <td>NaN</td>\n      <td>NaN</td>\n      <td>NaN</td>\n      <td>NaN</td>\n      <td>NaN</td>\n      <td>NaN</td>\n      <td>NaN</td>\n      <td>NaN</td>\n      <td>NaN</td>\n      <td>NaN</td>\n      <td>...</td>\n      <td>NaN</td>\n      <td>NaN</td>\n      <td>NaN</td>\n      <td>NaN</td>\n      <td>NaN</td>\n      <td>NaN</td>\n      <td>NaN</td>\n      <td>NaN</td>\n      <td>NaN</td>\n      <td>NaN</td>\n    </tr>\n  </tbody>\n</table>\n<p>260 rows × 216 columns</p>\n</div>"
     },
     "metadata": {},
     "execution_count": 39
    }
   ],
   "source": [
    "fert.index.name = 'country'\n",
    "fert"
   ]
  },
  {
   "cell_type": "code",
   "execution_count": 40,
   "metadata": {},
   "outputs": [
    {
     "output_type": "execute_result",
     "data": {
      "text/plain": [
       "                   country  1800  1801  1802  1803  1804  1805  1806  1807  \\\n",
       "0                 Abkhazia   NaN   NaN   NaN   NaN   NaN   NaN   NaN   NaN   \n",
       "1              Afghanistan  7.00  7.00  7.00  7.00  7.00  7.00  7.00  7.00   \n",
       "2    Akrotiri and Dhekelia   NaN   NaN   NaN   NaN   NaN   NaN   NaN   NaN   \n",
       "3                  Albania  4.60  4.60  4.60  4.60  4.60  4.60  4.60  4.60   \n",
       "4                  Algeria  6.99  6.99  6.99  6.99  6.99  6.99  6.99  6.99   \n",
       "..                     ...   ...   ...   ...   ...   ...   ...   ...   ...   \n",
       "255             Yugoslavia   NaN   NaN   NaN   NaN   NaN   NaN   NaN   NaN   \n",
       "256                 Zambia  6.71  6.71  6.71  6.71  6.71  6.71  6.71  6.71   \n",
       "257               Zimbabwe  6.75  6.75  6.75  6.75  6.75  6.75  6.75  6.75   \n",
       "258                  Åland   NaN   NaN   NaN   NaN   NaN   NaN   NaN   NaN   \n",
       "259                  Åland   NaN   NaN   NaN   NaN   NaN   NaN   NaN   NaN   \n",
       "\n",
       "     1808  ...  2006  2007  2008  2009  2010  2011  2012  2013  2014  2015  \n",
       "0     NaN  ...   NaN   NaN   NaN   NaN   NaN   NaN   NaN   NaN   NaN   NaN  \n",
       "1    7.00  ...  6.70  6.46  6.20  5.93  5.66  5.40  5.14  4.90  4.68  4.47  \n",
       "2     NaN  ...   NaN   NaN   NaN   NaN   NaN   NaN   NaN   NaN   NaN   NaN  \n",
       "3    4.60  ...  1.85  1.80  1.76  1.74  1.74  1.75  1.76  1.77  1.78  1.78  \n",
       "4    6.99  ...  2.58  2.66  2.73  2.78  2.82  2.83  2.82  2.80  2.76  2.71  \n",
       "..    ...  ...   ...   ...   ...   ...   ...   ...   ...   ...   ...   ...  \n",
       "255   NaN  ...   NaN   NaN   NaN   NaN   NaN   NaN   NaN   NaN   NaN   NaN  \n",
       "256  6.71  ...  5.93  5.91  5.88  5.85  5.81  5.77  5.73  5.69  5.64  5.59  \n",
       "257  6.75  ...  3.94  3.90  3.85  3.79  3.72  3.64  3.56  3.49  3.41  3.35  \n",
       "258   NaN  ...   NaN   NaN   NaN   NaN   NaN   NaN   NaN   NaN   NaN   NaN  \n",
       "259   NaN  ...   NaN   NaN   NaN   NaN   NaN   NaN   NaN   NaN   NaN   NaN  \n",
       "\n",
       "[260 rows x 217 columns]"
      ],
      "text/html": "<div>\n<style scoped>\n    .dataframe tbody tr th:only-of-type {\n        vertical-align: middle;\n    }\n\n    .dataframe tbody tr th {\n        vertical-align: top;\n    }\n\n    .dataframe thead th {\n        text-align: right;\n    }\n</style>\n<table border=\"1\" class=\"dataframe\">\n  <thead>\n    <tr style=\"text-align: right;\">\n      <th></th>\n      <th>country</th>\n      <th>1800</th>\n      <th>1801</th>\n      <th>1802</th>\n      <th>1803</th>\n      <th>1804</th>\n      <th>1805</th>\n      <th>1806</th>\n      <th>1807</th>\n      <th>1808</th>\n      <th>...</th>\n      <th>2006</th>\n      <th>2007</th>\n      <th>2008</th>\n      <th>2009</th>\n      <th>2010</th>\n      <th>2011</th>\n      <th>2012</th>\n      <th>2013</th>\n      <th>2014</th>\n      <th>2015</th>\n    </tr>\n  </thead>\n  <tbody>\n    <tr>\n      <th>0</th>\n      <td>Abkhazia</td>\n      <td>NaN</td>\n      <td>NaN</td>\n      <td>NaN</td>\n      <td>NaN</td>\n      <td>NaN</td>\n      <td>NaN</td>\n      <td>NaN</td>\n      <td>NaN</td>\n      <td>NaN</td>\n      <td>...</td>\n      <td>NaN</td>\n      <td>NaN</td>\n      <td>NaN</td>\n      <td>NaN</td>\n      <td>NaN</td>\n      <td>NaN</td>\n      <td>NaN</td>\n      <td>NaN</td>\n      <td>NaN</td>\n      <td>NaN</td>\n    </tr>\n    <tr>\n      <th>1</th>\n      <td>Afghanistan</td>\n      <td>7.00</td>\n      <td>7.00</td>\n      <td>7.00</td>\n      <td>7.00</td>\n      <td>7.00</td>\n      <td>7.00</td>\n      <td>7.00</td>\n      <td>7.00</td>\n      <td>7.00</td>\n      <td>...</td>\n      <td>6.70</td>\n      <td>6.46</td>\n      <td>6.20</td>\n      <td>5.93</td>\n      <td>5.66</td>\n      <td>5.40</td>\n      <td>5.14</td>\n      <td>4.90</td>\n      <td>4.68</td>\n      <td>4.47</td>\n    </tr>\n    <tr>\n      <th>2</th>\n      <td>Akrotiri and Dhekelia</td>\n      <td>NaN</td>\n      <td>NaN</td>\n      <td>NaN</td>\n      <td>NaN</td>\n      <td>NaN</td>\n      <td>NaN</td>\n      <td>NaN</td>\n      <td>NaN</td>\n      <td>NaN</td>\n      <td>...</td>\n      <td>NaN</td>\n      <td>NaN</td>\n      <td>NaN</td>\n      <td>NaN</td>\n      <td>NaN</td>\n      <td>NaN</td>\n      <td>NaN</td>\n      <td>NaN</td>\n      <td>NaN</td>\n      <td>NaN</td>\n    </tr>\n    <tr>\n      <th>3</th>\n      <td>Albania</td>\n      <td>4.60</td>\n      <td>4.60</td>\n      <td>4.60</td>\n      <td>4.60</td>\n      <td>4.60</td>\n      <td>4.60</td>\n      <td>4.60</td>\n      <td>4.60</td>\n      <td>4.60</td>\n      <td>...</td>\n      <td>1.85</td>\n      <td>1.80</td>\n      <td>1.76</td>\n      <td>1.74</td>\n      <td>1.74</td>\n      <td>1.75</td>\n      <td>1.76</td>\n      <td>1.77</td>\n      <td>1.78</td>\n      <td>1.78</td>\n    </tr>\n    <tr>\n      <th>4</th>\n      <td>Algeria</td>\n      <td>6.99</td>\n      <td>6.99</td>\n      <td>6.99</td>\n      <td>6.99</td>\n      <td>6.99</td>\n      <td>6.99</td>\n      <td>6.99</td>\n      <td>6.99</td>\n      <td>6.99</td>\n      <td>...</td>\n      <td>2.58</td>\n      <td>2.66</td>\n      <td>2.73</td>\n      <td>2.78</td>\n      <td>2.82</td>\n      <td>2.83</td>\n      <td>2.82</td>\n      <td>2.80</td>\n      <td>2.76</td>\n      <td>2.71</td>\n    </tr>\n    <tr>\n      <th>...</th>\n      <td>...</td>\n      <td>...</td>\n      <td>...</td>\n      <td>...</td>\n      <td>...</td>\n      <td>...</td>\n      <td>...</td>\n      <td>...</td>\n      <td>...</td>\n      <td>...</td>\n      <td>...</td>\n      <td>...</td>\n      <td>...</td>\n      <td>...</td>\n      <td>...</td>\n      <td>...</td>\n      <td>...</td>\n      <td>...</td>\n      <td>...</td>\n      <td>...</td>\n      <td>...</td>\n    </tr>\n    <tr>\n      <th>255</th>\n      <td>Yugoslavia</td>\n      <td>NaN</td>\n      <td>NaN</td>\n      <td>NaN</td>\n      <td>NaN</td>\n      <td>NaN</td>\n      <td>NaN</td>\n      <td>NaN</td>\n      <td>NaN</td>\n      <td>NaN</td>\n      <td>...</td>\n      <td>NaN</td>\n      <td>NaN</td>\n      <td>NaN</td>\n      <td>NaN</td>\n      <td>NaN</td>\n      <td>NaN</td>\n      <td>NaN</td>\n      <td>NaN</td>\n      <td>NaN</td>\n      <td>NaN</td>\n    </tr>\n    <tr>\n      <th>256</th>\n      <td>Zambia</td>\n      <td>6.71</td>\n      <td>6.71</td>\n      <td>6.71</td>\n      <td>6.71</td>\n      <td>6.71</td>\n      <td>6.71</td>\n      <td>6.71</td>\n      <td>6.71</td>\n      <td>6.71</td>\n      <td>...</td>\n      <td>5.93</td>\n      <td>5.91</td>\n      <td>5.88</td>\n      <td>5.85</td>\n      <td>5.81</td>\n      <td>5.77</td>\n      <td>5.73</td>\n      <td>5.69</td>\n      <td>5.64</td>\n      <td>5.59</td>\n    </tr>\n    <tr>\n      <th>257</th>\n      <td>Zimbabwe</td>\n      <td>6.75</td>\n      <td>6.75</td>\n      <td>6.75</td>\n      <td>6.75</td>\n      <td>6.75</td>\n      <td>6.75</td>\n      <td>6.75</td>\n      <td>6.75</td>\n      <td>6.75</td>\n      <td>...</td>\n      <td>3.94</td>\n      <td>3.90</td>\n      <td>3.85</td>\n      <td>3.79</td>\n      <td>3.72</td>\n      <td>3.64</td>\n      <td>3.56</td>\n      <td>3.49</td>\n      <td>3.41</td>\n      <td>3.35</td>\n    </tr>\n    <tr>\n      <th>258</th>\n      <td>Åland</td>\n      <td>NaN</td>\n      <td>NaN</td>\n      <td>NaN</td>\n      <td>NaN</td>\n      <td>NaN</td>\n      <td>NaN</td>\n      <td>NaN</td>\n      <td>NaN</td>\n      <td>NaN</td>\n      <td>...</td>\n      <td>NaN</td>\n      <td>NaN</td>\n      <td>NaN</td>\n      <td>NaN</td>\n      <td>NaN</td>\n      <td>NaN</td>\n      <td>NaN</td>\n      <td>NaN</td>\n      <td>NaN</td>\n      <td>NaN</td>\n    </tr>\n    <tr>\n      <th>259</th>\n      <td>Åland</td>\n      <td>NaN</td>\n      <td>NaN</td>\n      <td>NaN</td>\n      <td>NaN</td>\n      <td>NaN</td>\n      <td>NaN</td>\n      <td>NaN</td>\n      <td>NaN</td>\n      <td>NaN</td>\n      <td>...</td>\n      <td>NaN</td>\n      <td>NaN</td>\n      <td>NaN</td>\n      <td>NaN</td>\n      <td>NaN</td>\n      <td>NaN</td>\n      <td>NaN</td>\n      <td>NaN</td>\n      <td>NaN</td>\n      <td>NaN</td>\n    </tr>\n  </tbody>\n</table>\n<p>260 rows × 217 columns</p>\n</div>"
     },
     "metadata": {},
     "execution_count": 40
    }
   ],
   "source": [
    "fert = fert.reset_index()\n",
    "fert"
   ]
  },
  {
   "cell_type": "code",
   "execution_count": 41,
   "metadata": {},
   "outputs": [],
   "source": [
    "fert = fert.melt(id_vars='country', var_name='year', value_name='fertility_rate')"
   ]
  },
  {
   "cell_type": "code",
   "execution_count": 42,
   "metadata": {},
   "outputs": [
    {
     "output_type": "execute_result",
     "data": {
      "text/plain": [
       "                     country  year  fertility_rate\n",
       "0                   Abkhazia  1800             NaN\n",
       "1                Afghanistan  1800            7.00\n",
       "2      Akrotiri and Dhekelia  1800             NaN\n",
       "3                    Albania  1800            4.60\n",
       "4                    Algeria  1800            6.99\n",
       "...                      ...   ...             ...\n",
       "56155             Yugoslavia  2015             NaN\n",
       "56156                 Zambia  2015            5.59\n",
       "56157               Zimbabwe  2015            3.35\n",
       "56158                  Åland  2015             NaN\n",
       "56159                  Åland  2015             NaN\n",
       "\n",
       "[56160 rows x 3 columns]"
      ],
      "text/html": "<div>\n<style scoped>\n    .dataframe tbody tr th:only-of-type {\n        vertical-align: middle;\n    }\n\n    .dataframe tbody tr th {\n        vertical-align: top;\n    }\n\n    .dataframe thead th {\n        text-align: right;\n    }\n</style>\n<table border=\"1\" class=\"dataframe\">\n  <thead>\n    <tr style=\"text-align: right;\">\n      <th></th>\n      <th>country</th>\n      <th>year</th>\n      <th>fertility_rate</th>\n    </tr>\n  </thead>\n  <tbody>\n    <tr>\n      <th>0</th>\n      <td>Abkhazia</td>\n      <td>1800</td>\n      <td>NaN</td>\n    </tr>\n    <tr>\n      <th>1</th>\n      <td>Afghanistan</td>\n      <td>1800</td>\n      <td>7.00</td>\n    </tr>\n    <tr>\n      <th>2</th>\n      <td>Akrotiri and Dhekelia</td>\n      <td>1800</td>\n      <td>NaN</td>\n    </tr>\n    <tr>\n      <th>3</th>\n      <td>Albania</td>\n      <td>1800</td>\n      <td>4.60</td>\n    </tr>\n    <tr>\n      <th>4</th>\n      <td>Algeria</td>\n      <td>1800</td>\n      <td>6.99</td>\n    </tr>\n    <tr>\n      <th>...</th>\n      <td>...</td>\n      <td>...</td>\n      <td>...</td>\n    </tr>\n    <tr>\n      <th>56155</th>\n      <td>Yugoslavia</td>\n      <td>2015</td>\n      <td>NaN</td>\n    </tr>\n    <tr>\n      <th>56156</th>\n      <td>Zambia</td>\n      <td>2015</td>\n      <td>5.59</td>\n    </tr>\n    <tr>\n      <th>56157</th>\n      <td>Zimbabwe</td>\n      <td>2015</td>\n      <td>3.35</td>\n    </tr>\n    <tr>\n      <th>56158</th>\n      <td>Åland</td>\n      <td>2015</td>\n      <td>NaN</td>\n    </tr>\n    <tr>\n      <th>56159</th>\n      <td>Åland</td>\n      <td>2015</td>\n      <td>NaN</td>\n    </tr>\n  </tbody>\n</table>\n<p>56160 rows × 3 columns</p>\n</div>"
     },
     "metadata": {},
     "execution_count": 42
    }
   ],
   "source": [
    "fert"
   ]
  },
  {
   "cell_type": "code",
   "execution_count": 43,
   "metadata": {},
   "outputs": [
    {
     "output_type": "execute_result",
     "data": {
      "text/plain": [
       "                        1800   1801   1802   1803   1804   1805   1806   1807  \\\n",
       "country                                                                         \n",
       "Abkhazia                 NaN    NaN    NaN    NaN    NaN    NaN    NaN    NaN   \n",
       "Afghanistan            28.21  28.20  28.19  28.18  28.17  28.16  28.15  28.14   \n",
       "Akrotiri and Dhekelia    NaN    NaN    NaN    NaN    NaN    NaN    NaN    NaN   \n",
       "Albania                35.40  35.40  35.40  35.40  35.40  35.40  35.40  35.40   \n",
       "Algeria                28.82  28.82  28.82  28.82  28.82  28.82  28.82  28.82   \n",
       "...                      ...    ...    ...    ...    ...    ...    ...    ...   \n",
       "Yugoslavia               NaN    NaN    NaN    NaN    NaN    NaN    NaN    NaN   \n",
       "Zambia                 32.60  32.60  32.60  32.60  32.60  32.60  32.60  32.60   \n",
       "Zimbabwe               33.70  33.70  33.70  33.70  33.70  33.70  33.70  33.70   \n",
       "Åland                    NaN    NaN    NaN    NaN    NaN    NaN    NaN    NaN   \n",
       "South Sudan            26.67  26.67  26.67  26.67  26.67  26.67  26.67  26.67   \n",
       "\n",
       "                        1808   1809  ...  2007  2008  2009  2010  2011  2012  \\\n",
       "country                              ...                                       \n",
       "Abkhazia                 NaN    NaN  ...   NaN   NaN   NaN   NaN   NaN   NaN   \n",
       "Afghanistan            28.13  28.12  ...  52.4  52.8  53.3  53.6  54.0  54.4   \n",
       "Akrotiri and Dhekelia    NaN    NaN  ...   NaN   NaN   NaN   NaN   NaN   NaN   \n",
       "Albania                35.40  35.40  ...  76.6  76.8  77.0  77.2  77.4  77.5   \n",
       "Algeria                28.82  28.82  ...  75.3  75.5  75.7  76.0  76.1  76.2   \n",
       "...                      ...    ...  ...   ...   ...   ...   ...   ...   ...   \n",
       "Yugoslavia               NaN    NaN  ...   NaN   NaN   NaN   NaN   NaN   NaN   \n",
       "Zambia                 32.60  32.60  ...  49.0  51.1  52.3  53.1  53.7  54.7   \n",
       "Zimbabwe               33.70  33.70  ...  46.4  47.3  48.0  49.1  51.6  54.2   \n",
       "Åland                    NaN    NaN  ...   NaN   NaN   NaN   NaN   NaN   NaN   \n",
       "South Sudan            26.67  26.67  ...  55.5  55.6  55.8  56.0  55.9  56.0   \n",
       "\n",
       "                       2013  2014  2015   2016  \n",
       "country                                         \n",
       "Abkhazia                NaN   NaN   NaN    NaN  \n",
       "Afghanistan            54.8  54.9  53.8  52.72  \n",
       "Akrotiri and Dhekelia   NaN   NaN   NaN    NaN  \n",
       "Albania                77.7  77.9  78.0  78.10  \n",
       "Algeria                76.3  76.3  76.4  76.50  \n",
       "...                     ...   ...   ...    ...  \n",
       "Yugoslavia              NaN   NaN   NaN    NaN  \n",
       "Zambia                 55.6  56.3  56.7  57.10  \n",
       "Zimbabwe               55.7  57.0  59.3  61.69  \n",
       "Åland                   NaN   NaN   NaN    NaN  \n",
       "South Sudan            56.0  56.1  56.1  56.10  \n",
       "\n",
       "[260 rows x 217 columns]"
      ],
      "text/html": "<div>\n<style scoped>\n    .dataframe tbody tr th:only-of-type {\n        vertical-align: middle;\n    }\n\n    .dataframe tbody tr th {\n        vertical-align: top;\n    }\n\n    .dataframe thead th {\n        text-align: right;\n    }\n</style>\n<table border=\"1\" class=\"dataframe\">\n  <thead>\n    <tr style=\"text-align: right;\">\n      <th></th>\n      <th>1800</th>\n      <th>1801</th>\n      <th>1802</th>\n      <th>1803</th>\n      <th>1804</th>\n      <th>1805</th>\n      <th>1806</th>\n      <th>1807</th>\n      <th>1808</th>\n      <th>1809</th>\n      <th>...</th>\n      <th>2007</th>\n      <th>2008</th>\n      <th>2009</th>\n      <th>2010</th>\n      <th>2011</th>\n      <th>2012</th>\n      <th>2013</th>\n      <th>2014</th>\n      <th>2015</th>\n      <th>2016</th>\n    </tr>\n    <tr>\n      <th>country</th>\n      <th></th>\n      <th></th>\n      <th></th>\n      <th></th>\n      <th></th>\n      <th></th>\n      <th></th>\n      <th></th>\n      <th></th>\n      <th></th>\n      <th></th>\n      <th></th>\n      <th></th>\n      <th></th>\n      <th></th>\n      <th></th>\n      <th></th>\n      <th></th>\n      <th></th>\n      <th></th>\n      <th></th>\n    </tr>\n  </thead>\n  <tbody>\n    <tr>\n      <th>Abkhazia</th>\n      <td>NaN</td>\n      <td>NaN</td>\n      <td>NaN</td>\n      <td>NaN</td>\n      <td>NaN</td>\n      <td>NaN</td>\n      <td>NaN</td>\n      <td>NaN</td>\n      <td>NaN</td>\n      <td>NaN</td>\n      <td>...</td>\n      <td>NaN</td>\n      <td>NaN</td>\n      <td>NaN</td>\n      <td>NaN</td>\n      <td>NaN</td>\n      <td>NaN</td>\n      <td>NaN</td>\n      <td>NaN</td>\n      <td>NaN</td>\n      <td>NaN</td>\n    </tr>\n    <tr>\n      <th>Afghanistan</th>\n      <td>28.21</td>\n      <td>28.20</td>\n      <td>28.19</td>\n      <td>28.18</td>\n      <td>28.17</td>\n      <td>28.16</td>\n      <td>28.15</td>\n      <td>28.14</td>\n      <td>28.13</td>\n      <td>28.12</td>\n      <td>...</td>\n      <td>52.4</td>\n      <td>52.8</td>\n      <td>53.3</td>\n      <td>53.6</td>\n      <td>54.0</td>\n      <td>54.4</td>\n      <td>54.8</td>\n      <td>54.9</td>\n      <td>53.8</td>\n      <td>52.72</td>\n    </tr>\n    <tr>\n      <th>Akrotiri and Dhekelia</th>\n      <td>NaN</td>\n      <td>NaN</td>\n      <td>NaN</td>\n      <td>NaN</td>\n      <td>NaN</td>\n      <td>NaN</td>\n      <td>NaN</td>\n      <td>NaN</td>\n      <td>NaN</td>\n      <td>NaN</td>\n      <td>...</td>\n      <td>NaN</td>\n      <td>NaN</td>\n      <td>NaN</td>\n      <td>NaN</td>\n      <td>NaN</td>\n      <td>NaN</td>\n      <td>NaN</td>\n      <td>NaN</td>\n      <td>NaN</td>\n      <td>NaN</td>\n    </tr>\n    <tr>\n      <th>Albania</th>\n      <td>35.40</td>\n      <td>35.40</td>\n      <td>35.40</td>\n      <td>35.40</td>\n      <td>35.40</td>\n      <td>35.40</td>\n      <td>35.40</td>\n      <td>35.40</td>\n      <td>35.40</td>\n      <td>35.40</td>\n      <td>...</td>\n      <td>76.6</td>\n      <td>76.8</td>\n      <td>77.0</td>\n      <td>77.2</td>\n      <td>77.4</td>\n      <td>77.5</td>\n      <td>77.7</td>\n      <td>77.9</td>\n      <td>78.0</td>\n      <td>78.10</td>\n    </tr>\n    <tr>\n      <th>Algeria</th>\n      <td>28.82</td>\n      <td>28.82</td>\n      <td>28.82</td>\n      <td>28.82</td>\n      <td>28.82</td>\n      <td>28.82</td>\n      <td>28.82</td>\n      <td>28.82</td>\n      <td>28.82</td>\n      <td>28.82</td>\n      <td>...</td>\n      <td>75.3</td>\n      <td>75.5</td>\n      <td>75.7</td>\n      <td>76.0</td>\n      <td>76.1</td>\n      <td>76.2</td>\n      <td>76.3</td>\n      <td>76.3</td>\n      <td>76.4</td>\n      <td>76.50</td>\n    </tr>\n    <tr>\n      <th>...</th>\n      <td>...</td>\n      <td>...</td>\n      <td>...</td>\n      <td>...</td>\n      <td>...</td>\n      <td>...</td>\n      <td>...</td>\n      <td>...</td>\n      <td>...</td>\n      <td>...</td>\n      <td>...</td>\n      <td>...</td>\n      <td>...</td>\n      <td>...</td>\n      <td>...</td>\n      <td>...</td>\n      <td>...</td>\n      <td>...</td>\n      <td>...</td>\n      <td>...</td>\n      <td>...</td>\n    </tr>\n    <tr>\n      <th>Yugoslavia</th>\n      <td>NaN</td>\n      <td>NaN</td>\n      <td>NaN</td>\n      <td>NaN</td>\n      <td>NaN</td>\n      <td>NaN</td>\n      <td>NaN</td>\n      <td>NaN</td>\n      <td>NaN</td>\n      <td>NaN</td>\n      <td>...</td>\n      <td>NaN</td>\n      <td>NaN</td>\n      <td>NaN</td>\n      <td>NaN</td>\n      <td>NaN</td>\n      <td>NaN</td>\n      <td>NaN</td>\n      <td>NaN</td>\n      <td>NaN</td>\n      <td>NaN</td>\n    </tr>\n    <tr>\n      <th>Zambia</th>\n      <td>32.60</td>\n      <td>32.60</td>\n      <td>32.60</td>\n      <td>32.60</td>\n      <td>32.60</td>\n      <td>32.60</td>\n      <td>32.60</td>\n      <td>32.60</td>\n      <td>32.60</td>\n      <td>32.60</td>\n      <td>...</td>\n      <td>49.0</td>\n      <td>51.1</td>\n      <td>52.3</td>\n      <td>53.1</td>\n      <td>53.7</td>\n      <td>54.7</td>\n      <td>55.6</td>\n      <td>56.3</td>\n      <td>56.7</td>\n      <td>57.10</td>\n    </tr>\n    <tr>\n      <th>Zimbabwe</th>\n      <td>33.70</td>\n      <td>33.70</td>\n      <td>33.70</td>\n      <td>33.70</td>\n      <td>33.70</td>\n      <td>33.70</td>\n      <td>33.70</td>\n      <td>33.70</td>\n      <td>33.70</td>\n      <td>33.70</td>\n      <td>...</td>\n      <td>46.4</td>\n      <td>47.3</td>\n      <td>48.0</td>\n      <td>49.1</td>\n      <td>51.6</td>\n      <td>54.2</td>\n      <td>55.7</td>\n      <td>57.0</td>\n      <td>59.3</td>\n      <td>61.69</td>\n    </tr>\n    <tr>\n      <th>Åland</th>\n      <td>NaN</td>\n      <td>NaN</td>\n      <td>NaN</td>\n      <td>NaN</td>\n      <td>NaN</td>\n      <td>NaN</td>\n      <td>NaN</td>\n      <td>NaN</td>\n      <td>NaN</td>\n      <td>NaN</td>\n      <td>...</td>\n      <td>NaN</td>\n      <td>NaN</td>\n      <td>NaN</td>\n      <td>NaN</td>\n      <td>NaN</td>\n      <td>NaN</td>\n      <td>NaN</td>\n      <td>NaN</td>\n      <td>NaN</td>\n      <td>NaN</td>\n    </tr>\n    <tr>\n      <th>South Sudan</th>\n      <td>26.67</td>\n      <td>26.67</td>\n      <td>26.67</td>\n      <td>26.67</td>\n      <td>26.67</td>\n      <td>26.67</td>\n      <td>26.67</td>\n      <td>26.67</td>\n      <td>26.67</td>\n      <td>26.67</td>\n      <td>...</td>\n      <td>55.5</td>\n      <td>55.6</td>\n      <td>55.8</td>\n      <td>56.0</td>\n      <td>55.9</td>\n      <td>56.0</td>\n      <td>56.0</td>\n      <td>56.1</td>\n      <td>56.1</td>\n      <td>56.10</td>\n    </tr>\n  </tbody>\n</table>\n<p>260 rows × 217 columns</p>\n</div>"
     },
     "metadata": {},
     "execution_count": 43
    }
   ],
   "source": [
    "\n",
    "life.index.name =(\"country\")\n",
    "life"
   ]
  },
  {
   "cell_type": "code",
   "execution_count": 44,
   "metadata": {},
   "outputs": [],
   "source": [
    "life = life.reset_index()"
   ]
  },
  {
   "cell_type": "code",
   "execution_count": 45,
   "metadata": {},
   "outputs": [],
   "source": [
    "life= life.melt(id_vars='country', var_name='year', value_name='life_expectancy')"
   ]
  },
  {
   "cell_type": "code",
   "execution_count": 46,
   "metadata": {},
   "outputs": [
    {
     "output_type": "execute_result",
     "data": {
      "text/plain": [
       "Int64Index([1800, 1810, 1820, 1830, 1840, 1850, 1860, 1870, 1880, 1890, 1900,\n",
       "            1910, 1920, 1930, 1940, 1950, 1951, 1952, 1953, 1954, 1955, 1956,\n",
       "            1957, 1958, 1959, 1960, 1961, 1962, 1963, 1964, 1965, 1966, 1967,\n",
       "            1968, 1969, 1970, 1971, 1972, 1973, 1974, 1975, 1976, 1977, 1978,\n",
       "            1979, 1980, 1981, 1982, 1983, 1984, 1985, 1986, 1987, 1988, 1989,\n",
       "            1990, 1991, 1992, 1993, 1994, 1995, 1996, 1997, 1998, 1999, 2000,\n",
       "            2001, 2002, 2003, 2004, 2005, 2006, 2007, 2008, 2009, 2010, 2011,\n",
       "            2012, 2013, 2014, 2015],\n",
       "           dtype='int64')"
      ]
     },
     "metadata": {},
     "execution_count": 46
    }
   ],
   "source": [
    "pop.columns"
   ]
  },
  {
   "cell_type": "code",
   "execution_count": 47,
   "metadata": {},
   "outputs": [
    {
     "output_type": "execute_result",
     "data": {
      "text/plain": [
       "Index(['Abkhazia', 'Afghanistan', 'Akrotiri and Dhekelia', 'Albania',\n",
       "       'Algeria', 'American Samoa', 'Andorra', 'Angola', 'Anguilla',\n",
       "       'Antigua and Barbuda',\n",
       "       ...\n",
       "       'British Indian Ocean Territory', 'Clipperton',\n",
       "       'French Southern and Antarctic Lands', 'Gaza Strip',\n",
       "       'Heard and McDonald Islands', 'Northern Marianas',\n",
       "       'South Georgia and the South Sandwich Islands',\n",
       "       'US Minor Outlying Islands', 'Virgin Islands', 'West Bank'],\n",
       "      dtype='object', name='Total population', length=275)"
      ]
     },
     "metadata": {},
     "execution_count": 47
    }
   ],
   "source": [
    "pop.index"
   ]
  },
  {
   "cell_type": "code",
   "execution_count": 48,
   "metadata": {},
   "outputs": [],
   "source": [
    "pop.index.name = \"country\"\n",
    "pop = pop.reset_index()"
   ]
  },
  {
   "cell_type": "code",
   "execution_count": 49,
   "metadata": {},
   "outputs": [
    {
     "output_type": "execute_result",
     "data": {
      "text/plain": [
       "                                          country       1800       1810  \\\n",
       "0                                        Abkhazia        NaN        NaN   \n",
       "1                                     Afghanistan  3280000.0  3280000.0   \n",
       "2                           Akrotiri and Dhekelia        NaN        NaN   \n",
       "3                                         Albania   410445.0   423591.0   \n",
       "4                                         Algeria  2503218.0  2595056.0   \n",
       "..                                            ...        ...        ...   \n",
       "270                             Northern Marianas        NaN        NaN   \n",
       "271  South Georgia and the South Sandwich Islands        NaN        NaN   \n",
       "272                     US Minor Outlying Islands        NaN        NaN   \n",
       "273                                Virgin Islands        NaN        NaN   \n",
       "274                                     West Bank        NaN        NaN   \n",
       "\n",
       "          1820       1830       1840       1850       1860       1870  \\\n",
       "0          NaN        NaN        NaN        NaN        NaN        NaN   \n",
       "1    3323519.0  3448982.0  3625022.0  3810047.0  3973968.0  4169690.0   \n",
       "2          NaN        NaN        NaN        NaN        NaN        NaN   \n",
       "3     438671.0   457234.0   478227.0   506889.0   552800.0   610036.0   \n",
       "4    2713079.0  2880355.0  3082721.0  3299305.0  3536468.0  3811028.0   \n",
       "..         ...        ...        ...        ...        ...        ...   \n",
       "270        NaN        NaN        NaN        NaN        NaN        NaN   \n",
       "271        NaN        NaN        NaN        NaN        NaN        NaN   \n",
       "272        NaN        NaN        NaN        NaN        NaN        NaN   \n",
       "273        NaN        NaN        NaN        NaN        NaN        NaN   \n",
       "274        NaN        NaN        NaN        NaN        NaN        NaN   \n",
       "\n",
       "          1880  ...        2006        2007        2008        2009  \\\n",
       "0          NaN  ...         NaN         NaN         NaN         NaN   \n",
       "1    4419695.0  ...  25183615.0  25877544.0  26528741.0  27207291.0   \n",
       "2          NaN  ...     15700.0     15700.0     15700.0         NaN   \n",
       "3     672544.0  ...   3050741.0   3010849.0   2968026.0   2929886.0   \n",
       "4    4143163.0  ...  33749328.0  34261971.0  34811059.0  35401790.0   \n",
       "..         ...  ...         ...         ...         ...         ...   \n",
       "270        NaN  ...         NaN         NaN         NaN         NaN   \n",
       "271        NaN  ...         NaN         NaN         NaN         NaN   \n",
       "272        NaN  ...         NaN         NaN         NaN         NaN   \n",
       "273        NaN  ...         NaN         NaN         NaN         NaN   \n",
       "274        NaN  ...         NaN         NaN         NaN         NaN   \n",
       "\n",
       "           2010        2011        2012        2013        2014        2015  \n",
       "0           NaN         NaN         NaN         NaN         NaN         NaN  \n",
       "1    27962207.0  28809167.0  29726803.0  30682500.0  31627506.0  32526562.0  \n",
       "2           NaN         NaN         NaN         NaN         NaN         NaN  \n",
       "3     2901883.0   2886010.0   2880667.0   2883281.0   2889676.0   2896679.0  \n",
       "4    36036159.0  36717132.0  37439427.0  38186135.0  38934334.0  39666519.0  \n",
       "..          ...         ...         ...         ...         ...         ...  \n",
       "270         NaN         NaN         NaN         NaN         NaN         NaN  \n",
       "271         NaN         NaN         NaN         NaN         NaN         NaN  \n",
       "272         NaN         NaN         NaN         NaN         NaN         NaN  \n",
       "273         NaN         NaN         NaN         NaN         NaN         NaN  \n",
       "274         NaN         NaN         NaN         NaN         NaN         NaN  \n",
       "\n",
       "[275 rows x 82 columns]"
      ],
      "text/html": "<div>\n<style scoped>\n    .dataframe tbody tr th:only-of-type {\n        vertical-align: middle;\n    }\n\n    .dataframe tbody tr th {\n        vertical-align: top;\n    }\n\n    .dataframe thead th {\n        text-align: right;\n    }\n</style>\n<table border=\"1\" class=\"dataframe\">\n  <thead>\n    <tr style=\"text-align: right;\">\n      <th></th>\n      <th>country</th>\n      <th>1800</th>\n      <th>1810</th>\n      <th>1820</th>\n      <th>1830</th>\n      <th>1840</th>\n      <th>1850</th>\n      <th>1860</th>\n      <th>1870</th>\n      <th>1880</th>\n      <th>...</th>\n      <th>2006</th>\n      <th>2007</th>\n      <th>2008</th>\n      <th>2009</th>\n      <th>2010</th>\n      <th>2011</th>\n      <th>2012</th>\n      <th>2013</th>\n      <th>2014</th>\n      <th>2015</th>\n    </tr>\n  </thead>\n  <tbody>\n    <tr>\n      <th>0</th>\n      <td>Abkhazia</td>\n      <td>NaN</td>\n      <td>NaN</td>\n      <td>NaN</td>\n      <td>NaN</td>\n      <td>NaN</td>\n      <td>NaN</td>\n      <td>NaN</td>\n      <td>NaN</td>\n      <td>NaN</td>\n      <td>...</td>\n      <td>NaN</td>\n      <td>NaN</td>\n      <td>NaN</td>\n      <td>NaN</td>\n      <td>NaN</td>\n      <td>NaN</td>\n      <td>NaN</td>\n      <td>NaN</td>\n      <td>NaN</td>\n      <td>NaN</td>\n    </tr>\n    <tr>\n      <th>1</th>\n      <td>Afghanistan</td>\n      <td>3280000.0</td>\n      <td>3280000.0</td>\n      <td>3323519.0</td>\n      <td>3448982.0</td>\n      <td>3625022.0</td>\n      <td>3810047.0</td>\n      <td>3973968.0</td>\n      <td>4169690.0</td>\n      <td>4419695.0</td>\n      <td>...</td>\n      <td>25183615.0</td>\n      <td>25877544.0</td>\n      <td>26528741.0</td>\n      <td>27207291.0</td>\n      <td>27962207.0</td>\n      <td>28809167.0</td>\n      <td>29726803.0</td>\n      <td>30682500.0</td>\n      <td>31627506.0</td>\n      <td>32526562.0</td>\n    </tr>\n    <tr>\n      <th>2</th>\n      <td>Akrotiri and Dhekelia</td>\n      <td>NaN</td>\n      <td>NaN</td>\n      <td>NaN</td>\n      <td>NaN</td>\n      <td>NaN</td>\n      <td>NaN</td>\n      <td>NaN</td>\n      <td>NaN</td>\n      <td>NaN</td>\n      <td>...</td>\n      <td>15700.0</td>\n      <td>15700.0</td>\n      <td>15700.0</td>\n      <td>NaN</td>\n      <td>NaN</td>\n      <td>NaN</td>\n      <td>NaN</td>\n      <td>NaN</td>\n      <td>NaN</td>\n      <td>NaN</td>\n    </tr>\n    <tr>\n      <th>3</th>\n      <td>Albania</td>\n      <td>410445.0</td>\n      <td>423591.0</td>\n      <td>438671.0</td>\n      <td>457234.0</td>\n      <td>478227.0</td>\n      <td>506889.0</td>\n      <td>552800.0</td>\n      <td>610036.0</td>\n      <td>672544.0</td>\n      <td>...</td>\n      <td>3050741.0</td>\n      <td>3010849.0</td>\n      <td>2968026.0</td>\n      <td>2929886.0</td>\n      <td>2901883.0</td>\n      <td>2886010.0</td>\n      <td>2880667.0</td>\n      <td>2883281.0</td>\n      <td>2889676.0</td>\n      <td>2896679.0</td>\n    </tr>\n    <tr>\n      <th>4</th>\n      <td>Algeria</td>\n      <td>2503218.0</td>\n      <td>2595056.0</td>\n      <td>2713079.0</td>\n      <td>2880355.0</td>\n      <td>3082721.0</td>\n      <td>3299305.0</td>\n      <td>3536468.0</td>\n      <td>3811028.0</td>\n      <td>4143163.0</td>\n      <td>...</td>\n      <td>33749328.0</td>\n      <td>34261971.0</td>\n      <td>34811059.0</td>\n      <td>35401790.0</td>\n      <td>36036159.0</td>\n      <td>36717132.0</td>\n      <td>37439427.0</td>\n      <td>38186135.0</td>\n      <td>38934334.0</td>\n      <td>39666519.0</td>\n    </tr>\n    <tr>\n      <th>...</th>\n      <td>...</td>\n      <td>...</td>\n      <td>...</td>\n      <td>...</td>\n      <td>...</td>\n      <td>...</td>\n      <td>...</td>\n      <td>...</td>\n      <td>...</td>\n      <td>...</td>\n      <td>...</td>\n      <td>...</td>\n      <td>...</td>\n      <td>...</td>\n      <td>...</td>\n      <td>...</td>\n      <td>...</td>\n      <td>...</td>\n      <td>...</td>\n      <td>...</td>\n      <td>...</td>\n    </tr>\n    <tr>\n      <th>270</th>\n      <td>Northern Marianas</td>\n      <td>NaN</td>\n      <td>NaN</td>\n      <td>NaN</td>\n      <td>NaN</td>\n      <td>NaN</td>\n      <td>NaN</td>\n      <td>NaN</td>\n      <td>NaN</td>\n      <td>NaN</td>\n      <td>...</td>\n      <td>NaN</td>\n      <td>NaN</td>\n      <td>NaN</td>\n      <td>NaN</td>\n      <td>NaN</td>\n      <td>NaN</td>\n      <td>NaN</td>\n      <td>NaN</td>\n      <td>NaN</td>\n      <td>NaN</td>\n    </tr>\n    <tr>\n      <th>271</th>\n      <td>South Georgia and the South Sandwich Islands</td>\n      <td>NaN</td>\n      <td>NaN</td>\n      <td>NaN</td>\n      <td>NaN</td>\n      <td>NaN</td>\n      <td>NaN</td>\n      <td>NaN</td>\n      <td>NaN</td>\n      <td>NaN</td>\n      <td>...</td>\n      <td>NaN</td>\n      <td>NaN</td>\n      <td>NaN</td>\n      <td>NaN</td>\n      <td>NaN</td>\n      <td>NaN</td>\n      <td>NaN</td>\n      <td>NaN</td>\n      <td>NaN</td>\n      <td>NaN</td>\n    </tr>\n    <tr>\n      <th>272</th>\n      <td>US Minor Outlying Islands</td>\n      <td>NaN</td>\n      <td>NaN</td>\n      <td>NaN</td>\n      <td>NaN</td>\n      <td>NaN</td>\n      <td>NaN</td>\n      <td>NaN</td>\n      <td>NaN</td>\n      <td>NaN</td>\n      <td>...</td>\n      <td>NaN</td>\n      <td>NaN</td>\n      <td>NaN</td>\n      <td>NaN</td>\n      <td>NaN</td>\n      <td>NaN</td>\n      <td>NaN</td>\n      <td>NaN</td>\n      <td>NaN</td>\n      <td>NaN</td>\n    </tr>\n    <tr>\n      <th>273</th>\n      <td>Virgin Islands</td>\n      <td>NaN</td>\n      <td>NaN</td>\n      <td>NaN</td>\n      <td>NaN</td>\n      <td>NaN</td>\n      <td>NaN</td>\n      <td>NaN</td>\n      <td>NaN</td>\n      <td>NaN</td>\n      <td>...</td>\n      <td>NaN</td>\n      <td>NaN</td>\n      <td>NaN</td>\n      <td>NaN</td>\n      <td>NaN</td>\n      <td>NaN</td>\n      <td>NaN</td>\n      <td>NaN</td>\n      <td>NaN</td>\n      <td>NaN</td>\n    </tr>\n    <tr>\n      <th>274</th>\n      <td>West Bank</td>\n      <td>NaN</td>\n      <td>NaN</td>\n      <td>NaN</td>\n      <td>NaN</td>\n      <td>NaN</td>\n      <td>NaN</td>\n      <td>NaN</td>\n      <td>NaN</td>\n      <td>NaN</td>\n      <td>...</td>\n      <td>NaN</td>\n      <td>NaN</td>\n      <td>NaN</td>\n      <td>NaN</td>\n      <td>NaN</td>\n      <td>NaN</td>\n      <td>NaN</td>\n      <td>NaN</td>\n      <td>NaN</td>\n      <td>NaN</td>\n    </tr>\n  </tbody>\n</table>\n<p>275 rows × 82 columns</p>\n</div>"
     },
     "metadata": {},
     "execution_count": 49
    }
   ],
   "source": [
    "pop"
   ]
  },
  {
   "cell_type": "code",
   "execution_count": 50,
   "metadata": {},
   "outputs": [],
   "source": [
    "pop = pop.melt(id_vars='country', var_name='year', value_name='population')"
   ]
  },
  {
   "cell_type": "code",
   "execution_count": 51,
   "metadata": {},
   "outputs": [],
   "source": [
    "df = life.merge(pop)"
   ]
  },
  {
   "cell_type": "code",
   "execution_count": 52,
   "metadata": {},
   "outputs": [],
   "source": [
    "df = df.merge(fert)"
   ]
  },
  {
   "cell_type": "code",
   "execution_count": 53,
   "metadata": {},
   "outputs": [],
   "source": [
    "df = df.dropna()"
   ]
  },
  {
   "cell_type": "code",
   "execution_count": 54,
   "metadata": {},
   "outputs": [
    {
     "output_type": "execute_result",
     "data": {
      "text/plain": [
       "                     country  year  life_expectancy  population  \\\n",
       "1                Afghanistan  1800            28.21   3280000.0   \n",
       "3                    Albania  1800            35.40    410445.0   \n",
       "4                    Algeria  1800            28.82   2503218.0   \n",
       "7                     Angola  1800            26.98   1567028.0   \n",
       "9        Antigua and Barbuda  1800            33.54     37000.0   \n",
       "...                      ...   ...              ...         ...   \n",
       "20969                Vietnam  2015            75.40  93447601.0   \n",
       "20970  Virgin Islands (U.S.)  2015            80.60    106291.0   \n",
       "20973                  Yemen  2015            66.00  26832215.0   \n",
       "20975                 Zambia  2015            56.70  16211767.0   \n",
       "20976               Zimbabwe  2015            59.30  15602751.0   \n",
       "\n",
       "       fertility_rate  \n",
       "1                7.00  \n",
       "3                4.60  \n",
       "4                6.99  \n",
       "7                6.93  \n",
       "9                5.00  \n",
       "...               ...  \n",
       "20969            1.70  \n",
       "20970            2.45  \n",
       "20973            3.83  \n",
       "20975            5.59  \n",
       "20976            3.35  \n",
       "\n",
       "[16230 rows x 5 columns]"
      ],
      "text/html": "<div>\n<style scoped>\n    .dataframe tbody tr th:only-of-type {\n        vertical-align: middle;\n    }\n\n    .dataframe tbody tr th {\n        vertical-align: top;\n    }\n\n    .dataframe thead th {\n        text-align: right;\n    }\n</style>\n<table border=\"1\" class=\"dataframe\">\n  <thead>\n    <tr style=\"text-align: right;\">\n      <th></th>\n      <th>country</th>\n      <th>year</th>\n      <th>life_expectancy</th>\n      <th>population</th>\n      <th>fertility_rate</th>\n    </tr>\n  </thead>\n  <tbody>\n    <tr>\n      <th>1</th>\n      <td>Afghanistan</td>\n      <td>1800</td>\n      <td>28.21</td>\n      <td>3280000.0</td>\n      <td>7.00</td>\n    </tr>\n    <tr>\n      <th>3</th>\n      <td>Albania</td>\n      <td>1800</td>\n      <td>35.40</td>\n      <td>410445.0</td>\n      <td>4.60</td>\n    </tr>\n    <tr>\n      <th>4</th>\n      <td>Algeria</td>\n      <td>1800</td>\n      <td>28.82</td>\n      <td>2503218.0</td>\n      <td>6.99</td>\n    </tr>\n    <tr>\n      <th>7</th>\n      <td>Angola</td>\n      <td>1800</td>\n      <td>26.98</td>\n      <td>1567028.0</td>\n      <td>6.93</td>\n    </tr>\n    <tr>\n      <th>9</th>\n      <td>Antigua and Barbuda</td>\n      <td>1800</td>\n      <td>33.54</td>\n      <td>37000.0</td>\n      <td>5.00</td>\n    </tr>\n    <tr>\n      <th>...</th>\n      <td>...</td>\n      <td>...</td>\n      <td>...</td>\n      <td>...</td>\n      <td>...</td>\n    </tr>\n    <tr>\n      <th>20969</th>\n      <td>Vietnam</td>\n      <td>2015</td>\n      <td>75.40</td>\n      <td>93447601.0</td>\n      <td>1.70</td>\n    </tr>\n    <tr>\n      <th>20970</th>\n      <td>Virgin Islands (U.S.)</td>\n      <td>2015</td>\n      <td>80.60</td>\n      <td>106291.0</td>\n      <td>2.45</td>\n    </tr>\n    <tr>\n      <th>20973</th>\n      <td>Yemen</td>\n      <td>2015</td>\n      <td>66.00</td>\n      <td>26832215.0</td>\n      <td>3.83</td>\n    </tr>\n    <tr>\n      <th>20975</th>\n      <td>Zambia</td>\n      <td>2015</td>\n      <td>56.70</td>\n      <td>16211767.0</td>\n      <td>5.59</td>\n    </tr>\n    <tr>\n      <th>20976</th>\n      <td>Zimbabwe</td>\n      <td>2015</td>\n      <td>59.30</td>\n      <td>15602751.0</td>\n      <td>3.35</td>\n    </tr>\n  </tbody>\n</table>\n<p>16230 rows × 5 columns</p>\n</div>"
     },
     "metadata": {},
     "execution_count": 54
    }
   ],
   "source": [
    "df"
   ]
  },
  {
   "cell_type": "code",
   "execution_count": 55,
   "metadata": {},
   "outputs": [
    {
     "output_type": "execute_result",
     "data": {
      "text/plain": [
       "       life_expectancy    population  fertility_rate\n",
       "count     16230.000000  1.623000e+04    16230.000000\n",
       "mean         57.356267  2.058449e+07        4.588476\n",
       "std          15.933816  8.891399e+07        1.995586\n",
       "min           4.000000  2.128000e+03        0.840000\n",
       "25%          44.882500  5.368605e+05        2.570000\n",
       "50%          60.940000  3.407912e+06        4.970000\n",
       "75%          70.800000  1.061139e+07        6.390000\n",
       "max          83.730000  1.376049e+09        9.220000"
      ],
      "text/html": "<div>\n<style scoped>\n    .dataframe tbody tr th:only-of-type {\n        vertical-align: middle;\n    }\n\n    .dataframe tbody tr th {\n        vertical-align: top;\n    }\n\n    .dataframe thead th {\n        text-align: right;\n    }\n</style>\n<table border=\"1\" class=\"dataframe\">\n  <thead>\n    <tr style=\"text-align: right;\">\n      <th></th>\n      <th>life_expectancy</th>\n      <th>population</th>\n      <th>fertility_rate</th>\n    </tr>\n  </thead>\n  <tbody>\n    <tr>\n      <th>count</th>\n      <td>16230.000000</td>\n      <td>1.623000e+04</td>\n      <td>16230.000000</td>\n    </tr>\n    <tr>\n      <th>mean</th>\n      <td>57.356267</td>\n      <td>2.058449e+07</td>\n      <td>4.588476</td>\n    </tr>\n    <tr>\n      <th>std</th>\n      <td>15.933816</td>\n      <td>8.891399e+07</td>\n      <td>1.995586</td>\n    </tr>\n    <tr>\n      <th>min</th>\n      <td>4.000000</td>\n      <td>2.128000e+03</td>\n      <td>0.840000</td>\n    </tr>\n    <tr>\n      <th>25%</th>\n      <td>44.882500</td>\n      <td>5.368605e+05</td>\n      <td>2.570000</td>\n    </tr>\n    <tr>\n      <th>50%</th>\n      <td>60.940000</td>\n      <td>3.407912e+06</td>\n      <td>4.970000</td>\n    </tr>\n    <tr>\n      <th>75%</th>\n      <td>70.800000</td>\n      <td>1.061139e+07</td>\n      <td>6.390000</td>\n    </tr>\n    <tr>\n      <th>max</th>\n      <td>83.730000</td>\n      <td>1.376049e+09</td>\n      <td>9.220000</td>\n    </tr>\n  </tbody>\n</table>\n</div>"
     },
     "metadata": {},
     "execution_count": 55
    }
   ],
   "source": [
    "df.describe()"
   ]
  },
  {
   "cell_type": "code",
   "execution_count": 57,
   "metadata": {},
   "outputs": [
    {
     "output_type": "execute_result",
     "data": {
      "text/plain": [
       "array([1800, 1810, 1820, 1830, 1840, 1850, 1860, 1870, 1880, 1890, 1900,\n",
       "       1910, 1920, 1930, 1940, 1950, 1951, 1952, 1953, 1954, 1955, 1956,\n",
       "       1957, 1958, 1959, 1960, 1961, 1962, 1963, 1964, 1965, 1966, 1967,\n",
       "       1968, 1969, 1970, 1971, 1972, 1973, 1974, 1975, 1976, 1977, 1978,\n",
       "       1979, 1980, 1981, 1982, 1983, 1984, 1985, 1986, 1987, 1988, 1989,\n",
       "       1990, 1991, 1992, 1993, 1994, 1995, 1996, 1997, 1998, 1999, 2000,\n",
       "       2001, 2002, 2003, 2004, 2005, 2006, 2007, 2008, 2009, 2010, 2011,\n",
       "       2012, 2013, 2014, 2015], dtype=object)"
      ]
     },
     "metadata": {},
     "execution_count": 57
    }
   ],
   "source": [
    "years=df['year'].unique()\n",
    "years\n"
   ]
  },
  {
   "cell_type": "code",
   "execution_count": 58,
   "metadata": {},
   "outputs": [
    {
     "output_type": "execute_result",
     "data": {
      "text/plain": [
       "                    country  life_expectancy  population  fertility_rate\n",
       "year                                                                    \n",
       "1800            Afghanistan            28.21   3280000.0            7.00\n",
       "1800                Albania            35.40    410445.0            4.60\n",
       "1800                Algeria            28.82   2503218.0            6.99\n",
       "1800                 Angola            26.98   1567028.0            6.93\n",
       "1800    Antigua and Barbuda            33.54     37000.0            5.00\n",
       "...                     ...              ...         ...             ...\n",
       "2015                Vietnam            75.40  93447601.0            1.70\n",
       "2015  Virgin Islands (U.S.)            80.60    106291.0            2.45\n",
       "2015                  Yemen            66.00  26832215.0            3.83\n",
       "2015                 Zambia            56.70  16211767.0            5.59\n",
       "2015               Zimbabwe            59.30  15602751.0            3.35\n",
       "\n",
       "[16230 rows x 4 columns]"
      ],
      "text/html": "<div>\n<style scoped>\n    .dataframe tbody tr th:only-of-type {\n        vertical-align: middle;\n    }\n\n    .dataframe tbody tr th {\n        vertical-align: top;\n    }\n\n    .dataframe thead th {\n        text-align: right;\n    }\n</style>\n<table border=\"1\" class=\"dataframe\">\n  <thead>\n    <tr style=\"text-align: right;\">\n      <th></th>\n      <th>country</th>\n      <th>life_expectancy</th>\n      <th>population</th>\n      <th>fertility_rate</th>\n    </tr>\n    <tr>\n      <th>year</th>\n      <th></th>\n      <th></th>\n      <th></th>\n      <th></th>\n    </tr>\n  </thead>\n  <tbody>\n    <tr>\n      <th>1800</th>\n      <td>Afghanistan</td>\n      <td>28.21</td>\n      <td>3280000.0</td>\n      <td>7.00</td>\n    </tr>\n    <tr>\n      <th>1800</th>\n      <td>Albania</td>\n      <td>35.40</td>\n      <td>410445.0</td>\n      <td>4.60</td>\n    </tr>\n    <tr>\n      <th>1800</th>\n      <td>Algeria</td>\n      <td>28.82</td>\n      <td>2503218.0</td>\n      <td>6.99</td>\n    </tr>\n    <tr>\n      <th>1800</th>\n      <td>Angola</td>\n      <td>26.98</td>\n      <td>1567028.0</td>\n      <td>6.93</td>\n    </tr>\n    <tr>\n      <th>1800</th>\n      <td>Antigua and Barbuda</td>\n      <td>33.54</td>\n      <td>37000.0</td>\n      <td>5.00</td>\n    </tr>\n    <tr>\n      <th>...</th>\n      <td>...</td>\n      <td>...</td>\n      <td>...</td>\n      <td>...</td>\n    </tr>\n    <tr>\n      <th>2015</th>\n      <td>Vietnam</td>\n      <td>75.40</td>\n      <td>93447601.0</td>\n      <td>1.70</td>\n    </tr>\n    <tr>\n      <th>2015</th>\n      <td>Virgin Islands (U.S.)</td>\n      <td>80.60</td>\n      <td>106291.0</td>\n      <td>2.45</td>\n    </tr>\n    <tr>\n      <th>2015</th>\n      <td>Yemen</td>\n      <td>66.00</td>\n      <td>26832215.0</td>\n      <td>3.83</td>\n    </tr>\n    <tr>\n      <th>2015</th>\n      <td>Zambia</td>\n      <td>56.70</td>\n      <td>16211767.0</td>\n      <td>5.59</td>\n    </tr>\n    <tr>\n      <th>2015</th>\n      <td>Zimbabwe</td>\n      <td>59.30</td>\n      <td>15602751.0</td>\n      <td>3.35</td>\n    </tr>\n  </tbody>\n</table>\n<p>16230 rows × 4 columns</p>\n</div>"
     },
     "metadata": {},
     "execution_count": 58
    }
   ],
   "source": [
    "df.set_index(\"year\")"
   ]
  },
  {
   "cell_type": "code",
   "execution_count": 59,
   "metadata": {},
   "outputs": [
    {
     "output_type": "execute_result",
     "data": {
      "text/plain": [
       "       year                country         variable  value\n",
       "0      1800            Afghanistan  life_expectancy  28.21\n",
       "1      1800                Albania  life_expectancy  35.40\n",
       "2      1800                Algeria  life_expectancy  28.82\n",
       "3      1800                 Angola  life_expectancy  26.98\n",
       "4      1800    Antigua and Barbuda  life_expectancy  33.54\n",
       "...     ...                    ...              ...    ...\n",
       "48685  2015                Vietnam   fertility_rate   1.70\n",
       "48686  2015  Virgin Islands (U.S.)   fertility_rate   2.45\n",
       "48687  2015                  Yemen   fertility_rate   3.83\n",
       "48688  2015                 Zambia   fertility_rate   5.59\n",
       "48689  2015               Zimbabwe   fertility_rate   3.35\n",
       "\n",
       "[48690 rows x 4 columns]"
      ],
      "text/html": "<div>\n<style scoped>\n    .dataframe tbody tr th:only-of-type {\n        vertical-align: middle;\n    }\n\n    .dataframe tbody tr th {\n        vertical-align: top;\n    }\n\n    .dataframe thead th {\n        text-align: right;\n    }\n</style>\n<table border=\"1\" class=\"dataframe\">\n  <thead>\n    <tr style=\"text-align: right;\">\n      <th></th>\n      <th>year</th>\n      <th>country</th>\n      <th>variable</th>\n      <th>value</th>\n    </tr>\n  </thead>\n  <tbody>\n    <tr>\n      <th>0</th>\n      <td>1800</td>\n      <td>Afghanistan</td>\n      <td>life_expectancy</td>\n      <td>28.21</td>\n    </tr>\n    <tr>\n      <th>1</th>\n      <td>1800</td>\n      <td>Albania</td>\n      <td>life_expectancy</td>\n      <td>35.40</td>\n    </tr>\n    <tr>\n      <th>2</th>\n      <td>1800</td>\n      <td>Algeria</td>\n      <td>life_expectancy</td>\n      <td>28.82</td>\n    </tr>\n    <tr>\n      <th>3</th>\n      <td>1800</td>\n      <td>Angola</td>\n      <td>life_expectancy</td>\n      <td>26.98</td>\n    </tr>\n    <tr>\n      <th>4</th>\n      <td>1800</td>\n      <td>Antigua and Barbuda</td>\n      <td>life_expectancy</td>\n      <td>33.54</td>\n    </tr>\n    <tr>\n      <th>...</th>\n      <td>...</td>\n      <td>...</td>\n      <td>...</td>\n      <td>...</td>\n    </tr>\n    <tr>\n      <th>48685</th>\n      <td>2015</td>\n      <td>Vietnam</td>\n      <td>fertility_rate</td>\n      <td>1.70</td>\n    </tr>\n    <tr>\n      <th>48686</th>\n      <td>2015</td>\n      <td>Virgin Islands (U.S.)</td>\n      <td>fertility_rate</td>\n      <td>2.45</td>\n    </tr>\n    <tr>\n      <th>48687</th>\n      <td>2015</td>\n      <td>Yemen</td>\n      <td>fertility_rate</td>\n      <td>3.83</td>\n    </tr>\n    <tr>\n      <th>48688</th>\n      <td>2015</td>\n      <td>Zambia</td>\n      <td>fertility_rate</td>\n      <td>5.59</td>\n    </tr>\n    <tr>\n      <th>48689</th>\n      <td>2015</td>\n      <td>Zimbabwe</td>\n      <td>fertility_rate</td>\n      <td>3.35</td>\n    </tr>\n  </tbody>\n</table>\n<p>48690 rows × 4 columns</p>\n</div>"
     },
     "metadata": {},
     "execution_count": 59
    }
   ],
   "source": [
    "df.melt(id_vars=['year','country'],value_vars=['life_expectancy',\t'population'\t,'fertility_rate'])"
   ]
  },
  {
   "cell_type": "code",
   "execution_count": 60,
   "metadata": {},
   "outputs": [],
   "source": [
    "df.set_index('year',inplace=True)"
   ]
  },
  {
   "cell_type": "code",
   "execution_count": 61,
   "metadata": {},
   "outputs": [],
   "source": [
    "import imageio\n",
    "import os\n",
    "import re"
   ]
  },
  {
   "cell_type": "code",
   "execution_count": 62,
   "metadata": {},
   "outputs": [
    {
     "output_type": "execute_result",
     "data": {
      "text/plain": [
       "                  country  life_expectancy  population  fertility_rate\n",
       "year                                                                  \n",
       "1800          Afghanistan            28.21   3280000.0            7.00\n",
       "1800              Albania            35.40    410445.0            4.60\n",
       "1800              Algeria            28.82   2503218.0            6.99\n",
       "1800               Angola            26.98   1567028.0            6.93\n",
       "1800  Antigua and Barbuda            33.54     37000.0            5.00"
      ],
      "text/html": "<div>\n<style scoped>\n    .dataframe tbody tr th:only-of-type {\n        vertical-align: middle;\n    }\n\n    .dataframe tbody tr th {\n        vertical-align: top;\n    }\n\n    .dataframe thead th {\n        text-align: right;\n    }\n</style>\n<table border=\"1\" class=\"dataframe\">\n  <thead>\n    <tr style=\"text-align: right;\">\n      <th></th>\n      <th>country</th>\n      <th>life_expectancy</th>\n      <th>population</th>\n      <th>fertility_rate</th>\n    </tr>\n    <tr>\n      <th>year</th>\n      <th></th>\n      <th></th>\n      <th></th>\n      <th></th>\n    </tr>\n  </thead>\n  <tbody>\n    <tr>\n      <th>1800</th>\n      <td>Afghanistan</td>\n      <td>28.21</td>\n      <td>3280000.0</td>\n      <td>7.00</td>\n    </tr>\n    <tr>\n      <th>1800</th>\n      <td>Albania</td>\n      <td>35.40</td>\n      <td>410445.0</td>\n      <td>4.60</td>\n    </tr>\n    <tr>\n      <th>1800</th>\n      <td>Algeria</td>\n      <td>28.82</td>\n      <td>2503218.0</td>\n      <td>6.99</td>\n    </tr>\n    <tr>\n      <th>1800</th>\n      <td>Angola</td>\n      <td>26.98</td>\n      <td>1567028.0</td>\n      <td>6.93</td>\n    </tr>\n    <tr>\n      <th>1800</th>\n      <td>Antigua and Barbuda</td>\n      <td>33.54</td>\n      <td>37000.0</td>\n      <td>5.00</td>\n    </tr>\n  </tbody>\n</table>\n</div>"
     },
     "metadata": {},
     "execution_count": 62
    }
   ],
   "source": [
    "df.head()"
   ]
  },
  {
   "cell_type": "code",
   "execution_count": 63,
   "metadata": {},
   "outputs": [
    {
     "output_type": "error",
     "ename": "NameError",
     "evalue": "name 'x' is not defined",
     "traceback": [
      "\u001b[0;31m---------------------------------------------------------------------------\u001b[0m",
      "\u001b[0;31mNameError\u001b[0m                                 Traceback (most recent call last)",
      "\u001b[0;32m<ipython-input-63-5e2f991b5494>\u001b[0m in \u001b[0;36m<module>\u001b[0;34m\u001b[0m\n\u001b[0;32m----> 1\u001b[0;31m \u001b[0;32mfor\u001b[0m \u001b[0mi\u001b[0m \u001b[0;32min\u001b[0m \u001b[0mx\u001b[0m \u001b[0;34m:\u001b[0m\u001b[0;34m\u001b[0m\u001b[0;34m\u001b[0m\u001b[0m\n\u001b[0m\u001b[1;32m      2\u001b[0m     \u001b[0mprint\u001b[0m\u001b[0;34m(\u001b[0m\u001b[0mi\u001b[0m\u001b[0;34m)\u001b[0m\u001b[0;34m\u001b[0m\u001b[0;34m\u001b[0m\u001b[0m\n",
      "\u001b[0;31mNameError\u001b[0m: name 'x' is not defined"
     ]
    }
   ],
   "source": [
    "for i in x :\n",
    "    print(i)"
   ]
  },
  {
   "cell_type": "code",
   "execution_count": 64,
   "metadata": {},
   "outputs": [],
   "source": [
    "cont=   pd.read_csv('continents.csv',sep=\";\",index_col=0)"
   ]
  },
  {
   "cell_type": "code",
   "execution_count": 76,
   "metadata": {},
   "outputs": [
    {
     "output_type": "stream",
     "name": "stdout",
     "text": [
      "1800 0\n",
      "1800 1\n",
      "1800 2\n",
      "1800 3\n",
      "1800 4\n",
      "1810 0\n",
      "1810 1\n",
      "1810 2\n",
      "1810 3\n",
      "1810 4\n",
      "1820 0\n",
      "1820 1\n",
      "1820 2\n",
      "1820 3\n",
      "1820 4\n",
      "1830 0\n",
      "1830 1\n",
      "1830 2\n",
      "1830 3\n",
      "1830 4\n",
      "1840 0\n",
      "1840 1\n",
      "1840 2\n",
      "1840 3\n",
      "1840 4\n",
      "1850 0\n",
      "1850 1\n",
      "1850 2\n",
      "1850 3\n",
      "1850 4\n",
      "1860 0\n",
      "1860 1\n",
      "1860 2\n",
      "1860 3\n",
      "1860 4\n",
      "1870 0\n",
      "1870 1\n",
      "1870 2\n",
      "1870 3\n",
      "1870 4\n",
      "1880 0\n",
      "1880 1\n",
      "1880 2\n",
      "1880 3\n",
      "1880 4\n",
      "1890 0\n",
      "1890 1\n",
      "1890 2\n",
      "1890 3\n",
      "1890 4\n",
      "1900 0\n",
      "1900 1\n",
      "1900 2\n",
      "1900 3\n",
      "1900 4\n",
      "1910 0\n",
      "1910 1\n",
      "1910 2\n",
      "1910 3\n",
      "1910 4\n",
      "1920 0\n",
      "1920 1\n",
      "1920 2\n",
      "1920 3\n",
      "1920 4\n",
      "1930 0\n",
      "1930 1\n",
      "1930 2\n",
      "1930 3\n",
      "1930 4\n",
      "1940 0\n",
      "1940 1\n",
      "1940 2\n",
      "1940 3\n",
      "1940 4\n",
      "1950\n",
      "1951\n",
      "1952\n",
      "1953\n",
      "1954\n",
      "1955\n",
      "1956\n",
      "1957\n",
      "1958\n",
      "1959\n",
      "1960\n",
      "1961\n",
      "1962\n",
      "1963\n",
      "1964\n",
      "1965\n",
      "1966\n",
      "1967\n",
      "1968\n",
      "1969\n",
      "1970\n",
      "1971\n",
      "1972\n",
      "1973\n",
      "1974\n",
      "1975\n",
      "1976\n",
      "1977\n",
      "1978\n",
      "1979\n",
      "1980\n",
      "1981\n",
      "1982\n",
      "1983\n",
      "1984\n",
      "1985\n",
      "1986\n",
      "1987\n",
      "1988\n",
      "1989\n",
      "1990\n",
      "1991\n",
      "1992\n",
      "1993\n",
      "1994\n",
      "1995\n",
      "1996\n",
      "1997\n",
      "1998\n",
      "1999\n",
      "2000\n",
      "2001\n",
      "2002\n",
      "2003\n",
      "2004\n",
      "2005\n",
      "2006\n",
      "2007\n",
      "2008\n",
      "2009\n",
      "2010\n",
      "2011\n",
      "2012\n",
      "2013\n",
      "2014\n",
      "2015\n",
      "removed lifeexp_1800.png\n",
      "removed lifeexp_1801.png\n",
      "removed lifeexp_1802.png\n",
      "removed lifeexp_1803.png\n",
      "removed lifeexp_1804.png\n"
     ]
    },
    {
     "output_type": "error",
     "ename": "FileNotFoundError",
     "evalue": "[Errno 2] No such file or directory: 'lifeexp_1805.png'",
     "traceback": [
      "\u001b[0;31m---------------------------------------------------------------------------\u001b[0m",
      "\u001b[0;31mFileNotFoundError\u001b[0m                         Traceback (most recent call last)",
      "\u001b[0;32m<ipython-input-76-8c5cf5e32f0c>\u001b[0m in \u001b[0;36m<module>\u001b[0;34m\u001b[0m\n\u001b[1;32m     37\u001b[0m \u001b[0;32mimport\u001b[0m \u001b[0mos\u001b[0m\u001b[0;34m\u001b[0m\u001b[0;34m\u001b[0m\u001b[0m\n\u001b[1;32m     38\u001b[0m \u001b[0;32mfor\u001b[0m \u001b[0mi\u001b[0m \u001b[0;32min\u001b[0m \u001b[0mrange\u001b[0m\u001b[0;34m(\u001b[0m\u001b[0;36m1800\u001b[0m\u001b[0;34m,\u001b[0m\u001b[0;36m2015\u001b[0m\u001b[0;34m)\u001b[0m\u001b[0;34m:\u001b[0m\u001b[0;34m\u001b[0m\u001b[0;34m\u001b[0m\u001b[0m\n\u001b[0;32m---> 39\u001b[0;31m     \u001b[0mos\u001b[0m\u001b[0;34m.\u001b[0m\u001b[0mremove\u001b[0m\u001b[0;34m(\u001b[0m\u001b[0;34m'lifeexp_{}.png'\u001b[0m\u001b[0;34m.\u001b[0m\u001b[0mformat\u001b[0m\u001b[0;34m(\u001b[0m\u001b[0mi\u001b[0m\u001b[0;34m)\u001b[0m\u001b[0;34m)\u001b[0m\u001b[0;34m\u001b[0m\u001b[0;34m\u001b[0m\u001b[0m\n\u001b[0m\u001b[1;32m     40\u001b[0m     \u001b[0mprint\u001b[0m\u001b[0;34m(\u001b[0m\u001b[0;34m\"removed\"\u001b[0m\u001b[0;34m,\u001b[0m\u001b[0;34m(\u001b[0m\u001b[0;34m'lifeexp_{}.png'\u001b[0m\u001b[0;34m.\u001b[0m\u001b[0mformat\u001b[0m\u001b[0;34m(\u001b[0m\u001b[0mi\u001b[0m\u001b[0;34m)\u001b[0m\u001b[0;34m)\u001b[0m\u001b[0;34m)\u001b[0m\u001b[0;34m\u001b[0m\u001b[0;34m\u001b[0m\u001b[0m\n",
      "\u001b[0;31mFileNotFoundError\u001b[0m: [Errno 2] No such file or directory: 'lifeexp_1805.png'"
     ]
    }
   ],
   "source": [
    "images=[]\n",
    "for i in years:\n",
    "    \n",
    "\n",
    "\n",
    "   \n",
    "    if i < 1950:\n",
    "        \n",
    "        for x in range(5):\n",
    "            ax = sns.scatterplot(x='life_expectancy', y='fertility_rate', hue='country',size=\"population\",data=df.loc[i],      alpha=0.6)\n",
    "            ax.set_title(i)\n",
    "    \n",
    "            plt.legend().remove()\n",
    "            ax.set(xlabel=\"Life Expectancy\",ylabel= \"Fertility Rate\")\n",
    "            plt.axis((0,85,0,10))\n",
    "            yearnumber= i+x\n",
    "\n",
    "            filename = 'lifeexp_{}.png'.format(yearnumber)\n",
    "            plt.savefig(filename)\n",
    "            images.append(imageio.imread(filename))\n",
    "            print(i,x)\n",
    "            plt.close()\n",
    "    else:\n",
    "        ax = sns.scatterplot(x='life_expectancy', y='fertility_rate', hue='country',size=\"population\",data=df.loc[i], alpha=0.6)\n",
    "        ax.set_title(i)\n",
    "    \n",
    "        plt.legend().remove()\n",
    "        ax.set(xlabel=\"Life Expectancy\",ylabel= \"Fertility Rate\")\n",
    "        plt.axis((0,85,0,10))\n",
    "        filename = 'lifeexp_{}.png'.format(i)\n",
    "        plt.savefig(filename)\n",
    "        images.append(imageio.imread(filename))\n",
    "        print(i)\n",
    "        plt.close()\n",
    "\n",
    "imageio.mimsave('output6.gif', images, fps=10)\n",
    "import os\n",
    "for i in range(1800,2015):\n",
    "    os.remove('lifeexp_{}.png'.format(i))\n",
    "    print(\"removed\",('lifeexp_{}.png'.format(i)))\n"
   ]
  },
  {
   "cell_type": "code",
   "execution_count": 74,
   "metadata": {},
   "outputs": [
    {
     "output_type": "execute_result",
     "data": {
      "text/plain": [
       "         continent    country\n",
       "0           Africa    Algeria\n",
       "1           Africa     Angola\n",
       "2           Africa      Benin\n",
       "3           Africa   Botswana\n",
       "4           Africa    Burkina\n",
       "..             ...        ...\n",
       "189  South America   Paraguay\n",
       "190  South America       Peru\n",
       "191  South America   Suriname\n",
       "192  South America    Uruguay\n",
       "193  South America  Venezuela\n",
       "\n",
       "[194 rows x 2 columns]"
      ],
      "text/html": "<div>\n<style scoped>\n    .dataframe tbody tr th:only-of-type {\n        vertical-align: middle;\n    }\n\n    .dataframe tbody tr th {\n        vertical-align: top;\n    }\n\n    .dataframe thead th {\n        text-align: right;\n    }\n</style>\n<table border=\"1\" class=\"dataframe\">\n  <thead>\n    <tr style=\"text-align: right;\">\n      <th></th>\n      <th>continent</th>\n      <th>country</th>\n    </tr>\n  </thead>\n  <tbody>\n    <tr>\n      <th>0</th>\n      <td>Africa</td>\n      <td>Algeria</td>\n    </tr>\n    <tr>\n      <th>1</th>\n      <td>Africa</td>\n      <td>Angola</td>\n    </tr>\n    <tr>\n      <th>2</th>\n      <td>Africa</td>\n      <td>Benin</td>\n    </tr>\n    <tr>\n      <th>3</th>\n      <td>Africa</td>\n      <td>Botswana</td>\n    </tr>\n    <tr>\n      <th>4</th>\n      <td>Africa</td>\n      <td>Burkina</td>\n    </tr>\n    <tr>\n      <th>...</th>\n      <td>...</td>\n      <td>...</td>\n    </tr>\n    <tr>\n      <th>189</th>\n      <td>South America</td>\n      <td>Paraguay</td>\n    </tr>\n    <tr>\n      <th>190</th>\n      <td>South America</td>\n      <td>Peru</td>\n    </tr>\n    <tr>\n      <th>191</th>\n      <td>South America</td>\n      <td>Suriname</td>\n    </tr>\n    <tr>\n      <th>192</th>\n      <td>South America</td>\n      <td>Uruguay</td>\n    </tr>\n    <tr>\n      <th>193</th>\n      <td>South America</td>\n      <td>Venezuela</td>\n    </tr>\n  </tbody>\n</table>\n<p>194 rows × 2 columns</p>\n</div>"
     },
     "metadata": {},
     "execution_count": 74
    }
   ],
   "source": [
    "cont.reset_index()"
   ]
  },
  {
   "cell_type": "code",
   "execution_count": 86,
   "metadata": {},
   "outputs": [],
   "source": [
    "dfcont = df"
   ]
  },
  {
   "cell_type": "code",
   "execution_count": 88,
   "metadata": {},
   "outputs": [
    {
     "output_type": "execute_result",
     "data": {
      "text/plain": [
       "                       life_expectancy  population  fertility_rate\n",
       "country                                                           \n",
       "Afghanistan                      28.21   3280000.0            7.00\n",
       "Albania                          35.40    410445.0            4.60\n",
       "Algeria                          28.82   2503218.0            6.99\n",
       "Angola                           26.98   1567028.0            6.93\n",
       "Antigua and Barbuda              33.54     37000.0            5.00\n",
       "...                                ...         ...             ...\n",
       "Vietnam                          75.40  93447601.0            1.70\n",
       "Virgin Islands (U.S.)            80.60    106291.0            2.45\n",
       "Yemen                            66.00  26832215.0            3.83\n",
       "Zambia                           56.70  16211767.0            5.59\n",
       "Zimbabwe                         59.30  15602751.0            3.35\n",
       "\n",
       "[16230 rows x 3 columns]"
      ],
      "text/html": "<div>\n<style scoped>\n    .dataframe tbody tr th:only-of-type {\n        vertical-align: middle;\n    }\n\n    .dataframe tbody tr th {\n        vertical-align: top;\n    }\n\n    .dataframe thead th {\n        text-align: right;\n    }\n</style>\n<table border=\"1\" class=\"dataframe\">\n  <thead>\n    <tr style=\"text-align: right;\">\n      <th></th>\n      <th>life_expectancy</th>\n      <th>population</th>\n      <th>fertility_rate</th>\n    </tr>\n    <tr>\n      <th>country</th>\n      <th></th>\n      <th></th>\n      <th></th>\n    </tr>\n  </thead>\n  <tbody>\n    <tr>\n      <th>Afghanistan</th>\n      <td>28.21</td>\n      <td>3280000.0</td>\n      <td>7.00</td>\n    </tr>\n    <tr>\n      <th>Albania</th>\n      <td>35.40</td>\n      <td>410445.0</td>\n      <td>4.60</td>\n    </tr>\n    <tr>\n      <th>Algeria</th>\n      <td>28.82</td>\n      <td>2503218.0</td>\n      <td>6.99</td>\n    </tr>\n    <tr>\n      <th>Angola</th>\n      <td>26.98</td>\n      <td>1567028.0</td>\n      <td>6.93</td>\n    </tr>\n    <tr>\n      <th>Antigua and Barbuda</th>\n      <td>33.54</td>\n      <td>37000.0</td>\n      <td>5.00</td>\n    </tr>\n    <tr>\n      <th>...</th>\n      <td>...</td>\n      <td>...</td>\n      <td>...</td>\n    </tr>\n    <tr>\n      <th>Vietnam</th>\n      <td>75.40</td>\n      <td>93447601.0</td>\n      <td>1.70</td>\n    </tr>\n    <tr>\n      <th>Virgin Islands (U.S.)</th>\n      <td>80.60</td>\n      <td>106291.0</td>\n      <td>2.45</td>\n    </tr>\n    <tr>\n      <th>Yemen</th>\n      <td>66.00</td>\n      <td>26832215.0</td>\n      <td>3.83</td>\n    </tr>\n    <tr>\n      <th>Zambia</th>\n      <td>56.70</td>\n      <td>16211767.0</td>\n      <td>5.59</td>\n    </tr>\n    <tr>\n      <th>Zimbabwe</th>\n      <td>59.30</td>\n      <td>15602751.0</td>\n      <td>3.35</td>\n    </tr>\n  </tbody>\n</table>\n<p>16230 rows × 3 columns</p>\n</div>"
     },
     "metadata": {},
     "execution_count": 88
    }
   ],
   "source": [
    "dfcont.set_index(\"country\")"
   ]
  },
  {
   "cell_type": "code",
   "execution_count": 92,
   "metadata": {},
   "outputs": [],
   "source": [
    "dfcont=dfcont.reset_index()"
   ]
  },
  {
   "cell_type": "code",
   "execution_count": 101,
   "metadata": {},
   "outputs": [],
   "source": [
    "dfcont=dfcont.set_index(\"country\")"
   ]
  },
  {
   "cell_type": "code",
   "execution_count": 102,
   "metadata": {},
   "outputs": [],
   "source": [
    "cont = cont.reset_index()"
   ]
  },
  {
   "cell_type": "code",
   "execution_count": 103,
   "metadata": {},
   "outputs": [],
   "source": [
    "cont= cont.set_index(\"country\")"
   ]
  },
  {
   "cell_type": "code",
   "execution_count": 107,
   "metadata": {},
   "outputs": [],
   "source": [
    "dfcont =dfcont.drop(columns=\"continent\")"
   ]
  },
  {
   "cell_type": "code",
   "execution_count": 108,
   "metadata": {},
   "outputs": [],
   "source": [
    "dfcont =dfcont.join(cont)"
   ]
  },
  {
   "cell_type": "code",
   "execution_count": 109,
   "metadata": {},
   "outputs": [
    {
     "output_type": "execute_result",
     "data": {
      "text/plain": [
       "             year  life_expectancy  population  fertility_rate continent\n",
       "country                                                                 \n",
       "Afghanistan  1800            28.21   3280000.0            7.00      Asia\n",
       "Afghanistan  1810            28.11   3280000.0            7.00      Asia\n",
       "Afghanistan  1820            28.01   3323519.0            7.00      Asia\n",
       "Afghanistan  1830            27.90   3448982.0            7.00      Asia\n",
       "Afghanistan  1840            27.80   3625022.0            7.00      Asia\n",
       "...           ...              ...         ...             ...       ...\n",
       "Zimbabwe     2011            51.60  14255592.0            3.64    Africa\n",
       "Zimbabwe     2012            54.20  14565482.0            3.56    Africa\n",
       "Zimbabwe     2013            55.70  14898092.0            3.49    Africa\n",
       "Zimbabwe     2014            57.00  15245855.0            3.41    Africa\n",
       "Zimbabwe     2015            59.30  15602751.0            3.35    Africa\n",
       "\n",
       "[16230 rows x 5 columns]"
      ],
      "text/html": "<div>\n<style scoped>\n    .dataframe tbody tr th:only-of-type {\n        vertical-align: middle;\n    }\n\n    .dataframe tbody tr th {\n        vertical-align: top;\n    }\n\n    .dataframe thead th {\n        text-align: right;\n    }\n</style>\n<table border=\"1\" class=\"dataframe\">\n  <thead>\n    <tr style=\"text-align: right;\">\n      <th></th>\n      <th>year</th>\n      <th>life_expectancy</th>\n      <th>population</th>\n      <th>fertility_rate</th>\n      <th>continent</th>\n    </tr>\n    <tr>\n      <th>country</th>\n      <th></th>\n      <th></th>\n      <th></th>\n      <th></th>\n      <th></th>\n    </tr>\n  </thead>\n  <tbody>\n    <tr>\n      <th>Afghanistan</th>\n      <td>1800</td>\n      <td>28.21</td>\n      <td>3280000.0</td>\n      <td>7.00</td>\n      <td>Asia</td>\n    </tr>\n    <tr>\n      <th>Afghanistan</th>\n      <td>1810</td>\n      <td>28.11</td>\n      <td>3280000.0</td>\n      <td>7.00</td>\n      <td>Asia</td>\n    </tr>\n    <tr>\n      <th>Afghanistan</th>\n      <td>1820</td>\n      <td>28.01</td>\n      <td>3323519.0</td>\n      <td>7.00</td>\n      <td>Asia</td>\n    </tr>\n    <tr>\n      <th>Afghanistan</th>\n      <td>1830</td>\n      <td>27.90</td>\n      <td>3448982.0</td>\n      <td>7.00</td>\n      <td>Asia</td>\n    </tr>\n    <tr>\n      <th>Afghanistan</th>\n      <td>1840</td>\n      <td>27.80</td>\n      <td>3625022.0</td>\n      <td>7.00</td>\n      <td>Asia</td>\n    </tr>\n    <tr>\n      <th>...</th>\n      <td>...</td>\n      <td>...</td>\n      <td>...</td>\n      <td>...</td>\n      <td>...</td>\n    </tr>\n    <tr>\n      <th>Zimbabwe</th>\n      <td>2011</td>\n      <td>51.60</td>\n      <td>14255592.0</td>\n      <td>3.64</td>\n      <td>Africa</td>\n    </tr>\n    <tr>\n      <th>Zimbabwe</th>\n      <td>2012</td>\n      <td>54.20</td>\n      <td>14565482.0</td>\n      <td>3.56</td>\n      <td>Africa</td>\n    </tr>\n    <tr>\n      <th>Zimbabwe</th>\n      <td>2013</td>\n      <td>55.70</td>\n      <td>14898092.0</td>\n      <td>3.49</td>\n      <td>Africa</td>\n    </tr>\n    <tr>\n      <th>Zimbabwe</th>\n      <td>2014</td>\n      <td>57.00</td>\n      <td>15245855.0</td>\n      <td>3.41</td>\n      <td>Africa</td>\n    </tr>\n    <tr>\n      <th>Zimbabwe</th>\n      <td>2015</td>\n      <td>59.30</td>\n      <td>15602751.0</td>\n      <td>3.35</td>\n      <td>Africa</td>\n    </tr>\n  </tbody>\n</table>\n<p>16230 rows × 5 columns</p>\n</div>"
     },
     "metadata": {},
     "execution_count": 109
    }
   ],
   "source": [
    "dfcont"
   ]
  },
  {
   "cell_type": "code",
   "execution_count": 115,
   "metadata": {},
   "outputs": [],
   "source": [
    "dfcont =dfcont.reset_index()"
   ]
  },
  {
   "cell_type": "code",
   "execution_count": 116,
   "metadata": {},
   "outputs": [],
   "source": [
    "dfcont=dfcont.set_index(\"year\")"
   ]
  },
  {
   "cell_type": "code",
   "execution_count": 138,
   "metadata": {},
   "outputs": [
    {
     "output_type": "stream",
     "name": "stdout",
     "text": [
      "1800 0\n",
      "1800 1\n",
      "1800 2\n",
      "1800 3\n",
      "1800 4\n",
      "1810 0\n",
      "1810 1\n",
      "1810 2\n",
      "1810 3\n",
      "1810 4\n",
      "1820 0\n",
      "1820 1\n",
      "1820 2\n",
      "1820 3\n",
      "1820 4\n",
      "1830 0\n",
      "1830 1\n",
      "1830 2\n",
      "1830 3\n",
      "1830 4\n",
      "1840 0\n",
      "1840 1\n",
      "1840 2\n",
      "1840 3\n",
      "1840 4\n",
      "1850 0\n",
      "1850 1\n",
      "1850 2\n",
      "1850 3\n",
      "1850 4\n",
      "1860 0\n",
      "1860 1\n",
      "1860 2\n",
      "1860 3\n",
      "1860 4\n",
      "1870 0\n",
      "1870 1\n",
      "1870 2\n",
      "1870 3\n",
      "1870 4\n",
      "1880 0\n",
      "1880 1\n",
      "1880 2\n",
      "1880 3\n",
      "1880 4\n",
      "1890 0\n",
      "1890 1\n",
      "1890 2\n",
      "1890 3\n",
      "1890 4\n",
      "1900 0\n",
      "1900 1\n",
      "1900 2\n",
      "1900 3\n",
      "1900 4\n",
      "1910 0\n",
      "1910 1\n",
      "1910 2\n",
      "1910 3\n",
      "1910 4\n",
      "1920 0\n",
      "1920 1\n",
      "1920 2\n",
      "1920 3\n",
      "1920 4\n",
      "1930 0\n",
      "1930 1\n",
      "1930 2\n",
      "1930 3\n",
      "1930 4\n",
      "1940 0\n",
      "1940 1\n",
      "1940 2\n",
      "1940 3\n",
      "1940 4\n",
      "1950\n",
      "1951\n",
      "1952\n",
      "1953\n",
      "1954\n",
      "1955\n",
      "1956\n",
      "1957\n",
      "1958\n",
      "1959\n",
      "1960\n",
      "1961\n",
      "1962\n",
      "1963\n",
      "1964\n",
      "1965\n",
      "1966\n",
      "1967\n",
      "1968\n",
      "1969\n",
      "1970\n",
      "1971\n",
      "1972\n",
      "1973\n",
      "1974\n",
      "1975\n",
      "1976\n",
      "1977\n",
      "1978\n",
      "1979\n",
      "1980\n",
      "1981\n",
      "1982\n",
      "1983\n",
      "1984\n",
      "1985\n",
      "1986\n",
      "1987\n",
      "1988\n",
      "1989\n",
      "1990\n",
      "1991\n",
      "1992\n",
      "1993\n",
      "1994\n",
      "1995\n",
      "1996\n",
      "1997\n",
      "1998\n",
      "1999\n",
      "2000\n",
      "2001\n",
      "2002\n",
      "2003\n",
      "2004\n",
      "2005\n",
      "2006\n",
      "2007\n",
      "2008\n",
      "2009\n",
      "2010\n",
      "2011\n",
      "2012\n",
      "2013\n",
      "2014\n",
      "2015\n",
      "removed lifeexp_1800.png\n",
      "removed lifeexp_1801.png\n",
      "removed lifeexp_1802.png\n",
      "removed lifeexp_1803.png\n",
      "removed lifeexp_1804.png\n"
     ]
    },
    {
     "output_type": "error",
     "ename": "FileNotFoundError",
     "evalue": "[Errno 2] No such file or directory: 'lifeexp_1805.png'",
     "traceback": [
      "\u001b[0;31m---------------------------------------------------------------------------\u001b[0m",
      "\u001b[0;31mFileNotFoundError\u001b[0m                         Traceback (most recent call last)",
      "\u001b[0;32m<ipython-input-138-8c545007e245>\u001b[0m in \u001b[0;36m<module>\u001b[0;34m\u001b[0m\n\u001b[1;32m     43\u001b[0m \u001b[0;32mimport\u001b[0m \u001b[0mos\u001b[0m\u001b[0;34m\u001b[0m\u001b[0;34m\u001b[0m\u001b[0m\n\u001b[1;32m     44\u001b[0m \u001b[0;32mfor\u001b[0m \u001b[0mi\u001b[0m \u001b[0;32min\u001b[0m \u001b[0mrange\u001b[0m\u001b[0;34m(\u001b[0m\u001b[0;36m1800\u001b[0m\u001b[0;34m,\u001b[0m\u001b[0;36m2015\u001b[0m\u001b[0;34m)\u001b[0m\u001b[0;34m:\u001b[0m\u001b[0;34m\u001b[0m\u001b[0;34m\u001b[0m\u001b[0m\n\u001b[0;32m---> 45\u001b[0;31m     \u001b[0mos\u001b[0m\u001b[0;34m.\u001b[0m\u001b[0mremove\u001b[0m\u001b[0;34m(\u001b[0m\u001b[0;34m'lifeexp_{}.png'\u001b[0m\u001b[0;34m.\u001b[0m\u001b[0mformat\u001b[0m\u001b[0;34m(\u001b[0m\u001b[0mi\u001b[0m\u001b[0;34m)\u001b[0m\u001b[0;34m)\u001b[0m\u001b[0;34m\u001b[0m\u001b[0;34m\u001b[0m\u001b[0m\n\u001b[0m\u001b[1;32m     46\u001b[0m     \u001b[0mprint\u001b[0m\u001b[0;34m(\u001b[0m\u001b[0;34m\"removed\"\u001b[0m\u001b[0;34m,\u001b[0m\u001b[0;34m(\u001b[0m\u001b[0;34m'lifeexp_{}.png'\u001b[0m\u001b[0;34m.\u001b[0m\u001b[0mformat\u001b[0m\u001b[0;34m(\u001b[0m\u001b[0mi\u001b[0m\u001b[0;34m)\u001b[0m\u001b[0;34m)\u001b[0m\u001b[0;34m)\u001b[0m\u001b[0;34m\u001b[0m\u001b[0;34m\u001b[0m\u001b[0m\n",
      "\u001b[0;31mFileNotFoundError\u001b[0m: [Errno 2] No such file or directory: 'lifeexp_1805.png'"
     ]
    }
   ],
   "source": [
    "images=[]\n",
    "for i in years:\n",
    "    \n",
    "\n",
    "\n",
    "   \n",
    "    if i < 1950:\n",
    "        \n",
    "        for x in range(10):\n",
    "            plt.subplots(figsize = (10,7))\n",
    "            ax = sns.scatterplot(x='life_expectancy', y='fertility_rate', hue='continent',size=\"population\",data=dfcont.loc[i],      alpha=0.6)\n",
    "            ax.set_title(i)\n",
    "            \n",
    "            h,l = ax.get_legend_handles_labels()\n",
    "\n",
    "            plt.legend(h[:7],l[:7],loc='lower left', frameon=False)\n",
    "            \n",
    "            ax.set(xlabel=\"Life Expectancy\",ylabel= \"Fertility Rate\")\n",
    "            plt.axis((0,85,0,10))\n",
    "            yearnumber= i+x\n",
    "\n",
    "            filename = 'lifeexp_{}.png'.format(yearnumber)\n",
    "            plt.savefig(filename)\n",
    "            images.append(imageio.imread(filename))\n",
    "            print(i,x)\n",
    "            plt.close()\n",
    "    else:\n",
    "        plt.subplots(figsize = (10,7))\n",
    "        ax = sns.scatterplot(x='life_expectancy', y='fertility_rate', hue='continent',size=\"population\",data=dfcont.loc[i], alpha=0.6)\n",
    "        ax.set_title(i)\n",
    "        h,l = ax.get_legend_handles_labels()\n",
    "\n",
    "        plt.legend(h[:7],l[:7],loc='lower left', frameon=False)\n",
    "        ax.set(xlabel=\"Life Expectancy\",ylabel= \"Fertility Rate\")\n",
    "        plt.axis((0,85,0,10))\n",
    "        filename = 'lifeexp_{}.png'.format(i)\n",
    "        plt.savefig(filename)\n",
    "        images.append(imageio.imread(filename))\n",
    "        print(i)\n",
    "        plt.close()\n",
    "\n",
    "imageio.mimsave('output6.gif', images, fps=10)\n",
    "import os\n",
    "for i in years:\n",
    "    os.remove('lifeexp_{}.png'.format(i))\n",
    "    print(\"removed\",('lifeexp_{}.png'.format(i)))"
   ]
  },
  {
   "cell_type": "code",
   "execution_count": 114,
   "metadata": {},
   "outputs": [
    {
     "output_type": "execute_result",
     "data": {
      "text/plain": [
       "             year  life_expectancy  population  fertility_rate continent\n",
       "country                                                                 \n",
       "Afghanistan  1800            28.21   3280000.0            7.00      Asia\n",
       "Afghanistan  1810            28.11   3280000.0            7.00      Asia\n",
       "Afghanistan  1820            28.01   3323519.0            7.00      Asia\n",
       "Afghanistan  1830            27.90   3448982.0            7.00      Asia\n",
       "Afghanistan  1840            27.80   3625022.0            7.00      Asia\n",
       "...           ...              ...         ...             ...       ...\n",
       "Zimbabwe     2011            51.60  14255592.0            3.64    Africa\n",
       "Zimbabwe     2012            54.20  14565482.0            3.56    Africa\n",
       "Zimbabwe     2013            55.70  14898092.0            3.49    Africa\n",
       "Zimbabwe     2014            57.00  15245855.0            3.41    Africa\n",
       "Zimbabwe     2015            59.30  15602751.0            3.35    Africa\n",
       "\n",
       "[16230 rows x 5 columns]"
      ],
      "text/html": "<div>\n<style scoped>\n    .dataframe tbody tr th:only-of-type {\n        vertical-align: middle;\n    }\n\n    .dataframe tbody tr th {\n        vertical-align: top;\n    }\n\n    .dataframe thead th {\n        text-align: right;\n    }\n</style>\n<table border=\"1\" class=\"dataframe\">\n  <thead>\n    <tr style=\"text-align: right;\">\n      <th></th>\n      <th>year</th>\n      <th>life_expectancy</th>\n      <th>population</th>\n      <th>fertility_rate</th>\n      <th>continent</th>\n    </tr>\n    <tr>\n      <th>country</th>\n      <th></th>\n      <th></th>\n      <th></th>\n      <th></th>\n      <th></th>\n    </tr>\n  </thead>\n  <tbody>\n    <tr>\n      <th>Afghanistan</th>\n      <td>1800</td>\n      <td>28.21</td>\n      <td>3280000.0</td>\n      <td>7.00</td>\n      <td>Asia</td>\n    </tr>\n    <tr>\n      <th>Afghanistan</th>\n      <td>1810</td>\n      <td>28.11</td>\n      <td>3280000.0</td>\n      <td>7.00</td>\n      <td>Asia</td>\n    </tr>\n    <tr>\n      <th>Afghanistan</th>\n      <td>1820</td>\n      <td>28.01</td>\n      <td>3323519.0</td>\n      <td>7.00</td>\n      <td>Asia</td>\n    </tr>\n    <tr>\n      <th>Afghanistan</th>\n      <td>1830</td>\n      <td>27.90</td>\n      <td>3448982.0</td>\n      <td>7.00</td>\n      <td>Asia</td>\n    </tr>\n    <tr>\n      <th>Afghanistan</th>\n      <td>1840</td>\n      <td>27.80</td>\n      <td>3625022.0</td>\n      <td>7.00</td>\n      <td>Asia</td>\n    </tr>\n    <tr>\n      <th>...</th>\n      <td>...</td>\n      <td>...</td>\n      <td>...</td>\n      <td>...</td>\n      <td>...</td>\n    </tr>\n    <tr>\n      <th>Zimbabwe</th>\n      <td>2011</td>\n      <td>51.60</td>\n      <td>14255592.0</td>\n      <td>3.64</td>\n      <td>Africa</td>\n    </tr>\n    <tr>\n      <th>Zimbabwe</th>\n      <td>2012</td>\n      <td>54.20</td>\n      <td>14565482.0</td>\n      <td>3.56</td>\n      <td>Africa</td>\n    </tr>\n    <tr>\n      <th>Zimbabwe</th>\n      <td>2013</td>\n      <td>55.70</td>\n      <td>14898092.0</td>\n      <td>3.49</td>\n      <td>Africa</td>\n    </tr>\n    <tr>\n      <th>Zimbabwe</th>\n      <td>2014</td>\n      <td>57.00</td>\n      <td>15245855.0</td>\n      <td>3.41</td>\n      <td>Africa</td>\n    </tr>\n    <tr>\n      <th>Zimbabwe</th>\n      <td>2015</td>\n      <td>59.30</td>\n      <td>15602751.0</td>\n      <td>3.35</td>\n      <td>Africa</td>\n    </tr>\n  </tbody>\n</table>\n<p>16230 rows × 5 columns</p>\n</div>"
     },
     "metadata": {},
     "execution_count": 114
    }
   ],
   "source": [
    "dfcont"
   ]
  },
  {
   "cell_type": "code",
   "execution_count": 140,
   "metadata": {},
   "outputs": [
    {
     "output_type": "display_data",
     "data": {
      "text/plain": "<Figure size 720x504 with 1 Axes>",
      "image/svg+xml": "<?xml version=\"1.0\" encoding=\"utf-8\" standalone=\"no\"?>\n<!DOCTYPE svg PUBLIC \"-//W3C//DTD SVG 1.1//EN\"\n  \"http://www.w3.org/Graphics/SVG/1.1/DTD/svg11.dtd\">\n<!-- Created with matplotlib (https://matplotlib.org/) -->\n<svg height=\"440.394375pt\" version=\"1.1\" viewBox=\"0 0 605.803125 440.394375\" width=\"605.803125pt\" xmlns=\"http://www.w3.org/2000/svg\" xmlns:xlink=\"http://www.w3.org/1999/xlink\">\n <defs>\n  <style type=\"text/css\">\n*{stroke-linecap:butt;stroke-linejoin:round;}\n  </style>\n </defs>\n <g id=\"figure_1\">\n  <g id=\"patch_1\">\n   <path d=\"M 0 440.394375 \nL 605.803125 440.394375 \nL 605.803125 0 \nL 0 0 \nz\n\" style=\"fill:none;\"/>\n  </g>\n  <g id=\"axes_1\">\n   <g id=\"patch_2\">\n    <path d=\"M 40.603125 402.838125 \nL 598.603125 402.838125 \nL 598.603125 22.318125 \nL 40.603125 22.318125 \nz\n\" style=\"fill:#ffffff;\"/>\n   </g>\n   <g id=\"PathCollection_1\">\n    <path clip-path=\"url(#p4300663c0a)\" d=\"M 369.49489 110.866153 \nC 370.070377 110.866153 370.622372 110.637509 371.029303 110.230578 \nC 371.436234 109.823647 371.664877 109.271652 371.664877 108.696165 \nC 371.664877 108.120678 371.436234 107.568683 371.029303 107.161752 \nC 370.622372 106.754821 370.070377 106.526177 369.49489 106.526177 \nC 368.919402 106.526177 368.367408 106.754821 367.960477 107.161752 \nC 367.553546 107.568683 367.324902 108.120678 367.324902 108.696165 \nC 367.324902 109.271652 367.553546 109.823647 367.960477 110.230578 \nC 368.367408 110.637509 368.919402 110.866153 369.49489 110.866153 \nz\n\" style=\"fill:#1f77b4;fill-opacity:0.6;stroke:#ffffff;stroke-opacity:0.6;stroke-width:0.339564;\"/>\n    <path clip-path=\"url(#p4300663c0a)\" d=\"M 530.986654 314.403353 \nC 531.551269 314.403353 532.092834 314.17903 532.492076 313.779787 \nC 532.891319 313.380544 533.115643 312.838979 533.115643 312.274365 \nC 533.115643 311.709751 532.891319 311.168186 532.492076 310.768943 \nC 532.092834 310.3697 531.551269 310.145377 530.986654 310.145377 \nC 530.42204 310.145377 529.880475 310.3697 529.481232 310.768943 \nC 529.08199 311.168186 528.857666 311.709751 528.857666 312.274365 \nC 528.857666 312.838979 529.08199 313.380544 529.481232 313.779787 \nC 529.880475 314.17903 530.42204 314.403353 530.986654 314.403353 \nz\n\" style=\"fill:#ff7f0e;fill-opacity:0.6;stroke:#ffffff;stroke-opacity:0.6;stroke-width:0.339564;\"/>\n    <path clip-path=\"url(#p4300663c0a)\" d=\"M 521.796066 309.525537 \nC 522.378964 309.525537 522.938067 309.293949 523.350239 308.881777 \nC 523.76241 308.469606 523.993998 307.910503 523.993998 307.327605 \nC 523.993998 306.744707 523.76241 306.185604 523.350239 305.773433 \nC 522.938067 305.361261 522.378964 305.129673 521.796066 305.129673 \nC 521.213168 305.129673 520.654065 305.361261 520.241894 305.773433 \nC 519.829722 306.185604 519.598134 306.744707 519.598134 307.327605 \nC 519.598134 307.910503 519.829722 308.469606 520.241894 308.881777 \nC 520.654065 309.293949 521.213168 309.525537 521.796066 309.525537 \nz\n\" style=\"fill:#2ca02c;fill-opacity:0.6;stroke:#ffffff;stroke-opacity:0.6;stroke-width:0.339564;\"/>\n    <path clip-path=\"url(#p4300663c0a)\" d=\"M 383.937243 144.721029 \nC 384.509706 144.721029 385.058799 144.493587 385.463592 144.088794 \nC 385.868385 143.684002 386.095827 143.134908 386.095827 142.562445 \nC 386.095827 141.989982 385.868385 141.440888 385.463592 141.036096 \nC 385.058799 140.631303 384.509706 140.403861 383.937243 140.403861 \nC 383.364779 140.403861 382.815686 140.631303 382.410893 141.036096 \nC 382.006101 141.440888 381.778659 141.989982 381.778659 142.562445 \nC 381.778659 143.134908 382.006101 143.684002 382.410893 144.088794 \nC 382.815686 144.493587 383.364779 144.721029 383.937243 144.721029 \nz\n\" style=\"fill:#2ca02c;fill-opacity:0.6;stroke:#ffffff;stroke-opacity:0.6;stroke-width:0.339564;\"/>\n    <path clip-path=\"url(#p4300663c0a)\" d=\"M 525.078419 316.678859 \nC 525.641014 316.678859 526.180642 316.455338 526.578457 316.057523 \nC 526.976272 315.659708 527.199793 315.12008 527.199793 314.557485 \nC 527.199793 313.99489 526.976272 313.455262 526.578457 313.057447 \nC 526.180642 312.659632 525.641014 312.436111 525.078419 312.436111 \nC 524.515824 312.436111 523.976196 312.659632 523.578381 313.057447 \nC 523.180566 313.455262 522.957045 313.99489 522.957045 314.557485 \nC 522.957045 315.12008 523.180566 315.659708 523.578381 316.057523 \nC 523.976196 316.455338 524.515824 316.678859 525.078419 316.678859 \nz\n\" style=\"fill:#d62728;fill-opacity:0.6;stroke:#ffffff;stroke-opacity:0.6;stroke-width:0.339564;\"/>\n    <path clip-path=\"url(#p4300663c0a)\" d=\"M 527.704301 310.681256 \nC 528.290955 310.681256 528.853659 310.448176 529.268486 310.033349 \nC 529.683312 309.618523 529.916392 309.055818 529.916392 308.469165 \nC 529.916392 307.882512 529.683312 307.319807 529.268486 306.904981 \nC 528.853659 306.490154 528.290955 306.257074 527.704301 306.257074 \nC 527.117648 306.257074 526.554944 306.490154 526.140117 306.904981 \nC 525.72529 307.319807 525.492211 307.882512 525.492211 308.469165 \nC 525.492211 309.055818 525.72529 309.618523 526.140117 310.033349 \nC 526.554944 310.448176 527.117648 310.681256 527.704301 310.681256 \nz\n\" style=\"fill:#9467bd;fill-opacity:0.6;stroke:#ffffff;stroke-opacity:0.6;stroke-width:0.339564;\"/>\n    <path clip-path=\"url(#p4300663c0a)\" d=\"M 508.666654 355.499399 \nC 509.231238 355.499399 509.772774 355.275087 510.171996 354.875866 \nC 510.571217 354.476645 510.795528 353.935109 510.795528 353.370525 \nC 510.795528 352.805941 510.571217 352.264405 510.171996 351.865184 \nC 509.772774 351.465963 509.231238 351.241651 508.666654 351.241651 \nC 508.10207 351.241651 507.560534 351.465963 507.161313 351.865184 \nC 506.762092 352.264405 506.537781 352.805941 506.537781 353.370525 \nC 506.537781 353.935109 506.762092 354.476645 507.161313 354.875866 \nC 507.560534 355.275087 508.10207 355.499399 508.666654 355.499399 \nz\n\" style=\"fill:#ff7f0e;fill-opacity:0.6;stroke:#ffffff;stroke-opacity:0.6;stroke-width:0.339564;\"/>\n    <path clip-path=\"url(#p4300663c0a)\" d=\"M 564.466654 338.035135 \nC 565.041755 338.035135 565.593379 337.806645 566.000037 337.399988 \nC 566.406695 336.99333 566.635185 336.441706 566.635185 335.866605 \nC 566.635185 335.291504 566.406695 334.73988 566.000037 334.333222 \nC 565.593379 333.926565 565.041755 333.698075 564.466654 333.698075 \nC 563.891553 333.698075 563.33993 333.926565 562.933272 334.333222 \nC 562.526614 334.73988 562.298124 335.291504 562.298124 335.866605 \nC 562.298124 336.441706 562.526614 336.99333 562.933272 337.399988 \nC 563.33993 337.806645 563.891553 338.035135 564.466654 338.035135 \nz\n\" style=\"fill:#8c564b;fill-opacity:0.6;stroke:#ffffff;stroke-opacity:0.6;stroke-width:0.339564;\"/>\n    <path clip-path=\"url(#p4300663c0a)\" d=\"M 553.963125 352.848144 \nC 554.530993 352.848144 555.07568 352.622527 555.477224 352.220984 \nC 555.878767 351.81944 556.104384 351.274753 556.104384 350.706885 \nC 556.104384 350.139017 555.878767 349.59433 555.477224 349.192786 \nC 555.07568 348.791243 554.530993 348.565626 553.963125 348.565626 \nC 553.395257 348.565626 552.85057 348.791243 552.449026 349.192786 \nC 552.047483 349.59433 551.821866 350.139017 551.821866 350.706885 \nC 551.821866 351.274753 552.047483 351.81944 552.449026 352.220984 \nC 552.85057 352.622527 553.395257 352.848144 553.963125 352.848144 \nz\n\" style=\"fill:#ff7f0e;fill-opacity:0.6;stroke:#ffffff;stroke-opacity:0.6;stroke-width:0.339564;\"/>\n    <path clip-path=\"url(#p4300663c0a)\" d=\"M 477.156066 326.97295 \nC 477.723979 326.97295 478.268707 326.747316 478.670282 326.345741 \nC 479.071857 325.944166 479.297491 325.399437 479.297491 324.831525 \nC 479.297491 324.263613 479.071857 323.718884 478.670282 323.317309 \nC 478.268707 322.915734 477.723979 322.6901 477.156066 322.6901 \nC 476.588154 322.6901 476.043425 322.915734 475.64185 323.317309 \nC 475.240276 323.718884 475.014642 324.263613 475.014642 324.831525 \nC 475.014642 325.399437 475.240276 325.944166 475.64185 326.345741 \nC 476.043425 326.747316 476.588154 326.97295 477.156066 326.97295 \nz\n\" style=\"fill:#ff7f0e;fill-opacity:0.6;stroke:#ffffff;stroke-opacity:0.6;stroke-width:0.339564;\"/>\n    <path clip-path=\"url(#p4300663c0a)\" d=\"M 501.445478 326.192411 \nC 502.008219 326.192411 502.547988 325.968831 502.945906 325.570913 \nC 503.343824 325.172995 503.567404 324.633226 503.567404 324.070485 \nC 503.567404 323.507744 503.343824 322.967975 502.945906 322.570057 \nC 502.547988 322.172139 502.008219 321.948559 501.445478 321.948559 \nC 500.882737 321.948559 500.342968 322.172139 499.94505 322.570057 \nC 499.547132 322.967975 499.323552 323.507744 499.323552 324.070485 \nC 499.323552 324.633226 499.547132 325.172995 499.94505 325.570913 \nC 500.342968 325.968831 500.882737 326.192411 501.445478 326.192411 \nz\n\" style=\"fill:#d62728;fill-opacity:0.6;stroke:#ffffff;stroke-opacity:0.6;stroke-width:0.339564;\"/>\n    <path clip-path=\"url(#p4300663c0a)\" d=\"M 524.421949 299.556935 \nC 524.984935 299.556935 525.524939 299.333258 525.92303 298.935167 \nC 526.321122 298.537075 526.544798 297.997071 526.544798 297.434085 \nC 526.544798 296.871099 526.321122 296.331095 525.92303 295.933003 \nC 525.524939 295.534912 524.984935 295.311235 524.421949 295.311235 \nC 523.858962 295.311235 523.318958 295.534912 522.920867 295.933003 \nC 522.522775 296.331095 522.299099 296.871099 522.299099 297.434085 \nC 522.299099 297.997071 522.522775 298.537075 522.920867 298.935167 \nC 523.318958 299.333258 523.858962 299.556935 524.421949 299.556935 \nz\n\" style=\"fill:#1f77b4;fill-opacity:0.6;stroke:#ffffff;stroke-opacity:0.6;stroke-width:0.339564;\"/>\n    <path clip-path=\"url(#p4300663c0a)\" d=\"M 466.652537 286.543846 \nC 467.29644 286.543846 467.914057 286.288021 468.369365 285.832713 \nC 468.824673 285.377405 469.080498 284.759788 469.080498 284.115885 \nC 469.080498 283.471982 468.824673 282.854365 468.369365 282.399057 \nC 467.914057 281.943749 467.29644 281.687924 466.652537 281.687924 \nC 466.008634 281.687924 465.391017 281.943749 464.935709 282.399057 \nC 464.480401 282.854365 464.224575 283.471982 464.224575 284.115885 \nC 464.224575 284.759788 464.480401 285.377405 464.935709 285.832713 \nC 465.391017 286.288021 466.008634 286.543846 466.652537 286.543846 \nz\n\" style=\"fill:#1f77b4;fill-opacity:0.6;stroke:#ffffff;stroke-opacity:0.6;stroke-width:0.339564;\"/>\n    <path clip-path=\"url(#p4300663c0a)\" d=\"M 526.39136 337.607941 \nC 526.954083 337.607941 527.493834 337.384369 527.891739 336.986464 \nC 528.289644 336.588558 528.513216 336.048808 528.513216 335.486085 \nC 528.513216 334.923362 528.289644 334.383612 527.891739 333.985706 \nC 527.493834 333.587801 526.954083 333.364229 526.39136 333.364229 \nC 525.828638 333.364229 525.288887 333.587801 524.890982 333.985706 \nC 524.493077 334.383612 524.269505 334.923362 524.269505 335.486085 \nC 524.269505 336.048808 524.493077 336.588558 524.890982 336.986464 \nC 525.288887 337.384369 525.828638 337.607941 526.39136 337.607941 \nz\n\" style=\"fill:#d62728;fill-opacity:0.6;stroke:#ffffff;stroke-opacity:0.6;stroke-width:0.339564;\"/>\n    <path clip-path=\"url(#p4300663c0a)\" d=\"M 487.659596 358.180138 \nC 488.228714 358.180138 488.7746 357.954025 489.177027 357.551597 \nC 489.579455 357.149169 489.805568 356.603284 489.805568 356.034165 \nC 489.805568 355.465046 489.579455 354.919161 489.177027 354.516733 \nC 488.7746 354.114305 488.228714 353.888192 487.659596 353.888192 \nC 487.090477 353.888192 486.544591 354.114305 486.142164 354.516733 \nC 485.739736 354.919161 485.513623 355.465046 485.513623 356.034165 \nC 485.513623 356.603284 485.739736 357.149169 486.142164 357.551597 \nC 486.544591 357.954025 487.090477 358.180138 487.659596 358.180138 \nz\n\" style=\"fill:#ff7f0e;fill-opacity:0.6;stroke:#ffffff;stroke-opacity:0.6;stroke-width:0.339564;\"/>\n    <path clip-path=\"url(#p4300663c0a)\" d=\"M 551.337243 342.960121 \nC 551.906569 342.960121 552.452654 342.733925 552.855228 342.331351 \nC 553.257803 341.928776 553.483999 341.382691 553.483999 340.813365 \nC 553.483999 340.244039 553.257803 339.697954 552.855228 339.295379 \nC 552.452654 338.892805 551.906569 338.666609 551.337243 338.666609 \nC 550.767916 338.666609 550.221831 338.892805 549.819257 339.295379 \nC 549.416682 339.697954 549.190487 340.244039 549.190487 340.813365 \nC 549.190487 341.382691 549.416682 341.928776 549.819257 342.331351 \nC 550.221831 342.733925 550.767916 342.960121 551.337243 342.960121 \nz\n\" style=\"fill:#ff7f0e;fill-opacity:0.6;stroke:#ffffff;stroke-opacity:0.6;stroke-width:0.339564;\"/>\n    <path clip-path=\"url(#p4300663c0a)\" d=\"M 493.567831 268.353244 \nC 494.130539 268.353244 494.670275 268.129678 495.068169 267.731784 \nC 495.466064 267.333889 495.68963 266.794153 495.68963 266.231445 \nC 495.68963 265.668737 495.466064 265.129001 495.068169 264.731106 \nC 494.670275 264.333212 494.130539 264.109646 493.567831 264.109646 \nC 493.005123 264.109646 492.465387 264.333212 492.067492 264.731106 \nC 491.669598 265.129001 491.446032 265.668737 491.446032 266.231445 \nC 491.446032 266.794153 491.669598 267.333889 492.067492 267.731784 \nC 492.465387 268.129678 493.005123 268.353244 493.567831 268.353244 \nz\n\" style=\"fill:#d62728;fill-opacity:0.6;stroke:#ffffff;stroke-opacity:0.6;stroke-width:0.339564;\"/>\n    <path clip-path=\"url(#p4300663c0a)\" d=\"M 416.104301 177.425688 \nC 416.671444 177.425688 417.215435 177.200359 417.616465 176.799329 \nC 418.017496 176.398298 418.242824 175.854308 418.242824 175.287165 \nC 418.242824 174.720022 418.017496 174.176032 417.616465 173.775001 \nC 417.215435 173.373971 416.671444 173.148642 416.104301 173.148642 \nC 415.537159 173.148642 414.993168 173.373971 414.592138 173.775001 \nC 414.191107 174.176032 413.965779 174.720022 413.965779 175.287165 \nC 413.965779 175.854308 414.191107 176.398298 414.592138 176.799329 \nC 414.993168 177.200359 415.537159 177.425688 416.104301 177.425688 \nz\n\" style=\"fill:#2ca02c;fill-opacity:0.6;stroke:#ffffff;stroke-opacity:0.6;stroke-width:0.339564;\"/>\n    <path clip-path=\"url(#p4300663c0a)\" d=\"M 473.217243 267.592998 \nC 473.780161 267.592998 474.320099 267.369348 474.718142 266.971305 \nC 475.116186 266.573262 475.339836 266.033323 475.339836 265.470405 \nC 475.339836 264.907487 475.116186 264.367548 474.718142 263.969505 \nC 474.320099 263.571462 473.780161 263.347812 473.217243 263.347812 \nC 472.654324 263.347812 472.114386 263.571462 471.716343 263.969505 \nC 471.3183 264.367548 471.09465 264.907487 471.09465 265.470405 \nC 471.09465 266.033323 471.3183 266.573262 471.716343 266.971305 \nC 472.114386 267.369348 472.654324 267.592998 473.217243 267.592998 \nz\n\" style=\"fill:#1f77b4;fill-opacity:0.6;stroke:#ffffff;stroke-opacity:0.6;stroke-width:0.339564;\"/>\n    <path clip-path=\"url(#p4300663c0a)\" d=\"M 484.377243 247.44482 \nC 484.945301 247.44482 485.49017 247.219128 485.891848 246.81745 \nC 486.293526 246.415772 486.519218 245.870903 486.519218 245.302845 \nC 486.519218 244.734787 486.293526 244.189918 485.891848 243.78824 \nC 485.49017 243.386562 484.945301 243.16087 484.377243 243.16087 \nC 483.809184 243.16087 483.264316 243.386562 482.862638 243.78824 \nC 482.46096 244.189918 482.235268 244.734787 482.235268 245.302845 \nC 482.235268 245.870903 482.46096 246.415772 482.862638 246.81745 \nC 483.264316 247.219128 483.809184 247.44482 484.377243 247.44482 \nz\n\" style=\"fill:#9467bd;fill-opacity:0.6;stroke:#ffffff;stroke-opacity:0.6;stroke-width:0.339564;\"/>\n    <path clip-path=\"url(#p4300663c0a)\" d=\"M 537.55136 352.457028 \nC 538.116419 352.457028 538.65841 352.232528 539.057966 351.832971 \nC 539.457523 351.433414 539.682023 350.891423 539.682023 350.326365 \nC 539.682023 349.761307 539.457523 349.219316 539.057966 348.819759 \nC 538.65841 348.420202 538.116419 348.195702 537.55136 348.195702 \nC 536.986302 348.195702 536.444311 348.420202 536.044754 348.819759 \nC 535.645198 349.219316 535.420698 349.761307 535.420698 350.326365 \nC 535.420698 350.891423 535.645198 351.433414 536.044754 351.832971 \nC 536.444311 352.232528 536.986302 352.457028 537.55136 352.457028 \nz\n\" style=\"fill:#ff7f0e;fill-opacity:0.6;stroke:#ffffff;stroke-opacity:0.6;stroke-width:0.339564;\"/>\n    <path clip-path=\"url(#p4300663c0a)\" d=\"M 353.083125 275.206332 \nC 353.646821 275.206332 354.187506 274.982373 354.586099 274.583779 \nC 354.984693 274.185186 355.208652 273.644501 355.208652 273.080805 \nC 355.208652 272.517109 354.984693 271.976424 354.586099 271.577831 \nC 354.187506 271.179237 353.646821 270.955278 353.083125 270.955278 \nC 352.519429 270.955278 351.978744 271.179237 351.580151 271.577831 \nC 351.181557 271.976424 350.957598 272.517109 350.957598 273.080805 \nC 350.957598 273.644501 351.181557 274.185186 351.580151 274.583779 \nC 351.978744 274.982373 352.519429 275.206332 353.083125 275.206332 \nz\n\" style=\"fill:#2ca02c;fill-opacity:0.6;stroke:#ffffff;stroke-opacity:0.6;stroke-width:0.339564;\"/>\n    <path clip-path=\"url(#p4300663c0a)\" d=\"M 504.727831 315.558918 \nC 505.397074 315.558918 506.038998 315.293025 506.512224 314.819798 \nC 506.985451 314.346572 507.251344 313.704649 507.251344 313.035405 \nC 507.251344 312.366161 506.985451 311.724238 506.512224 311.251012 \nC 506.038998 310.777785 505.397074 310.511892 504.727831 310.511892 \nC 504.058587 310.511892 503.416664 310.777785 502.943438 311.251012 \nC 502.470211 311.724238 502.204318 312.366161 502.204318 313.035405 \nC 502.204318 313.704649 502.470211 314.346572 502.943438 314.819798 \nC 503.416664 315.293025 504.058587 315.558918 504.727831 315.558918 \nz\n\" style=\"fill:#9467bd;fill-opacity:0.6;stroke:#ffffff;stroke-opacity:0.6;stroke-width:0.339564;\"/>\n    <path clip-path=\"url(#p4300663c0a)\" d=\"M 538.864301 313.635333 \nC 539.427064 313.635333 539.966854 313.411745 540.364788 313.013811 \nC 540.762721 312.615878 540.986309 312.076088 540.986309 311.513325 \nC 540.986309 310.950562 540.762721 310.410772 540.364788 310.012839 \nC 539.966854 309.614905 539.427064 309.391317 538.864301 309.391317 \nC 538.301538 309.391317 537.761749 309.614905 537.363815 310.012839 \nC 536.965882 310.410772 536.742294 310.950562 536.742294 311.513325 \nC 536.742294 312.076088 536.965882 312.615878 537.363815 313.013811 \nC 537.761749 313.411745 538.301538 313.635333 538.864301 313.635333 \nz\n\" style=\"fill:#1f77b4;fill-opacity:0.6;stroke:#ffffff;stroke-opacity:0.6;stroke-width:0.339564;\"/>\n    <path clip-path=\"url(#p4300663c0a)\" d=\"M 510.636066 360.077899 \nC 511.203901 360.077899 511.748556 359.852295 512.150076 359.450775 \nC 512.551596 359.049255 512.7772 358.5046 512.7772 357.936765 \nC 512.7772 357.36893 512.551596 356.824275 512.150076 356.422755 \nC 511.748556 356.021235 511.203901 355.795631 510.636066 355.795631 \nC 510.068231 355.795631 509.523576 356.021235 509.122056 356.422755 \nC 508.720536 356.824275 508.494933 357.36893 508.494933 357.936765 \nC 508.494933 358.5046 508.720536 359.049255 509.122056 359.450775 \nC 509.523576 359.852295 510.068231 360.077899 510.636066 360.077899 \nz\n\" style=\"fill:#ff7f0e;fill-opacity:0.6;stroke:#ffffff;stroke-opacity:0.6;stroke-width:0.339564;\"/>\n    <path clip-path=\"url(#p4300663c0a)\" d=\"M 347.17489 136.329074 \nC 347.741912 136.329074 348.285788 136.103794 348.686733 135.702848 \nC 349.087679 135.301903 349.312959 134.758028 349.312959 134.191005 \nC 349.312959 133.623982 349.087679 133.080107 348.686733 132.679162 \nC 348.285788 132.278216 347.741912 132.052936 347.17489 132.052936 \nC 346.607867 132.052936 346.063992 132.278216 345.663046 132.679162 \nC 345.262101 133.080107 345.03682 133.623982 345.03682 134.191005 \nC 345.03682 134.758028 345.262101 135.301903 345.663046 135.702848 \nC 346.063992 136.103794 346.607867 136.329074 347.17489 136.329074 \nz\n\" style=\"fill:#2ca02c;fill-opacity:0.6;stroke:#ffffff;stroke-opacity:0.6;stroke-width:0.339564;\"/>\n    <path clip-path=\"url(#p4300663c0a)\" d=\"M 434.485478 262.294653 \nC 435.05607 262.294653 435.603369 262.067955 436.006838 261.664485 \nC 436.410308 261.261016 436.637006 260.713717 436.637006 260.143125 \nC 436.637006 259.572533 436.410308 259.025234 436.006838 258.621765 \nC 435.603369 258.218295 435.05607 257.991597 434.485478 257.991597 \nC 433.914886 257.991597 433.367587 258.218295 432.964118 258.621765 \nC 432.560648 259.025234 432.33395 259.572533 432.33395 260.143125 \nC 432.33395 260.713717 432.560648 261.261016 432.964118 261.664485 \nC 433.367587 262.067955 433.914886 262.294653 434.485478 262.294653 \nz\n\" style=\"fill:#1f77b4;fill-opacity:0.6;stroke:#ffffff;stroke-opacity:0.6;stroke-width:0.339564;\"/>\n    <path clip-path=\"url(#p4300663c0a)\" d=\"M 397.066654 191.146608 \nC 397.639685 191.146608 398.189323 190.918941 398.594516 190.513747 \nC 398.99971 190.108553 399.227377 189.558915 399.227377 188.985885 \nC 399.227377 188.412855 398.99971 187.863217 398.594516 187.458023 \nC 398.189323 187.052829 397.639685 186.825162 397.066654 186.825162 \nC 396.493624 186.825162 395.943986 187.052829 395.538792 187.458023 \nC 395.133599 187.863217 394.905931 188.412855 394.905931 188.985885 \nC 394.905931 189.558915 395.133599 190.108553 395.538792 190.513747 \nC 395.943986 190.918941 396.493624 191.146608 397.066654 191.146608 \nz\n\" style=\"fill:#2ca02c;fill-opacity:0.6;stroke:#ffffff;stroke-opacity:0.6;stroke-width:0.339564;\"/>\n    <path clip-path=\"url(#p4300663c0a)\" d=\"M 560.527831 347.576371 \nC 561.11042 347.576371 561.669226 347.344906 562.081179 346.932953 \nC 562.493132 346.521001 562.724597 345.962194 562.724597 345.379605 \nC 562.724597 344.797016 562.493132 344.238209 562.081179 343.826257 \nC 561.669226 343.414304 561.11042 343.182839 560.527831 343.182839 \nC 559.945242 343.182839 559.386435 343.414304 558.974482 343.826257 \nC 558.56253 344.238209 558.331064 344.797016 558.331064 345.379605 \nC 558.331064 345.962194 558.56253 346.521001 558.974482 346.932953 \nC 559.386435 347.344906 559.945242 347.576371 560.527831 347.576371 \nz\n\" style=\"fill:#d62728;fill-opacity:0.6;stroke:#ffffff;stroke-opacity:0.6;stroke-width:0.339564;\"/>\n    <path clip-path=\"url(#p4300663c0a)\" d=\"M 489.629007 264.168004 \nC 490.191842 264.168004 490.731701 263.944387 491.129685 263.546403 \nC 491.527669 263.148418 491.751286 262.60856 491.751286 262.045725 \nC 491.751286 261.48289 491.527669 260.943032 491.129685 260.545047 \nC 490.731701 260.147063 490.191842 259.923446 489.629007 259.923446 \nC 489.066172 259.923446 488.526314 260.147063 488.12833 260.545047 \nC 487.730345 260.943032 487.506729 261.48289 487.506729 262.045725 \nC 487.506729 262.60856 487.730345 263.148418 488.12833 263.546403 \nC 488.526314 263.944387 489.066172 264.168004 489.629007 264.168004 \nz\n\" style=\"fill:#2ca02c;fill-opacity:0.6;stroke:#ffffff;stroke-opacity:0.6;stroke-width:0.339564;\"/>\n    <path clip-path=\"url(#p4300663c0a)\" d=\"M 337.984301 197.585221 \nC 338.549316 197.585221 339.091264 197.360738 339.49079 196.961213 \nC 339.890315 196.561688 340.114797 196.019739 340.114797 195.454725 \nC 340.114797 194.889711 339.890315 194.347762 339.49079 193.948237 \nC 339.091264 193.548712 338.549316 193.324229 337.984301 193.324229 \nC 337.419287 193.324229 336.877339 193.548712 336.477813 193.948237 \nC 336.078288 194.347762 335.853806 194.889711 335.853806 195.454725 \nC 335.853806 196.019739 336.078288 196.561688 336.477813 196.961213 \nC 336.877339 197.360738 337.419287 197.585221 337.984301 197.585221 \nz\n\" style=\"fill:#2ca02c;fill-opacity:0.6;stroke:#ffffff;stroke-opacity:0.6;stroke-width:0.339564;\"/>\n    <path clip-path=\"url(#p4300663c0a)\" d=\"M 378.685478 125.297909 \nC 379.253539 125.297909 379.79841 125.072216 380.20009 124.670537 \nC 380.601769 124.268857 380.827462 123.723986 380.827462 123.155925 \nC 380.827462 122.587864 380.601769 122.042993 380.20009 121.641313 \nC 379.79841 121.239634 379.253539 121.013941 378.685478 121.013941 \nC 378.117417 121.013941 377.572546 121.239634 377.170866 121.641313 \nC 376.769186 122.042993 376.543493 122.587864 376.543493 123.155925 \nC 376.543493 123.723986 376.769186 124.268857 377.170866 124.670537 \nC 377.572546 125.072216 378.117417 125.297909 378.685478 125.297909 \nz\n\" style=\"fill:#2ca02c;fill-opacity:0.6;stroke:#ffffff;stroke-opacity:0.6;stroke-width:0.339564;\"/>\n    <path clip-path=\"url(#p4300663c0a)\" d=\"M 548.05489 325.468304 \nC 548.627426 325.468304 549.17659 325.240833 549.581434 324.835989 \nC 549.986278 324.431145 550.213749 323.881981 550.213749 323.309445 \nC 550.213749 322.736909 549.986278 322.187745 549.581434 321.782901 \nC 549.17659 321.378057 548.627426 321.150586 548.05489 321.150586 \nC 547.482354 321.150586 546.93319 321.378057 546.528346 321.782901 \nC 546.123501 322.187745 545.89603 322.736909 545.89603 323.309445 \nC 545.89603 323.881981 546.123501 324.431145 546.528346 324.835989 \nC 546.93319 325.240833 547.482354 325.468304 548.05489 325.468304 \nz\n\" style=\"fill:#9467bd;fill-opacity:0.6;stroke:#ffffff;stroke-opacity:0.6;stroke-width:0.339564;\"/>\n    <path clip-path=\"url(#p4300663c0a)\" d=\"M 498.819596 351.905366 \nC 499.944757 351.905366 501.023986 351.458334 501.819596 350.662725 \nC 502.615205 349.867116 503.062236 348.787886 503.062236 347.662725 \nC 503.062236 346.537564 502.615205 345.458334 501.819596 344.662725 \nC 501.023986 343.867116 499.944757 343.420084 498.819596 343.420084 \nC 497.694434 343.420084 496.615205 343.867116 495.819596 344.662725 \nC 495.023986 345.458334 494.576955 346.537564 494.576955 347.662725 \nC 494.576955 348.787886 495.023986 349.867116 495.819596 350.662725 \nC 496.615205 351.458334 497.694434 351.905366 498.819596 351.905366 \nz\n\" style=\"fill:#1f77b4;fill-opacity:0.6;stroke:#ffffff;stroke-opacity:0.6;stroke-width:0.339564;\"/>\n    <path clip-path=\"url(#p4300663c0a)\" d=\"M 521.796066 304.600962 \nC 522.384848 304.600962 522.949594 304.367037 523.365926 303.950705 \nC 523.782258 303.534373 524.016184 302.969627 524.016184 302.380845 \nC 524.016184 301.792063 523.782258 301.227317 523.365926 300.810985 \nC 522.949594 300.394653 522.384848 300.160728 521.796066 300.160728 \nC 521.207284 300.160728 520.642538 300.394653 520.226206 300.810985 \nC 519.809874 301.227317 519.575949 301.792063 519.575949 302.380845 \nC 519.575949 302.969627 519.809874 303.534373 520.226206 303.950705 \nC 520.642538 304.367037 521.207284 304.600962 521.796066 304.600962 \nz\n\" style=\"fill:#9467bd;fill-opacity:0.6;stroke:#ffffff;stroke-opacity:0.6;stroke-width:0.339564;\"/>\n    <path clip-path=\"url(#p4300663c0a)\" d=\"M 448.27136 202.524037 \nC 448.834268 202.524037 449.374195 202.300391 449.772231 201.902356 \nC 450.170266 201.50432 450.393912 200.964392 450.393912 200.401485 \nC 450.393912 199.838578 450.170266 199.29865 449.772231 198.900614 \nC 449.374195 198.502579 448.834268 198.278933 448.27136 198.278933 \nC 447.708453 198.278933 447.168525 198.502579 446.77049 198.900614 \nC 446.372454 199.29865 446.148809 199.838578 446.148809 200.401485 \nC 446.148809 200.964392 446.372454 201.50432 446.77049 201.902356 \nC 447.168525 202.300391 447.708453 202.524037 448.27136 202.524037 \nz\n\" style=\"fill:#2ca02c;fill-opacity:0.6;stroke:#ffffff;stroke-opacity:0.6;stroke-width:0.339564;\"/>\n    <path clip-path=\"url(#p4300663c0a)\" d=\"M 550.680772 313.263798 \nC 551.245918 313.263798 551.787993 313.039263 552.187612 312.639645 \nC 552.587231 312.240026 552.811765 311.697951 552.811765 311.132805 \nC 552.811765 310.567659 552.587231 310.025584 552.187612 309.625965 \nC 551.787993 309.226347 551.245918 309.001812 550.680772 309.001812 \nC 550.115626 309.001812 549.573551 309.226347 549.173932 309.625965 \nC 548.774314 310.025584 548.549779 310.567659 548.549779 311.132805 \nC 548.549779 311.697951 548.774314 312.240026 549.173932 312.639645 \nC 549.573551 313.039263 550.115626 313.263798 550.680772 313.263798 \nz\n\" style=\"fill:#d62728;fill-opacity:0.6;stroke:#ffffff;stroke-opacity:0.6;stroke-width:0.339564;\"/>\n    <path clip-path=\"url(#p4300663c0a)\" d=\"M 527.704301 350.175492 \nC 528.26978 350.175492 528.812174 349.950825 529.212028 349.550971 \nC 529.611881 349.151117 529.836548 348.608723 529.836548 348.043245 \nC 529.836548 347.477767 529.611881 346.935373 529.212028 346.535519 \nC 528.812174 346.135665 528.26978 345.910998 527.704301 345.910998 \nC 527.138823 345.910998 526.596429 346.135665 526.196575 346.535519 \nC 525.796722 346.935373 525.572055 347.477767 525.572055 348.043245 \nC 525.572055 348.608723 525.796722 349.151117 526.196575 349.550971 \nC 526.596429 349.950825 527.138823 350.175492 527.704301 350.175492 \nz\n\" style=\"fill:#ff7f0e;fill-opacity:0.6;stroke:#ffffff;stroke-opacity:0.6;stroke-width:0.339564;\"/>\n    <path clip-path=\"url(#p4300663c0a)\" d=\"M 540.833713 342.962221 \nC 541.403596 342.962221 541.950215 342.735804 542.353184 342.332835 \nC 542.756152 341.929867 542.982569 341.383248 542.982569 340.813365 \nC 542.982569 340.243482 542.756152 339.696863 542.353184 339.293895 \nC 541.950215 338.890926 541.403596 338.664509 540.833713 338.664509 \nC 540.26383 338.664509 539.717211 338.890926 539.314243 339.293895 \nC 538.911274 339.696863 538.684857 340.243482 538.684857 340.813365 \nC 538.684857 341.383248 538.911274 341.929867 539.314243 342.332835 \nC 539.717211 342.735804 540.26383 342.962221 540.833713 342.962221 \nz\n\" style=\"fill:#d62728;fill-opacity:0.6;stroke:#ffffff;stroke-opacity:0.6;stroke-width:0.339564;\"/>\n    <path clip-path=\"url(#p4300663c0a)\" d=\"M 550.680772 339.892747 \nC 551.243942 339.892747 551.784122 339.668997 552.182343 339.270776 \nC 552.580564 338.872555 552.804314 338.332375 552.804314 337.769205 \nC 552.804314 337.206035 552.580564 336.665855 552.182343 336.267634 \nC 551.784122 335.869413 551.243942 335.645663 550.680772 335.645663 \nC 550.117602 335.645663 549.577422 335.869413 549.179201 336.267634 \nC 548.78098 336.665855 548.55723 337.206035 548.55723 337.769205 \nC 548.55723 338.332375 548.78098 338.872555 549.179201 339.270776 \nC 549.577422 339.668997 550.117602 339.892747 550.680772 339.892747 \nz\n\" style=\"fill:#ff7f0e;fill-opacity:0.6;stroke:#ffffff;stroke-opacity:0.6;stroke-width:0.339564;\"/>\n    <path clip-path=\"url(#p4300663c0a)\" d=\"M 532.956066 361.986108 \nC 533.525389 361.986108 534.071471 361.759913 534.474043 361.357341 \nC 534.876615 360.954769 535.102809 360.408688 535.102809 359.839365 \nC 535.102809 359.270042 534.876615 358.723961 534.474043 358.321389 \nC 534.071471 357.918817 533.525389 357.692622 532.956066 357.692622 \nC 532.386743 357.692622 531.840662 357.918817 531.43809 358.321389 \nC 531.035518 358.723961 530.809323 359.270042 530.809323 359.839365 \nC 530.809323 360.408688 531.035518 360.954769 531.43809 361.357341 \nC 531.840662 361.759913 532.386743 361.986108 532.956066 361.986108 \nz\n\" style=\"fill:#ff7f0e;fill-opacity:0.6;stroke:#ffffff;stroke-opacity:0.6;stroke-width:0.339564;\"/>\n    <path clip-path=\"url(#p4300663c0a)\" d=\"M 546.741949 337.620599 \nC 547.308028 337.620599 547.850999 337.395694 548.251278 336.995415 \nC 548.651557 336.595136 548.876463 336.052165 548.876463 335.486085 \nC 548.876463 334.920005 548.651557 334.377034 548.251278 333.976755 \nC 547.850999 333.576476 547.308028 333.351571 546.741949 333.351571 \nC 546.175869 333.351571 545.632898 333.576476 545.232619 333.976755 \nC 544.83234 334.377034 544.607434 334.920005 544.607434 335.486085 \nC 544.607434 336.052165 544.83234 336.595136 545.232619 336.995415 \nC 545.632898 337.395694 546.175869 337.620599 546.741949 337.620599 \nz\n\" style=\"fill:#ff7f0e;fill-opacity:0.6;stroke:#ffffff;stroke-opacity:0.6;stroke-width:0.339564;\"/>\n    <path clip-path=\"url(#p4300663c0a)\" d=\"M 434.485478 234.868674 \nC 435.048501 234.868674 435.588541 234.644983 435.986658 234.246865 \nC 436.384776 233.848748 436.608467 233.308708 436.608467 232.745685 \nC 436.608467 232.182662 436.384776 231.642622 435.986658 231.244505 \nC 435.588541 230.846387 435.048501 230.622696 434.485478 230.622696 \nC 433.922455 230.622696 433.382415 230.846387 432.984298 231.244505 \nC 432.58618 231.642622 432.362489 232.182662 432.362489 232.745685 \nC 432.362489 233.308708 432.58618 233.848748 432.984298 234.246865 \nC 433.382415 234.644983 433.922455 234.868674 434.485478 234.868674 \nz\n\" style=\"fill:#2ca02c;fill-opacity:0.6;stroke:#ffffff;stroke-opacity:0.6;stroke-width:0.339564;\"/>\n    <path clip-path=\"url(#p4300663c0a)\" d=\"M 521.796066 295.010374 \nC 522.364271 295.010374 522.909281 294.784623 523.311063 294.382841 \nC 523.712844 293.98106 523.938595 293.43605 523.938595 292.867845 \nC 523.938595 292.29964 523.712844 291.75463 523.311063 291.352849 \nC 522.909281 290.951067 522.364271 290.725316 521.796066 290.725316 \nC 521.227861 290.725316 520.682851 290.951067 520.28107 291.352849 \nC 519.879288 291.75463 519.653538 292.29964 519.653538 292.867845 \nC 519.653538 293.43605 519.879288 293.98106 520.28107 294.382841 \nC 520.682851 294.784623 521.227861 295.010374 521.796066 295.010374 \nz\n\" style=\"fill:#d62728;fill-opacity:0.6;stroke:#ffffff;stroke-opacity:0.6;stroke-width:0.339564;\"/>\n    <path clip-path=\"url(#p4300663c0a)\" d=\"M 521.139596 288.171077 \nC 521.71047 288.171077 522.258039 287.944266 522.661708 287.540597 \nC 523.065377 287.136928 523.292188 286.589359 523.292188 286.018485 \nC 523.292188 285.447611 523.065377 284.900042 522.661708 284.496373 \nC 522.258039 284.092704 521.71047 283.865893 521.139596 283.865893 \nC 520.568722 283.865893 520.021152 284.092704 519.617483 284.496373 \nC 519.213814 284.900042 518.987004 285.447611 518.987004 286.018485 \nC 518.987004 286.589359 519.213814 287.136928 519.617483 287.540597 \nC 520.021152 287.944266 520.568722 288.171077 521.139596 288.171077 \nz\n\" style=\"fill:#9467bd;fill-opacity:0.6;stroke:#ffffff;stroke-opacity:0.6;stroke-width:0.339564;\"/>\n    <path clip-path=\"url(#p4300663c0a)\" d=\"M 498.163125 279.172016 \nC 498.769382 279.172016 499.35089 278.931147 499.779579 278.502459 \nC 500.208267 278.07377 500.449136 277.492262 500.449136 276.886005 \nC 500.449136 276.279748 500.208267 275.69824 499.779579 275.269551 \nC 499.35089 274.840863 498.769382 274.599994 498.163125 274.599994 \nC 497.556868 274.599994 496.97536 274.840863 496.546671 275.269551 \nC 496.117983 275.69824 495.877114 276.279748 495.877114 276.886005 \nC 495.877114 277.492262 496.117983 278.07377 496.546671 278.502459 \nC 496.97536 278.931147 497.556868 279.172016 498.163125 279.172016 \nz\n\" style=\"fill:#2ca02c;fill-opacity:0.6;stroke:#ffffff;stroke-opacity:0.6;stroke-width:0.339564;\"/>\n    <path clip-path=\"url(#p4300663c0a)\" d=\"M 512.605478 293.481458 \nC 513.17187 293.481458 513.715141 293.256428 514.115641 292.855928 \nC 514.516141 292.455428 514.741171 291.912158 514.741171 291.345765 \nC 514.741171 290.779372 514.516141 290.236102 514.115641 289.835602 \nC 513.715141 289.435102 513.17187 289.210072 512.605478 289.210072 \nC 512.039085 289.210072 511.495815 289.435102 511.095315 289.835602 \nC 510.694815 290.236102 510.469785 290.779372 510.469785 291.345765 \nC 510.469785 291.912158 510.694815 292.455428 511.095315 292.855928 \nC 511.495815 293.256428 512.039085 293.481458 512.605478 293.481458 \nz\n\" style=\"fill:#d62728;fill-opacity:0.6;stroke:#ffffff;stroke-opacity:0.6;stroke-width:0.339564;\"/>\n    <path clip-path=\"url(#p4300663c0a)\" d=\"M 387.876066 185.400595 \nC 388.438962 185.400595 388.978879 185.176954 389.376907 184.778926 \nC 389.774935 184.380898 389.998576 183.840981 389.998576 183.278085 \nC 389.998576 182.715189 389.774935 182.175272 389.376907 181.777244 \nC 388.978879 181.379216 388.438962 181.155575 387.876066 181.155575 \nC 387.31317 181.155575 386.773253 181.379216 386.375225 181.777244 \nC 385.977198 182.175272 385.753557 182.715189 385.753557 183.278085 \nC 385.753557 183.840981 385.977198 184.380898 386.375225 184.778926 \nC 386.773253 185.176954 387.31317 185.400595 387.876066 185.400595 \nz\n\" style=\"fill:#2ca02c;fill-opacity:0.6;stroke:#ffffff;stroke-opacity:0.6;stroke-width:0.339564;\"/>\n    <path clip-path=\"url(#p4300663c0a)\" d=\"M 287.436066 178.939265 \nC 288.000954 178.939265 288.542782 178.714832 288.942218 178.315396 \nC 289.341654 177.91596 289.566086 177.374133 289.566086 176.809245 \nC 289.566086 176.244357 289.341654 175.70253 288.942218 175.303094 \nC 288.542782 174.903658 288.000954 174.679225 287.436066 174.679225 \nC 286.871178 174.679225 286.329351 174.903658 285.929915 175.303094 \nC 285.530479 175.70253 285.306047 176.244357 285.306047 176.809245 \nC 285.306047 177.374133 285.530479 177.91596 285.929915 178.315396 \nC 286.329351 178.714832 286.871178 178.939265 287.436066 178.939265 \nz\n\" style=\"fill:#2ca02c;fill-opacity:0.6;stroke:#ffffff;stroke-opacity:0.6;stroke-width:0.339564;\"/>\n    <path clip-path=\"url(#p4300663c0a)\" d=\"M 502.758419 354.734168 \nC 503.321892 354.734168 503.862361 354.510298 504.260797 354.111863 \nC 504.659232 353.713427 504.883102 353.172957 504.883102 352.609485 \nC 504.883102 352.046013 504.659232 351.505543 504.260797 351.107107 \nC 503.862361 350.708672 503.321892 350.484802 502.758419 350.484802 \nC 502.194947 350.484802 501.654477 350.708672 501.256042 351.107107 \nC 500.857606 351.505543 500.633736 352.046013 500.633736 352.609485 \nC 500.633736 353.172957 500.857606 353.713427 501.256042 354.111863 \nC 501.654477 354.510298 502.194947 354.734168 502.758419 354.734168 \nz\n\" style=\"fill:#ff7f0e;fill-opacity:0.6;stroke:#ffffff;stroke-opacity:0.6;stroke-width:0.339564;\"/>\n    <path clip-path=\"url(#p4300663c0a)\" d=\"M 382.624301 156.640174 \nC 383.229391 156.640174 383.809779 156.399769 384.237642 155.971906 \nC 384.665506 155.544043 384.90591 154.963655 384.90591 154.358565 \nC 384.90591 153.753475 384.665506 153.173087 384.237642 152.745224 \nC 383.809779 152.317361 383.229391 152.076956 382.624301 152.076956 \nC 382.019212 152.076956 381.438823 152.317361 381.01096 152.745224 \nC 380.583097 153.173087 380.342693 153.753475 380.342693 154.358565 \nC 380.342693 154.963655 380.583097 155.544043 381.01096 155.971906 \nC 381.438823 156.399769 382.019212 156.640174 382.624301 156.640174 \nz\n\" style=\"fill:#2ca02c;fill-opacity:0.6;stroke:#ffffff;stroke-opacity:0.6;stroke-width:0.339564;\"/>\n    <path clip-path=\"url(#p4300663c0a)\" d=\"M 462.057243 287.380656 \nC 462.620325 287.380656 463.160421 287.156941 463.55858 286.758782 \nC 463.956739 286.360623 464.180454 285.820527 464.180454 285.257445 \nC 464.180454 284.694363 463.956739 284.154267 463.55858 283.756108 \nC 463.160421 283.357949 462.620325 283.134234 462.057243 283.134234 \nC 461.49416 283.134234 460.954065 283.357949 460.555905 283.756108 \nC 460.157746 284.154267 459.934031 284.694363 459.934031 285.257445 \nC 459.934031 285.820527 460.157746 286.360623 460.555905 286.758782 \nC 460.954065 287.156941 461.49416 287.380656 462.057243 287.380656 \nz\n\" style=\"fill:#8c564b;fill-opacity:0.6;stroke:#ffffff;stroke-opacity:0.6;stroke-width:0.339564;\"/>\n    <path clip-path=\"url(#p4300663c0a)\" d=\"M 551.337243 339.142277 \nC 551.903216 339.142277 552.446084 338.917413 552.846287 338.51721 \nC 553.246491 338.117006 553.471354 337.574138 553.471354 337.008165 \nC 553.471354 336.442192 553.246491 335.899324 552.846287 335.49912 \nC 552.446084 335.098917 551.903216 334.874053 551.337243 334.874053 \nC 550.77127 334.874053 550.228401 335.098917 549.828198 335.49912 \nC 549.427995 335.899324 549.203131 336.442192 549.203131 337.008165 \nC 549.203131 337.574138 549.427995 338.117006 549.828198 338.51721 \nC 550.228401 338.917413 550.77127 339.142277 551.337243 339.142277 \nz\n\" style=\"fill:#ff7f0e;fill-opacity:0.6;stroke:#ffffff;stroke-opacity:0.6;stroke-width:0.339564;\"/>\n    <path clip-path=\"url(#p4300663c0a)\" d=\"M 559.87136 335.848595 \nC 560.472075 335.848595 561.048266 335.609929 561.473035 335.18516 \nC 561.897804 334.760391 562.136471 334.184199 562.136471 333.583485 \nC 562.136471 332.982771 561.897804 332.406579 561.473035 331.98181 \nC 561.048266 331.557041 560.472075 331.318375 559.87136 331.318375 \nC 559.270646 331.318375 558.694455 331.557041 558.269685 331.98181 \nC 557.844916 332.406579 557.60625 332.982771 557.60625 333.583485 \nC 557.60625 334.184199 557.844916 334.760391 558.269685 335.18516 \nC 558.694455 335.609929 559.270646 335.848595 559.87136 335.848595 \nz\n\" style=\"fill:#ff7f0e;fill-opacity:0.6;stroke:#ffffff;stroke-opacity:0.6;stroke-width:0.339564;\"/>\n    <path clip-path=\"url(#p4300663c0a)\" d=\"M 429.890184 229.923188 \nC 430.453545 229.923188 430.993908 229.699363 431.392265 229.301006 \nC 431.790621 228.902649 432.014447 228.362286 432.014447 227.798925 \nC 432.014447 227.235564 431.790621 226.695201 431.392265 226.296844 \nC 430.993908 225.898487 430.453545 225.674662 429.890184 225.674662 \nC 429.326823 225.674662 428.786459 225.898487 428.388103 226.296844 \nC 427.989746 226.695201 427.76592 227.235564 427.76592 227.798925 \nC 427.76592 228.362286 427.989746 228.902649 428.388103 229.301006 \nC 428.786459 229.699363 429.326823 229.923188 429.890184 229.923188 \nz\n\" style=\"fill:#2ca02c;fill-opacity:0.6;stroke:#ffffff;stroke-opacity:0.6;stroke-width:0.339564;\"/>\n    <path clip-path=\"url(#p4300663c0a)\" d=\"M 458.118419 179.694542 \nC 458.681779 179.694542 459.22214 179.470717 459.620495 179.072361 \nC 460.018851 178.674006 460.242676 178.133644 460.242676 177.570285 \nC 460.242676 177.006926 460.018851 176.466564 459.620495 176.068209 \nC 459.22214 175.669853 458.681779 175.446028 458.118419 175.446028 \nC 457.55506 175.446028 457.014698 175.669853 456.616343 176.068209 \nC 456.217988 176.466564 455.994162 177.006926 455.994162 177.570285 \nC 455.994162 178.133644 456.217988 178.674006 456.616343 179.072361 \nC 457.014698 179.470717 457.55506 179.694542 458.118419 179.694542 \nz\n\" style=\"fill:#2ca02c;fill-opacity:0.6;stroke:#ffffff;stroke-opacity:0.6;stroke-width:0.339564;\"/>\n    <path clip-path=\"url(#p4300663c0a)\" d=\"M 509.323125 343.707438 \nC 509.888812 343.707438 510.431406 343.482688 510.831407 343.082687 \nC 511.231408 342.682686 511.456158 342.140092 511.456158 341.574405 \nC 511.456158 341.008718 511.231408 340.466124 510.831407 340.066123 \nC 510.431406 339.666122 509.888812 339.441372 509.323125 339.441372 \nC 508.757438 339.441372 508.214844 339.666122 507.814843 340.066123 \nC 507.414842 340.466124 507.190092 341.008718 507.190092 341.574405 \nC 507.190092 342.140092 507.414842 342.682686 507.814843 343.082687 \nC 508.214844 343.482688 508.757438 343.707438 509.323125 343.707438 \nz\n\" style=\"fill:#ff7f0e;fill-opacity:0.6;stroke:#ffffff;stroke-opacity:0.6;stroke-width:0.339564;\"/>\n    <path clip-path=\"url(#p4300663c0a)\" d=\"M 553.306654 353.785252 \nC 553.921217 353.785252 554.510691 353.541084 554.945252 353.106523 \nC 555.379814 352.671962 555.623982 352.082487 555.623982 351.467925 \nC 555.623982 350.853363 555.379814 350.263888 554.945252 349.829327 \nC 554.510691 349.394766 553.921217 349.150598 553.306654 349.150598 \nC 552.692092 349.150598 552.102618 349.394766 551.668057 349.829327 \nC 551.233495 350.263888 550.989327 350.853363 550.989327 351.467925 \nC 550.989327 352.082487 551.233495 352.671962 551.668057 353.106523 \nC 552.102618 353.541084 552.692092 353.785252 553.306654 353.785252 \nz\n\" style=\"fill:#ff7f0e;fill-opacity:0.6;stroke:#ffffff;stroke-opacity:0.6;stroke-width:0.339564;\"/>\n    <path clip-path=\"url(#p4300663c0a)\" d=\"M 434.485478 227.303124 \nC 435.060395 227.303124 435.611843 227.074706 436.018371 226.668178 \nC 436.424899 226.26165 436.653316 225.710202 436.653316 225.135285 \nC 436.653316 224.560368 436.424899 224.00892 436.018371 223.602392 \nC 435.611843 223.195864 435.060395 222.967446 434.485478 222.967446 \nC 433.91056 222.967446 433.359113 223.195864 432.952585 223.602392 \nC 432.546057 224.00892 432.317639 224.560368 432.317639 225.135285 \nC 432.317639 225.710202 432.546057 226.26165 432.952585 226.668178 \nC 433.359113 227.074706 433.91056 227.303124 434.485478 227.303124 \nz\n\" style=\"fill:#2ca02c;fill-opacity:0.6;stroke:#ffffff;stroke-opacity:0.6;stroke-width:0.339564;\"/>\n    <path clip-path=\"url(#p4300663c0a)\" d=\"M 556.589007 356.660538 \nC 557.158784 356.660538 557.7053 356.434164 558.108193 356.031271 \nC 558.511086 355.628378 558.73746 355.081861 558.73746 354.512085 \nC 558.73746 353.942309 558.511086 353.395792 558.108193 352.992899 \nC 557.7053 352.590006 557.158784 352.363632 556.589007 352.363632 \nC 556.019231 352.363632 555.472714 352.590006 555.069822 352.992899 \nC 554.666929 353.395792 554.440554 353.942309 554.440554 354.512085 \nC 554.440554 355.081861 554.666929 355.628378 555.069822 356.031271 \nC 555.472714 356.434164 556.019231 356.660538 556.589007 356.660538 \nz\n\" style=\"fill:#ff7f0e;fill-opacity:0.6;stroke:#ffffff;stroke-opacity:0.6;stroke-width:0.339564;\"/>\n    <path clip-path=\"url(#p4300663c0a)\" d=\"M 503.41489 306.785399 \nC 503.977501 306.785399 504.517144 306.561872 504.91497 306.164046 \nC 505.312796 305.76622 505.536324 305.226576 505.536324 304.663965 \nC 505.536324 304.101354 505.312796 303.56171 504.91497 303.163884 \nC 504.517144 302.766058 503.977501 302.542531 503.41489 302.542531 \nC 502.852279 302.542531 502.312635 302.766058 501.914809 303.163884 \nC 501.516983 303.56171 501.293455 304.101354 501.293455 304.663965 \nC 501.293455 305.226576 501.516983 305.76622 501.914809 306.164046 \nC 502.312635 306.561872 502.852279 306.785399 503.41489 306.785399 \nz\n\" style=\"fill:#d62728;fill-opacity:0.6;stroke:#ffffff;stroke-opacity:0.6;stroke-width:0.339564;\"/>\n    <path clip-path=\"url(#p4300663c0a)\" d=\"M 492.25489 222.338795 \nC 492.825148 222.338795 493.372127 222.112229 493.77536 221.708995 \nC 494.178594 221.305762 494.40516 220.758783 494.40516 220.188525 \nC 494.40516 219.618267 494.178594 219.071288 493.77536 218.668055 \nC 493.372127 218.264821 492.825148 218.038255 492.25489 218.038255 \nC 491.684631 218.038255 491.137653 218.264821 490.734419 218.668055 \nC 490.331186 219.071288 490.10462 219.618267 490.10462 220.188525 \nC 490.10462 220.758783 490.331186 221.305762 490.734419 221.708995 \nC 491.137653 222.112229 491.684631 222.338795 492.25489 222.338795 \nz\n\" style=\"fill:#d62728;fill-opacity:0.6;stroke:#ffffff;stroke-opacity:0.6;stroke-width:0.339564;\"/>\n    <path clip-path=\"url(#p4300663c0a)\" d=\"M 396.410184 178.95236 \nC 396.978545 178.95236 397.523703 178.726548 397.925595 178.324656 \nC 398.327487 177.922765 398.553299 177.377606 398.553299 176.809245 \nC 398.553299 176.240884 398.327487 175.695725 397.925595 175.293834 \nC 397.523703 174.891942 396.978545 174.66613 396.410184 174.66613 \nC 395.841823 174.66613 395.296664 174.891942 394.894772 175.293834 \nC 394.492881 175.695725 394.267069 176.240884 394.267069 176.809245 \nC 394.267069 177.377606 394.492881 177.922765 394.894772 178.324656 \nC 395.296664 178.726548 395.841823 178.95236 396.410184 178.95236 \nz\n\" style=\"fill:#2ca02c;fill-opacity:0.6;stroke:#ffffff;stroke-opacity:0.6;stroke-width:0.339564;\"/>\n    <path clip-path=\"url(#p4300663c0a)\" d=\"M 387.219596 182.358398 \nC 387.783013 182.358398 388.323429 182.13455 388.721825 181.736154 \nC 389.120221 181.337759 389.344069 180.797342 389.344069 180.233925 \nC 389.344069 179.670508 389.120221 179.130091 388.721825 178.731696 \nC 388.323429 178.3333 387.783013 178.109452 387.219596 178.109452 \nC 386.656179 178.109452 386.115762 178.3333 385.717366 178.731696 \nC 385.31897 179.130091 385.095122 179.670508 385.095122 180.233925 \nC 385.095122 180.797342 385.31897 181.337759 385.717366 181.736154 \nC 386.115762 182.13455 386.656179 182.358398 387.219596 182.358398 \nz\n\" style=\"fill:#2ca02c;fill-opacity:0.6;stroke:#ffffff;stroke-opacity:0.6;stroke-width:0.339564;\"/>\n    <path clip-path=\"url(#p4300663c0a)\" d=\"M 462.057243 306.406484 \nC 462.620279 306.406484 463.160331 306.182787 463.558458 305.78466 \nC 463.956585 305.386533 464.180281 304.846481 464.180281 304.283445 \nC 464.180281 303.720409 463.956585 303.180357 463.558458 302.78223 \nC 463.160331 302.384103 462.620279 302.160406 462.057243 302.160406 \nC 461.494206 302.160406 460.954155 302.384103 460.556028 302.78223 \nC 460.157901 303.180357 459.934204 303.720409 459.934204 304.283445 \nC 459.934204 304.846481 460.157901 305.386533 460.556028 305.78466 \nC 460.954155 306.182787 461.494206 306.406484 462.057243 306.406484 \nz\n\" style=\"fill:#9467bd;fill-opacity:0.6;stroke:#ffffff;stroke-opacity:0.6;stroke-width:0.339564;\"/>\n    <path clip-path=\"url(#p4300663c0a)\" d=\"M 425.95136 241.35702 \nC 426.519557 241.35702 427.064558 241.131273 427.466333 240.729498 \nC 427.868109 240.327722 428.093856 239.782721 428.093856 239.214525 \nC 428.093856 238.646329 427.868109 238.101328 427.466333 237.699552 \nC 427.064558 237.297777 426.519557 237.07203 425.95136 237.07203 \nC 425.383164 237.07203 424.838163 237.297777 424.436387 237.699552 \nC 424.034612 238.101328 423.808865 238.646329 423.808865 239.214525 \nC 423.808865 239.782721 424.034612 240.327722 424.436387 240.729498 \nC 424.838163 241.131273 425.383164 241.35702 425.95136 241.35702 \nz\n\" style=\"fill:#d62728;fill-opacity:0.6;stroke:#ffffff;stroke-opacity:0.6;stroke-width:0.339564;\"/>\n    <path clip-path=\"url(#p4300663c0a)\" d=\"M 503.41489 252.766891 \nC 503.981567 252.766891 504.525111 252.541748 504.925812 252.141047 \nC 505.326513 251.740346 505.551656 251.196802 505.551656 250.630125 \nC 505.551656 250.063448 505.326513 249.519904 504.925812 249.119203 \nC 504.525111 248.718502 503.981567 248.493359 503.41489 248.493359 \nC 502.848213 248.493359 502.304669 248.718502 501.903968 249.119203 \nC 501.503267 249.519904 501.278123 250.063448 501.278123 250.630125 \nC 501.278123 251.196802 501.503267 251.740346 501.903968 252.141047 \nC 502.304669 252.541748 502.848213 252.766891 503.41489 252.766891 \nz\n\" style=\"fill:#d62728;fill-opacity:0.6;stroke:#ffffff;stroke-opacity:0.6;stroke-width:0.339564;\"/>\n    <path clip-path=\"url(#p4300663c0a)\" d=\"M 511.949007 355.136652 \nC 512.518305 355.136652 513.064362 354.910467 513.466916 354.507913 \nC 513.86947 354.105359 514.095654 353.559302 514.095654 352.990005 \nC 514.095654 352.420708 513.86947 351.874651 513.466916 351.472097 \nC 513.064362 351.069543 512.518305 350.843358 511.949007 350.843358 \nC 511.37971 350.843358 510.833653 351.069543 510.431099 351.472097 \nC 510.028545 351.874651 509.802361 352.420708 509.802361 352.990005 \nC 509.802361 353.559302 510.028545 354.105359 510.431099 354.507913 \nC 510.833653 354.910467 511.37971 355.136652 511.949007 355.136652 \nz\n\" style=\"fill:#ff7f0e;fill-opacity:0.6;stroke:#ffffff;stroke-opacity:0.6;stroke-width:0.339564;\"/>\n    <path clip-path=\"url(#p4300663c0a)\" d=\"M 569.061949 328.475489 \nC 569.624679 328.475489 570.164437 328.251914 570.562347 327.854004 \nC 570.960258 327.456093 571.183833 326.916335 571.183833 326.353605 \nC 571.183833 325.790875 570.960258 325.251117 570.562347 324.853206 \nC 570.164437 324.455296 569.624679 324.231721 569.061949 324.231721 \nC 568.499218 324.231721 567.95946 324.455296 567.56155 324.853206 \nC 567.163639 325.251117 566.940064 325.790875 566.940064 326.353605 \nC 566.940064 326.916335 567.163639 327.456093 567.56155 327.854004 \nC 567.95946 328.251914 568.499218 328.475489 569.061949 328.475489 \nz\n\" style=\"fill:#ff7f0e;fill-opacity:0.6;stroke:#ffffff;stroke-opacity:0.6;stroke-width:0.339564;\"/>\n    <path clip-path=\"url(#p4300663c0a)\" d=\"M 444.332537 286.936464 \nC 445.383308 286.936464 446.391184 286.518988 447.134192 285.77598 \nC 447.8772 285.032973 448.294675 284.025096 448.294675 282.974325 \nC 448.294675 281.923554 447.8772 280.915677 447.134192 280.17267 \nC 446.391184 279.429662 445.383308 279.012186 444.332537 279.012186 \nC 443.281765 279.012186 442.273889 279.429662 441.530882 280.17267 \nC 440.787874 280.915677 440.370398 281.923554 440.370398 282.974325 \nC 440.370398 284.025096 440.787874 285.032973 441.530882 285.77598 \nC 442.273889 286.518988 443.281765 286.936464 444.332537 286.936464 \nz\n\" style=\"fill:#1f77b4;fill-opacity:0.6;stroke:#ffffff;stroke-opacity:0.6;stroke-width:0.339564;\"/>\n    <path clip-path=\"url(#p4300663c0a)\" d=\"M 483.720772 311.066896 \nC 484.409698 311.066896 485.070501 310.793183 485.557645 310.306038 \nC 486.04479 309.818894 486.318503 309.158091 486.318503 308.469165 \nC 486.318503 307.780239 486.04479 307.119436 485.557645 306.632292 \nC 485.070501 306.145147 484.409698 305.871434 483.720772 305.871434 \nC 483.031846 305.871434 482.371043 306.145147 481.883899 306.632292 \nC 481.396755 307.119436 481.123041 307.780239 481.123041 308.469165 \nC 481.123041 309.158091 481.396755 309.818894 481.883899 310.306038 \nC 482.371043 310.793183 483.031846 311.066896 483.720772 311.066896 \nz\n\" style=\"fill:#1f77b4;fill-opacity:0.6;stroke:#ffffff;stroke-opacity:0.6;stroke-width:0.339564;\"/>\n    <path clip-path=\"url(#p4300663c0a)\" d=\"M 509.323125 321.784471 \nC 509.927848 321.784471 510.507884 321.544212 510.935488 321.116608 \nC 511.363092 320.689004 511.603351 320.108968 511.603351 319.504245 \nC 511.603351 318.899522 511.363092 318.319486 510.935488 317.891882 \nC 510.507884 317.464278 509.927848 317.224019 509.323125 317.224019 \nC 508.718402 317.224019 508.138366 317.464278 507.710762 317.891882 \nC 507.283158 318.319486 507.042899 318.899522 507.042899 319.504245 \nC 507.042899 320.108968 507.283158 320.689004 507.710762 321.116608 \nC 508.138366 321.544212 508.718402 321.784471 509.323125 321.784471 \nz\n\" style=\"fill:#1f77b4;fill-opacity:0.6;stroke:#ffffff;stroke-opacity:0.6;stroke-width:0.339564;\"/>\n    <path clip-path=\"url(#p4300663c0a)\" d=\"M 472.560772 215.899138 \nC 473.13877 215.899138 473.693172 215.669497 474.101878 215.260791 \nC 474.510584 214.852085 474.740225 214.297683 474.740225 213.719685 \nC 474.740225 213.141687 474.510584 212.587285 474.101878 212.178579 \nC 473.693172 211.769873 473.13877 211.540232 472.560772 211.540232 \nC 471.982774 211.540232 471.428372 211.769873 471.019666 212.178579 \nC 470.61096 212.587285 470.381319 213.141687 470.381319 213.719685 \nC 470.381319 214.297683 470.61096 214.852085 471.019666 215.260791 \nC 471.428372 215.669497 471.982774 215.899138 472.560772 215.899138 \nz\n\" style=\"fill:#1f77b4;fill-opacity:0.6;stroke:#ffffff;stroke-opacity:0.6;stroke-width:0.339564;\"/>\n    <path clip-path=\"url(#p4300663c0a)\" d=\"M 551.337243 330.767509 \nC 551.902333 330.767509 552.444355 330.542996 552.843935 330.143417 \nC 553.243514 329.743838 553.468027 329.201816 553.468027 328.636725 \nC 553.468027 328.071634 553.243514 327.529612 552.843935 327.130033 \nC 552.444355 326.730454 551.902333 326.505941 551.337243 326.505941 \nC 550.772152 326.505941 550.23013 326.730454 549.830551 327.130033 \nC 549.430971 327.529612 549.206458 328.071634 549.206458 328.636725 \nC 549.206458 329.201816 549.430971 329.743838 549.830551 330.143417 \nC 550.23013 330.542996 550.772152 330.767509 551.337243 330.767509 \nz\n\" style=\"fill:#ff7f0e;fill-opacity:0.6;stroke:#ffffff;stroke-opacity:0.6;stroke-width:0.339564;\"/>\n    <path clip-path=\"url(#p4300663c0a)\" d=\"M 556.589007 293.862481 \nC 557.155533 293.862481 557.698932 293.637398 558.099526 293.236803 \nC 558.50012 292.836209 558.725203 292.292811 558.725203 291.726285 \nC 558.725203 291.159759 558.50012 290.616361 558.099526 290.215767 \nC 557.698932 289.815172 557.155533 289.590089 556.589007 289.590089 \nC 556.022482 289.590089 555.479083 289.815172 555.078489 290.215767 \nC 554.677895 290.616361 554.452812 291.159759 554.452812 291.726285 \nC 554.452812 292.292811 554.677895 292.836209 555.078489 293.236803 \nC 555.479083 293.637398 556.022482 293.862481 556.589007 293.862481 \nz\n\" style=\"fill:#1f77b4;fill-opacity:0.6;stroke:#ffffff;stroke-opacity:0.6;stroke-width:0.339564;\"/>\n    <path clip-path=\"url(#p4300663c0a)\" d=\"M 563.153713 358.674533 \nC 563.753032 358.674533 564.327885 358.436421 564.751667 358.012639 \nC 565.175449 357.588856 565.413561 357.014004 565.413561 356.414685 \nC 565.413561 355.815366 565.175449 355.240514 564.751667 354.816731 \nC 564.327885 354.392949 563.753032 354.154837 563.153713 354.154837 \nC 562.554395 354.154837 561.979542 354.392949 561.55576 354.816731 \nC 561.131978 355.240514 560.893866 355.815366 560.893866 356.414685 \nC 560.893866 357.014004 561.131978 357.588856 561.55576 358.012639 \nC 561.979542 358.436421 562.554395 358.674533 563.153713 358.674533 \nz\n\" style=\"fill:#ff7f0e;fill-opacity:0.6;stroke:#ffffff;stroke-opacity:0.6;stroke-width:0.339564;\"/>\n    <path clip-path=\"url(#p4300663c0a)\" d=\"M 529.017243 306.03061 \nC 529.581511 306.03061 530.122745 305.806424 530.521743 305.407425 \nC 530.920741 305.008427 531.144928 304.467194 531.144928 303.902925 \nC 531.144928 303.338656 530.920741 302.797423 530.521743 302.398425 \nC 530.122745 301.999426 529.581511 301.77524 529.017243 301.77524 \nC 528.452974 301.77524 527.91174 301.999426 527.512742 302.398425 \nC 527.113744 302.797423 526.889558 303.338656 526.889558 303.902925 \nC 526.889558 304.467194 527.113744 305.008427 527.512742 305.407425 \nC 527.91174 305.806424 528.452974 306.03061 529.017243 306.03061 \nz\n\" style=\"fill:#d62728;fill-opacity:0.6;stroke:#ffffff;stroke-opacity:0.6;stroke-width:0.339564;\"/>\n    <path clip-path=\"url(#p4300663c0a)\" d=\"M 572.344301 355.02523 \nC 572.984965 355.02523 573.599474 354.770692 574.052491 354.317675 \nC 574.505509 353.864658 574.760047 353.250148 574.760047 352.609485 \nC 574.760047 351.968822 574.505509 351.354312 574.052491 350.901295 \nC 573.599474 350.448278 572.984965 350.19374 572.344301 350.19374 \nC 571.703638 350.19374 571.089129 350.448278 570.636112 350.901295 \nC 570.183094 351.354312 569.928556 351.968822 569.928556 352.609485 \nC 569.928556 353.250148 570.183094 353.864658 570.636112 354.317675 \nC 571.089129 354.770692 571.703638 355.02523 572.344301 355.02523 \nz\n\" style=\"fill:#1f77b4;fill-opacity:0.6;stroke:#ffffff;stroke-opacity:0.6;stroke-width:0.339564;\"/>\n    <path clip-path=\"url(#p4300663c0a)\" d=\"M 522.452537 250.860618 \nC 523.01824 250.860618 523.560849 250.635861 523.960861 250.235849 \nC 524.360873 249.835837 524.585629 249.293228 524.585629 248.727525 \nC 524.585629 248.161822 524.360873 247.619213 523.960861 247.219201 \nC 523.560849 246.819189 523.01824 246.594432 522.452537 246.594432 \nC 521.886834 246.594432 521.344225 246.819189 520.944213 247.219201 \nC 520.5442 247.619213 520.319444 248.161822 520.319444 248.727525 \nC 520.319444 249.293228 520.5442 249.835837 520.944213 250.235849 \nC 521.344225 250.635861 521.886834 250.860618 522.452537 250.860618 \nz\n\" style=\"fill:#1f77b4;fill-opacity:0.6;stroke:#ffffff;stroke-opacity:0.6;stroke-width:0.339564;\"/>\n    <path clip-path=\"url(#p4300663c0a)\" d=\"M 466.652537 331.936618 \nC 467.224933 331.936618 467.773963 331.709203 468.178709 331.304457 \nC 468.583454 330.899712 468.81087 330.350682 468.81087 329.778285 \nC 468.81087 329.205888 468.583454 328.656858 468.178709 328.252113 \nC 467.773963 327.847367 467.224933 327.619952 466.652537 327.619952 \nC 466.08014 327.619952 465.53111 327.847367 465.126365 328.252113 \nC 464.721619 328.656858 464.494204 329.205888 464.494204 329.778285 \nC 464.494204 330.350682 464.721619 330.899712 465.126365 331.304457 \nC 465.53111 331.709203 466.08014 331.936618 466.652537 331.936618 \nz\n\" style=\"fill:#1f77b4;fill-opacity:0.6;stroke:#ffffff;stroke-opacity:0.6;stroke-width:0.339564;\"/>\n    <path clip-path=\"url(#p4300663c0a)\" d=\"M 405.600772 214.395252 \nC 406.183595 214.395252 406.742625 214.163694 407.154743 213.751576 \nC 407.566861 213.339458 407.798419 212.780428 407.798419 212.197605 \nC 407.798419 211.614782 407.566861 211.055752 407.154743 210.643634 \nC 406.742625 210.231516 406.183595 209.999958 405.600772 209.999958 \nC 405.017949 209.999958 404.458919 210.231516 404.046801 210.643634 \nC 403.634683 211.055752 403.403125 211.614782 403.403125 212.197605 \nC 403.403125 212.780428 403.634683 213.339458 404.046801 213.751576 \nC 404.458919 214.163694 405.017949 214.395252 405.600772 214.395252 \nz\n\" style=\"fill:#2ca02c;fill-opacity:0.6;stroke:#ffffff;stroke-opacity:0.6;stroke-width:0.339564;\"/>\n    <path clip-path=\"url(#p4300663c0a)\" d=\"M 433.172537 257.317756 \nC 433.735136 257.317756 434.274769 257.094233 434.672587 256.696415 \nC 435.070405 256.298597 435.293928 255.758964 435.293928 255.196365 \nC 435.293928 254.633766 435.070405 254.094133 434.672587 253.696315 \nC 434.274769 253.298497 433.735136 253.074974 433.172537 253.074974 \nC 432.609937 253.074974 432.070305 253.298497 431.672487 253.696315 \nC 431.274669 254.094133 431.051146 254.633766 431.051146 255.196365 \nC 431.051146 255.758964 431.274669 256.298597 431.672487 256.696415 \nC 432.070305 257.094233 432.609937 257.317756 433.172537 257.317756 \nz\n\" style=\"fill:#8c564b;fill-opacity:0.6;stroke:#ffffff;stroke-opacity:0.6;stroke-width:0.339564;\"/>\n    <path clip-path=\"url(#p4300663c0a)\" d=\"M 550.680772 295.754894 \nC 551.244596 295.754894 551.785404 295.530884 552.184087 295.1322 \nC 552.582771 294.733516 552.806781 294.192709 552.806781 293.628885 \nC 552.806781 293.065061 552.582771 292.524254 552.184087 292.12557 \nC 551.785404 291.726886 551.244596 291.502876 550.680772 291.502876 \nC 550.116948 291.502876 549.576141 291.726886 549.177457 292.12557 \nC 548.778773 292.524254 548.554763 293.065061 548.554763 293.628885 \nC 548.554763 294.192709 548.778773 294.733516 549.177457 295.1322 \nC 549.576141 295.530884 550.116948 295.754894 550.680772 295.754894 \nz\n\" style=\"fill:#1f77b4;fill-opacity:0.6;stroke:#ffffff;stroke-opacity:0.6;stroke-width:0.339564;\"/>\n    <path clip-path=\"url(#p4300663c0a)\" d=\"M 503.41489 360.063879 \nC 503.979007 360.063879 504.520095 359.839753 504.918986 359.440862 \nC 505.317877 359.041971 505.542004 358.500882 505.542004 357.936765 \nC 505.542004 357.372648 505.317877 356.831559 504.918986 356.432668 \nC 504.520095 356.033777 503.979007 355.809651 503.41489 355.809651 \nC 502.850773 355.809651 502.309684 356.033777 501.910793 356.432668 \nC 501.511902 356.831559 501.287776 357.372648 501.287776 357.936765 \nC 501.287776 358.500882 501.511902 359.041971 501.910793 359.440862 \nC 502.309684 359.839753 502.850773 360.063879 503.41489 360.063879 \nz\n\" style=\"fill:#ff7f0e;fill-opacity:0.6;stroke:#ffffff;stroke-opacity:0.6;stroke-width:0.339564;\"/>\n    <path clip-path=\"url(#p4300663c0a)\" d=\"M 538.864301 320.111436 \nC 539.428991 320.111436 539.970628 319.887083 540.369924 319.487787 \nC 540.769219 319.088492 540.993573 318.546854 540.993573 317.982165 \nC 540.993573 317.417476 540.769219 316.875838 540.369924 316.476543 \nC 539.970628 316.077247 539.428991 315.852894 538.864301 315.852894 \nC 538.299612 315.852894 537.757975 316.077247 537.358679 316.476543 \nC 536.959383 316.875838 536.73503 317.417476 536.73503 317.982165 \nC 536.73503 318.546854 536.959383 319.088492 537.358679 319.487787 \nC 537.757975 319.887083 538.299612 320.111436 538.864301 320.111436 \nz\n\" style=\"fill:#1f77b4;fill-opacity:0.6;stroke:#ffffff;stroke-opacity:0.6;stroke-width:0.339564;\"/>\n    <path clip-path=\"url(#p4300663c0a)\" d=\"M 373.433713 249.331271 \nC 373.997489 249.331271 374.53825 249.10728 374.936899 248.708631 \nC 375.335549 248.309981 375.559539 247.769221 375.559539 247.205445 \nC 375.559539 246.641669 375.335549 246.100909 374.936899 245.702259 \nC 374.53825 245.30361 373.997489 245.079619 373.433713 245.079619 \nC 372.869938 245.079619 372.329177 245.30361 371.930527 245.702259 \nC 371.531878 246.100909 371.307887 246.641669 371.307887 247.205445 \nC 371.307887 247.769221 371.531878 248.309981 371.930527 248.708631 \nC 372.329177 249.10728 372.869938 249.331271 373.433713 249.331271 \nz\n\" style=\"fill:#2ca02c;fill-opacity:0.6;stroke:#ffffff;stroke-opacity:0.6;stroke-width:0.339564;\"/>\n    <path clip-path=\"url(#p4300663c0a)\" d=\"M 406.913713 181.220779 \nC 407.478175 181.220779 408.019594 180.996516 408.418729 180.597381 \nC 408.817864 180.198246 409.042127 179.656827 409.042127 179.092365 \nC 409.042127 178.527903 408.817864 177.986484 408.418729 177.587349 \nC 408.019594 177.188214 407.478175 176.963951 406.913713 176.963951 \nC 406.349251 176.963951 405.807832 177.188214 405.408697 177.587349 \nC 405.009562 177.986484 404.785299 178.527903 404.785299 179.092365 \nC 404.785299 179.656827 405.009562 180.198246 405.408697 180.597381 \nC 405.807832 180.996516 406.349251 181.220779 406.913713 181.220779 \nz\n\" style=\"fill:#2ca02c;fill-opacity:0.6;stroke:#ffffff;stroke-opacity:0.6;stroke-width:0.339564;\"/>\n    <path clip-path=\"url(#p4300663c0a)\" d=\"M 531.643125 288.914037 \nC 532.209204 288.914037 532.752174 288.689131 533.152453 288.288853 \nC 533.552731 287.888574 533.777637 287.345604 533.777637 286.779525 \nC 533.777637 286.213446 533.552731 285.670476 533.152453 285.270197 \nC 532.752174 284.869919 532.209204 284.645013 531.643125 284.645013 \nC 531.077046 284.645013 530.534076 284.869919 530.133797 285.270197 \nC 529.733519 285.670476 529.508613 286.213446 529.508613 286.779525 \nC 529.508613 287.345604 529.733519 287.888574 530.133797 288.288853 \nC 530.534076 288.689131 531.077046 288.914037 531.643125 288.914037 \nz\n\" style=\"fill:#2ca02c;fill-opacity:0.6;stroke:#ffffff;stroke-opacity:0.6;stroke-width:0.339564;\"/>\n    <path clip-path=\"url(#p4300663c0a)\" d=\"M 513.918419 353.978343 \nC 514.483275 353.978343 515.025071 353.753923 515.424484 353.35451 \nC 515.823898 352.955097 516.048317 352.413301 516.048317 351.848445 \nC 516.048317 351.283589 515.823898 350.741793 515.424484 350.34238 \nC 515.025071 349.942967 514.483275 349.718547 513.918419 349.718547 \nC 513.353564 349.718547 512.811767 349.942967 512.412354 350.34238 \nC 512.012941 350.741793 511.788521 351.283589 511.788521 351.848445 \nC 511.788521 352.413301 512.012941 352.955097 512.412354 353.35451 \nC 512.811767 353.753923 513.353564 353.978343 513.918419 353.978343 \nz\n\" style=\"fill:#ff7f0e;fill-opacity:0.6;stroke:#ffffff;stroke-opacity:0.6;stroke-width:0.339564;\"/>\n    <path clip-path=\"url(#p4300663c0a)\" d=\"M 555.932537 340.271997 \nC 556.49537 340.271997 557.035227 340.048381 557.43321 339.650398 \nC 557.831193 339.252415 558.054809 338.712558 558.054809 338.149725 \nC 558.054809 337.586892 557.831193 337.047035 557.43321 336.649052 \nC 557.035227 336.251069 556.49537 336.027453 555.932537 336.027453 \nC 555.369704 336.027453 554.829847 336.251069 554.431864 336.649052 \nC 554.033881 337.047035 553.810265 337.586892 553.810265 338.149725 \nC 553.810265 338.712558 554.033881 339.252415 554.431864 339.650398 \nC 554.829847 340.048381 555.369704 340.271997 555.932537 340.271997 \nz\n\" style=\"fill:#ff7f0e;fill-opacity:0.6;stroke:#ffffff;stroke-opacity:0.6;stroke-width:0.339564;\"/>\n    <path clip-path=\"url(#p4300663c0a)\" d=\"M 428.577243 193.809798 \nC 429.150154 193.809798 429.699677 193.582178 430.104786 193.177069 \nC 430.509896 192.771959 430.737516 192.222436 430.737516 191.649525 \nC 430.737516 191.076614 430.509896 190.527091 430.104786 190.121981 \nC 429.699677 189.716872 429.150154 189.489252 428.577243 189.489252 \nC 428.004332 189.489252 427.454808 189.716872 427.049699 190.121981 \nC 426.64459 190.527091 426.41697 191.076614 426.41697 191.649525 \nC 426.41697 192.222436 426.64459 192.771959 427.049699 193.177069 \nC 427.454808 193.582178 428.004332 193.809798 428.577243 193.809798 \nz\n\" style=\"fill:#2ca02c;fill-opacity:0.6;stroke:#ffffff;stroke-opacity:0.6;stroke-width:0.339564;\"/>\n    <path clip-path=\"url(#p4300663c0a)\" d=\"M 338.640772 167.16217 \nC 339.210705 167.16217 339.757372 166.935733 340.160376 166.532729 \nC 340.56338 166.129725 340.789817 165.583058 340.789817 165.013125 \nC 340.789817 164.443192 340.56338 163.896525 340.160376 163.493521 \nC 339.757372 163.090517 339.210705 162.86408 338.640772 162.86408 \nC 338.070839 162.86408 337.524172 163.090517 337.121168 163.493521 \nC 336.718164 163.896525 336.491727 164.443192 336.491727 165.013125 \nC 336.491727 165.583058 336.718164 166.129725 337.121168 166.532729 \nC 337.524172 166.935733 338.070839 167.16217 338.640772 167.16217 \nz\n\" style=\"fill:#2ca02c;fill-opacity:0.6;stroke:#ffffff;stroke-opacity:0.6;stroke-width:0.339564;\"/>\n    <path clip-path=\"url(#p4300663c0a)\" d=\"M 521.796066 297.330043 \nC 522.373964 297.330043 522.928271 297.100441 523.336907 296.691806 \nC 523.745542 296.28317 523.975144 295.728863 523.975144 295.150965 \nC 523.975144 294.573067 523.745542 294.01876 523.336907 293.610124 \nC 522.928271 293.201489 522.373964 292.971887 521.796066 292.971887 \nC 521.218168 292.971887 520.663861 293.201489 520.255226 293.610124 \nC 519.84659 294.01876 519.616988 294.573067 519.616988 295.150965 \nC 519.616988 295.728863 519.84659 296.28317 520.255226 296.691806 \nC 520.663861 297.100441 521.218168 297.330043 521.796066 297.330043 \nz\n\" style=\"fill:#1f77b4;fill-opacity:0.6;stroke:#ffffff;stroke-opacity:0.6;stroke-width:0.339564;\"/>\n    <path clip-path=\"url(#p4300663c0a)\" d=\"M 519.826654 280.529967 \nC 520.389384 280.529967 520.929142 280.306392 521.327052 279.908482 \nC 521.724962 279.510572 521.948536 278.970815 521.948536 278.408085 \nC 521.948536 277.845355 521.724962 277.305598 521.327052 276.907688 \nC 520.929142 276.509778 520.389384 276.286203 519.826654 276.286203 \nC 519.263925 276.286203 518.724167 276.509778 518.326257 276.907688 \nC 517.928347 277.305598 517.704772 277.845355 517.704772 278.408085 \nC 517.704772 278.970815 517.928347 279.510572 518.326257 279.908482 \nC 518.724167 280.306392 519.263925 280.529967 519.826654 280.529967 \nz\n\" style=\"fill:#1f77b4;fill-opacity:0.6;stroke:#ffffff;stroke-opacity:0.6;stroke-width:0.339564;\"/>\n    <path clip-path=\"url(#p4300663c0a)\" d=\"M 391.81489 144.711128 \nC 392.384727 144.711128 392.931302 144.484729 393.334238 144.081793 \nC 393.737174 143.678857 393.963573 143.132282 393.963573 142.562445 \nC 393.963573 141.992608 393.737174 141.446033 393.334238 141.043097 \nC 392.931302 140.640161 392.384727 140.413762 391.81489 140.413762 \nC 391.245052 140.413762 390.698477 140.640161 390.295541 141.043097 \nC 389.892606 141.446033 389.666207 141.992608 389.666207 142.562445 \nC 389.666207 143.132282 389.892606 143.678857 390.295541 144.081793 \nC 390.698477 144.484729 391.245052 144.711128 391.81489 144.711128 \nz\n\" style=\"fill:#2ca02c;fill-opacity:0.6;stroke:#ffffff;stroke-opacity:0.6;stroke-width:0.339564;\"/>\n    <path clip-path=\"url(#p4300663c0a)\" d=\"M 560.527831 344.457595 \nC 561.090632 344.457595 561.630457 344.233992 562.028417 343.836031 \nC 562.426377 343.438071 562.64998 342.898246 562.64998 342.335445 \nC 562.64998 341.772644 562.426377 341.232819 562.028417 340.834859 \nC 561.630457 340.436898 561.090632 340.213295 560.527831 340.213295 \nC 559.96503 340.213295 559.425205 340.436898 559.027245 340.834859 \nC 558.629284 341.232819 558.405681 341.772644 558.405681 342.335445 \nC 558.405681 342.898246 558.629284 343.438071 559.027245 343.836031 \nC 559.425205 344.233992 559.96503 344.457595 560.527831 344.457595 \nz\n\" style=\"fill:#ff7f0e;fill-opacity:0.6;stroke:#ffffff;stroke-opacity:0.6;stroke-width:0.339564;\"/>\n    <path clip-path=\"url(#p4300663c0a)\" d=\"M 459.43136 200.246328 \nC 459.995703 200.246328 460.537007 200.022112 460.936057 199.623062 \nC 461.335108 199.224012 461.559323 198.682707 461.559323 198.118365 \nC 461.559323 197.554023 461.335108 197.012718 460.936057 196.613668 \nC 460.537007 196.214618 459.995703 195.990402 459.43136 195.990402 \nC 458.867018 195.990402 458.325714 196.214618 457.926663 196.613668 \nC 457.527613 197.012718 457.303397 197.554023 457.303397 198.118365 \nC 457.303397 198.682707 457.527613 199.224012 457.926663 199.623062 \nC 458.325714 200.022112 458.867018 200.246328 459.43136 200.246328 \nz\n\" style=\"fill:#2ca02c;fill-opacity:0.6;stroke:#ffffff;stroke-opacity:0.6;stroke-width:0.339564;\"/>\n    <path clip-path=\"url(#p4300663c0a)\" d=\"M 509.323125 329.238792 \nC 509.886455 329.238792 510.426789 329.014979 510.825124 328.616644 \nC 511.223459 328.218309 511.447272 327.677975 511.447272 327.114645 \nC 511.447272 326.551315 511.223459 326.010981 510.825124 325.612646 \nC 510.426789 325.214311 509.886455 324.990498 509.323125 324.990498 \nC 508.759795 324.990498 508.219461 325.214311 507.821126 325.612646 \nC 507.422791 326.010981 507.198978 326.551315 507.198978 327.114645 \nC 507.198978 327.677975 507.422791 328.218309 507.821126 328.616644 \nC 508.219461 329.014979 508.759795 329.238792 509.323125 329.238792 \nz\n\" style=\"fill:#2ca02c;fill-opacity:0.6;stroke:#ffffff;stroke-opacity:0.6;stroke-width:0.339564;\"/>\n    <path clip-path=\"url(#p4300663c0a)\" d=\"M 530.330184 303.984614 \nC 530.957338 303.984614 531.558891 303.735443 532.002356 303.291977 \nC 532.445821 302.848512 532.694993 302.24696 532.694993 301.619805 \nC 532.694993 300.99265 532.445821 300.391098 532.002356 299.947633 \nC 531.558891 299.504167 530.957338 299.254996 530.330184 299.254996 \nC 529.703029 299.254996 529.101477 299.504167 528.658012 299.947633 \nC 528.214546 300.391098 527.965375 300.99265 527.965375 301.619805 \nC 527.965375 302.24696 528.214546 302.848512 528.658012 303.291977 \nC 529.101477 303.735443 529.703029 303.984614 530.330184 303.984614 \nz\n\" style=\"fill:#d62728;fill-opacity:0.6;stroke:#ffffff;stroke-opacity:0.6;stroke-width:0.339564;\"/>\n    <path clip-path=\"url(#p4300663c0a)\" d=\"M 490.941949 345.228166 \nC 491.507277 345.228166 492.049527 345.003558 492.449274 344.603811 \nC 492.849022 344.204063 493.073629 343.661813 493.073629 343.096485 \nC 493.073629 342.531157 492.849022 341.988907 492.449274 341.589159 \nC 492.049527 341.189412 491.507277 340.964804 490.941949 340.964804 \nC 490.37662 340.964804 489.83437 341.189412 489.434623 341.589159 \nC 489.034875 341.988907 488.810268 342.531157 488.810268 343.096485 \nC 488.810268 343.661813 489.034875 344.204063 489.434623 344.603811 \nC 489.83437 345.003558 490.37662 345.228166 490.941949 345.228166 \nz\n\" style=\"fill:#ff7f0e;fill-opacity:0.6;stroke:#ffffff;stroke-opacity:0.6;stroke-width:0.339564;\"/>\n    <path clip-path=\"url(#p4300663c0a)\" d=\"M 450.897243 323.534024 \nC 451.461377 323.534024 452.002482 323.309891 452.401385 322.910987 \nC 452.800288 322.512084 453.024421 321.970979 453.024421 321.406845 \nC 453.024421 320.842711 452.800288 320.301606 452.401385 319.902703 \nC 452.002482 319.503799 451.461377 319.279666 450.897243 319.279666 \nC 450.333108 319.279666 449.792003 319.503799 449.3931 319.902703 \nC 448.994197 320.301606 448.770064 320.842711 448.770064 321.406845 \nC 448.770064 321.970979 448.994197 322.512084 449.3931 322.910987 \nC 449.792003 323.309891 450.333108 323.534024 450.897243 323.534024 \nz\n\" style=\"fill:#1f77b4;fill-opacity:0.6;stroke:#ffffff;stroke-opacity:0.6;stroke-width:0.339564;\"/>\n    <path clip-path=\"url(#p4300663c0a)\" d=\"M 521.796066 335.706201 \nC 522.359017 335.706201 522.898987 335.482539 523.297053 335.084472 \nC 523.69512 334.686406 523.918783 334.146436 523.918783 333.583485 \nC 523.918783 333.020534 523.69512 332.480564 523.297053 332.082498 \nC 522.898987 331.684431 522.359017 331.460769 521.796066 331.460769 \nC 521.233115 331.460769 520.693145 331.684431 520.295079 332.082498 \nC 519.897012 332.480564 519.67335 333.020534 519.67335 333.583485 \nC 519.67335 334.146436 519.897012 334.686406 520.295079 335.084472 \nC 520.693145 335.482539 521.233115 335.706201 521.796066 335.706201 \nz\n\" style=\"fill:#ff7f0e;fill-opacity:0.6;stroke:#ffffff;stroke-opacity:0.6;stroke-width:0.339564;\"/>\n    <path clip-path=\"url(#p4300663c0a)\" d=\"M 509.979596 302.29025 \nC 510.56106 302.29025 511.118787 302.059231 511.529945 301.648074 \nC 511.941102 301.236917 512.17212 300.679189 512.17212 300.097725 \nC 512.17212 299.516261 511.941102 298.958533 511.529945 298.547376 \nC 511.118787 298.136219 510.56106 297.9052 509.979596 297.9052 \nC 509.398131 297.9052 508.840404 298.136219 508.429246 298.547376 \nC 508.018089 298.958533 507.787071 299.516261 507.787071 300.097725 \nC 507.787071 300.679189 508.018089 301.236917 508.429246 301.648074 \nC 508.840404 302.059231 509.398131 302.29025 509.979596 302.29025 \nz\n\" style=\"fill:#2ca02c;fill-opacity:0.6;stroke:#ffffff;stroke-opacity:0.6;stroke-width:0.339564;\"/>\n    <path clip-path=\"url(#p4300663c0a)\" d=\"M 383.937243 185.064029 \nC 384.511796 185.064029 385.062894 184.835757 385.469164 184.429486 \nC 385.875434 184.023216 386.103707 183.472118 386.103707 182.897565 \nC 386.103707 182.323012 385.875434 181.771914 385.469164 181.365644 \nC 385.062894 180.959373 384.511796 180.731101 383.937243 180.731101 \nC 383.36269 180.731101 382.811592 180.959373 382.405321 181.365644 \nC 381.999051 181.771914 381.770779 182.323012 381.770779 182.897565 \nC 381.770779 183.472118 381.999051 184.023216 382.405321 184.429486 \nC 382.811592 184.835757 383.36269 185.064029 383.937243 185.064029 \nz\n\" style=\"fill:#2ca02c;fill-opacity:0.6;stroke:#ffffff;stroke-opacity:0.6;stroke-width:0.339564;\"/>\n    <path clip-path=\"url(#p4300663c0a)\" d=\"M 395.097243 251.614495 \nC 395.661046 251.614495 396.201833 251.390494 396.600502 250.991825 \nC 396.999171 250.593156 397.223173 250.052368 397.223173 249.488565 \nC 397.223173 248.924762 396.999171 248.383974 396.600502 247.985305 \nC 396.201833 247.586636 395.661046 247.362635 395.097243 247.362635 \nC 394.533439 247.362635 393.992652 247.586636 393.593983 247.985305 \nC 393.195314 248.383974 392.971312 248.924762 392.971312 249.488565 \nC 392.971312 250.052368 393.195314 250.593156 393.593983 250.991825 \nC 393.992652 251.390494 394.533439 251.614495 395.097243 251.614495 \nz\n\" style=\"fill:#2ca02c;fill-opacity:0.6;stroke:#ffffff;stroke-opacity:0.6;stroke-width:0.339564;\"/>\n    <path clip-path=\"url(#p4300663c0a)\" d=\"M 468.621949 250.146342 \nC 469.200053 250.146342 469.754558 249.916658 470.16334 249.507876 \nC 470.572122 249.099095 470.801805 248.54459 470.801805 247.966485 \nC 470.801805 247.38838 470.572122 246.833875 470.16334 246.425094 \nC 469.754558 246.016312 469.200053 245.786628 468.621949 245.786628 \nC 468.043844 245.786628 467.489339 246.016312 467.080557 246.425094 \nC 466.671775 246.833875 466.442092 247.38838 466.442092 247.966485 \nC 466.442092 248.54459 466.671775 249.099095 467.080557 249.507876 \nC 467.489339 249.916658 468.043844 250.146342 468.621949 250.146342 \nz\n\" style=\"fill:#1f77b4;fill-opacity:0.6;stroke:#ffffff;stroke-opacity:0.6;stroke-width:0.339564;\"/>\n    <path clip-path=\"url(#p4300663c0a)\" d=\"M 553.306654 339.549325 \nC 553.879663 339.549325 554.42928 339.321666 554.834458 338.916488 \nC 555.239636 338.51131 555.467295 337.961693 555.467295 337.388685 \nC 555.467295 336.815677 555.239636 336.26606 554.834458 335.860882 \nC 554.42928 335.455704 553.879663 335.228045 553.306654 335.228045 \nC 552.733646 335.228045 552.184029 335.455704 551.778851 335.860882 \nC 551.373673 336.26606 551.146014 336.815677 551.146014 337.388685 \nC 551.146014 337.961693 551.373673 338.51131 551.778851 338.916488 \nC 552.184029 339.321666 552.733646 339.549325 553.306654 339.549325 \nz\n\" style=\"fill:#ff7f0e;fill-opacity:0.6;stroke:#ffffff;stroke-opacity:0.6;stroke-width:0.339564;\"/>\n    <path clip-path=\"url(#p4300663c0a)\" d=\"M 555.276066 329.625991 \nC 555.841168 329.625991 556.3832 329.401473 556.782787 329.001886 \nC 557.182375 328.602299 557.406892 328.060267 557.406892 327.495165 \nC 557.406892 326.930063 557.182375 326.388031 556.782787 325.988444 \nC 556.3832 325.588857 555.841168 325.364339 555.276066 325.364339 \nC 554.710965 325.364339 554.168932 325.588857 553.769345 325.988444 \nC 553.369758 326.388031 553.14524 326.930063 553.14524 327.495165 \nC 553.14524 328.060267 553.369758 328.602299 553.769345 329.001886 \nC 554.168932 329.401473 554.710965 329.625991 555.276066 329.625991 \nz\n\" style=\"fill:#8c564b;fill-opacity:0.6;stroke:#ffffff;stroke-opacity:0.6;stroke-width:0.339564;\"/>\n    <path clip-path=\"url(#p4300663c0a)\" d=\"M 539.520772 281.302864 \nC 540.086646 281.302864 540.62942 281.078039 541.029553 280.677906 \nC 541.429687 280.277773 541.654511 279.734999 541.654511 279.169125 \nC 541.654511 278.603251 541.429687 278.060477 541.029553 277.660344 \nC 540.62942 277.260211 540.086646 277.035386 539.520772 277.035386 \nC 538.954898 277.035386 538.412124 277.260211 538.011991 277.660344 \nC 537.611858 278.060477 537.387033 278.603251 537.387033 279.169125 \nC 537.387033 279.734999 537.611858 280.277773 538.011991 280.677906 \nC 538.412124 281.078039 538.954898 281.302864 539.520772 281.302864 \nz\n\" style=\"fill:#d62728;fill-opacity:0.6;stroke:#ffffff;stroke-opacity:0.6;stroke-width:0.339564;\"/>\n    <path clip-path=\"url(#p4300663c0a)\" d=\"M 384.593713 110.845287 \nC 385.163667 110.845287 385.710354 110.618842 386.113372 110.215824 \nC 386.51639 109.812806 386.742835 109.266119 386.742835 108.696165 \nC 386.742835 108.126211 386.51639 107.579524 386.113372 107.176506 \nC 385.710354 106.773488 385.163667 106.547043 384.593713 106.547043 \nC 384.023759 106.547043 383.477073 106.773488 383.074054 107.176506 \nC 382.671036 107.579524 382.444591 108.126211 382.444591 108.696165 \nC 382.444591 109.266119 382.671036 109.812806 383.074054 110.215824 \nC 383.477073 110.618842 384.023759 110.845287 384.593713 110.845287 \nz\n\" style=\"fill:#2ca02c;fill-opacity:0.6;stroke:#ffffff;stroke-opacity:0.6;stroke-width:0.339564;\"/>\n    <path clip-path=\"url(#p4300663c0a)\" d=\"M 402.97489 173.130418 \nC 403.613895 173.130418 404.226814 172.876539 404.678659 172.424694 \nC 405.130503 171.972849 405.384383 171.35993 405.384383 170.720925 \nC 405.384383 170.08192 405.130503 169.469001 404.678659 169.017156 \nC 404.226814 168.565311 403.613895 168.311432 402.97489 168.311432 \nC 402.335885 168.311432 401.722966 168.565311 401.271121 169.017156 \nC 400.819276 169.469001 400.565397 170.08192 400.565397 170.720925 \nC 400.565397 171.35993 400.819276 171.972849 401.271121 172.424694 \nC 401.722966 172.876539 402.335885 173.130418 402.97489 173.130418 \nz\n\" style=\"fill:#2ca02c;fill-opacity:0.6;stroke:#ffffff;stroke-opacity:0.6;stroke-width:0.339564;\"/>\n    <path clip-path=\"url(#p4300663c0a)\" d=\"M 556.589007 334.57433 \nC 557.154528 334.57433 557.696962 334.349646 558.096845 333.949763 \nC 558.496729 333.54988 558.721412 333.007445 558.721412 332.441925 \nC 558.721412 331.876405 558.496729 331.33397 558.096845 330.934087 \nC 557.696962 330.534204 557.154528 330.30952 556.589007 330.30952 \nC 556.023487 330.30952 555.481053 330.534204 555.081169 330.934087 \nC 554.681286 331.33397 554.456602 331.876405 554.456602 332.441925 \nC 554.456602 333.007445 554.681286 333.54988 555.081169 333.949763 \nC 555.481053 334.349646 556.023487 334.57433 556.589007 334.57433 \nz\n\" style=\"fill:#ff7f0e;fill-opacity:0.6;stroke:#ffffff;stroke-opacity:0.6;stroke-width:0.339564;\"/>\n    <path clip-path=\"url(#p4300663c0a)\" d=\"M 534.269007 263.411469 \nC 534.833037 263.411469 535.374041 263.187377 535.772871 262.788548 \nC 536.1717 262.389719 536.395791 261.848715 536.395791 261.284685 \nC 536.395791 260.720655 536.1717 260.179651 535.772871 259.780822 \nC 535.374041 259.381993 534.833037 259.157901 534.269007 259.157901 \nC 533.704978 259.157901 533.163973 259.381993 532.765144 259.780822 \nC 532.366315 260.179651 532.142224 260.720655 532.142224 261.284685 \nC 532.142224 261.848715 532.366315 262.389719 532.765144 262.788548 \nC 533.163973 263.187377 533.704978 263.411469 534.269007 263.411469 \nz\n\" style=\"fill:#1f77b4;fill-opacity:0.6;stroke:#ffffff;stroke-opacity:0.6;stroke-width:0.339564;\"/>\n    <path clip-path=\"url(#p4300663c0a)\" d=\"M 449.584301 235.188857 \nC 450.232238 235.188857 450.853724 234.931429 451.311885 234.473268 \nC 451.770045 234.015108 452.027473 233.393622 452.027473 232.745685 \nC 452.027473 232.097748 451.770045 231.476262 451.311885 231.018102 \nC 450.853724 230.559941 450.232238 230.302513 449.584301 230.302513 \nC 448.936365 230.302513 448.314879 230.559941 447.856718 231.018102 \nC 447.398558 231.476262 447.14113 232.097748 447.14113 232.745685 \nC 447.14113 233.393622 447.398558 234.015108 447.856718 234.473268 \nC 448.314879 234.931429 448.936365 235.188857 449.584301 235.188857 \nz\n\" style=\"fill:#1f77b4;fill-opacity:0.6;stroke:#ffffff;stroke-opacity:0.6;stroke-width:0.339564;\"/>\n    <path clip-path=\"url(#p4300663c0a)\" d=\"M 542.803125 297.660241 \nC 543.367678 297.660241 543.909184 297.435941 544.308383 297.036743 \nC 544.707581 296.637544 544.931881 296.096038 544.931881 295.531485 \nC 544.931881 294.966932 544.707581 294.425426 544.308383 294.026227 \nC 543.909184 293.627029 543.367678 293.402729 542.803125 293.402729 \nC 542.238572 293.402729 541.697066 293.627029 541.297867 294.026227 \nC 540.898669 294.425426 540.674369 294.966932 540.674369 295.531485 \nC 540.674369 296.096038 540.898669 296.637544 541.297867 297.036743 \nC 541.697066 297.435941 542.238572 297.660241 542.803125 297.660241 \nz\n\" style=\"fill:#d62728;fill-opacity:0.6;stroke:#ffffff;stroke-opacity:0.6;stroke-width:0.339564;\"/>\n    <path clip-path=\"url(#p4300663c0a)\" d=\"M 418.073713 233.358209 \nC 418.639817 233.358209 419.18281 233.133293 419.583106 232.732998 \nC 419.983401 232.332702 420.208317 231.789708 420.208317 231.223605 \nC 420.208317 230.657502 419.983401 230.114508 419.583106 229.714212 \nC 419.18281 229.313917 418.639817 229.089001 418.073713 229.089001 \nC 417.50761 229.089001 416.964616 229.313917 416.564321 229.714212 \nC 416.164025 230.114508 415.93911 230.657502 415.93911 231.223605 \nC 415.93911 231.789708 416.164025 232.332702 416.564321 232.732998 \nC 416.964616 233.133293 417.50761 233.358209 418.073713 233.358209 \nz\n\" style=\"fill:#8c564b;fill-opacity:0.6;stroke:#ffffff;stroke-opacity:0.6;stroke-width:0.339564;\"/>\n    <path clip-path=\"url(#p4300663c0a)\" d=\"M 527.704301 264.941191 \nC 528.270358 264.941191 528.813306 264.716294 529.213568 264.316032 \nC 529.613831 263.91577 529.838727 263.372821 529.838727 262.806765 \nC 529.838727 262.240709 529.613831 261.69776 529.213568 261.297498 \nC 528.813306 260.897236 528.270358 260.672339 527.704301 260.672339 \nC 527.138245 260.672339 526.595297 260.897236 526.195034 261.297498 \nC 525.794772 261.69776 525.569876 262.240709 525.569876 262.806765 \nC 525.569876 263.372821 525.794772 263.91577 526.195034 264.316032 \nC 526.595297 264.716294 527.138245 264.941191 527.704301 264.941191 \nz\n\" style=\"fill:#9467bd;fill-opacity:0.6;stroke:#ffffff;stroke-opacity:0.6;stroke-width:0.339564;\"/>\n    <path clip-path=\"url(#p4300663c0a)\" d=\"M 530.330184 293.530918 \nC 530.909693 293.530918 531.465545 293.300676 531.87532 292.890902 \nC 532.285095 292.481127 532.515337 291.925274 532.515337 291.345765 \nC 532.515337 290.766256 532.285095 290.210403 531.87532 289.800628 \nC 531.465545 289.390854 530.909693 289.160612 530.330184 289.160612 \nC 529.750674 289.160612 529.194822 289.390854 528.785047 289.800628 \nC 528.375272 290.210403 528.145031 290.766256 528.145031 291.345765 \nC 528.145031 291.925274 528.375272 292.481127 528.785047 292.890902 \nC 529.194822 293.300676 529.750674 293.530918 530.330184 293.530918 \nz\n\" style=\"fill:#9467bd;fill-opacity:0.6;stroke:#ffffff;stroke-opacity:0.6;stroke-width:0.339564;\"/>\n    <path clip-path=\"url(#p4300663c0a)\" d=\"M 494.224301 260.168223 \nC 494.836448 260.168223 495.423605 259.925014 495.856458 259.492162 \nC 496.289311 259.059309 496.532519 258.472152 496.532519 257.860005 \nC 496.532519 257.247858 496.289311 256.660701 495.856458 256.227848 \nC 495.423605 255.794996 494.836448 255.551787 494.224301 255.551787 \nC 493.612155 255.551787 493.024998 255.794996 492.592145 256.227848 \nC 492.159292 256.660701 491.916084 257.247858 491.916084 257.860005 \nC 491.916084 258.472152 492.159292 259.059309 492.592145 259.492162 \nC 493.024998 259.925014 493.612155 260.168223 494.224301 260.168223 \nz\n\" style=\"fill:#1f77b4;fill-opacity:0.6;stroke:#ffffff;stroke-opacity:0.6;stroke-width:0.339564;\"/>\n    <path clip-path=\"url(#p4300663c0a)\" d=\"M 525.078419 354.063966 \nC 525.665982 354.063966 526.229559 353.830525 526.645029 353.415055 \nC 527.060499 352.999585 527.293941 352.436008 527.293941 351.848445 \nC 527.293941 351.260882 527.060499 350.697305 526.645029 350.281835 \nC 526.229559 349.866365 525.665982 349.632924 525.078419 349.632924 \nC 524.490856 349.632924 523.927279 349.866365 523.511809 350.281835 \nC 523.096339 350.697305 522.862898 351.260882 522.862898 351.848445 \nC 522.862898 352.436008 523.096339 352.999585 523.511809 353.415055 \nC 523.927279 353.830525 524.490856 354.063966 525.078419 354.063966 \nz\n\" style=\"fill:#ff7f0e;fill-opacity:0.6;stroke:#ffffff;stroke-opacity:0.6;stroke-width:0.339564;\"/>\n    <path clip-path=\"url(#p4300663c0a)\" d=\"M 544.772537 349.048466 \nC 545.34187 349.048466 545.887961 348.822268 546.29054 348.419689 \nC 546.69312 348.017109 546.919318 347.471018 546.919318 346.901685 \nC 546.919318 346.332352 546.69312 345.786261 546.29054 345.383681 \nC 545.887961 344.981102 545.34187 344.754904 544.772537 344.754904 \nC 544.203204 344.754904 543.657112 344.981102 543.254533 345.383681 \nC 542.851954 345.786261 542.625755 346.332352 542.625755 346.901685 \nC 542.625755 347.471018 542.851954 348.017109 543.254533 348.419689 \nC 543.657112 348.822268 544.203204 349.048466 544.772537 349.048466 \nz\n\" style=\"fill:#ff7f0e;fill-opacity:0.6;stroke:#ffffff;stroke-opacity:0.6;stroke-width:0.339564;\"/>\n    <path clip-path=\"url(#p4300663c0a)\" d=\"M 530.986654 281.672311 \nC 531.549592 281.672311 532.089549 281.448654 532.487606 281.050597 \nC 532.885663 280.65254 533.109321 280.112583 533.109321 279.549645 \nC 533.109321 278.986707 532.885663 278.44675 532.487606 278.048693 \nC 532.089549 277.650636 531.549592 277.426979 530.986654 277.426979 \nC 530.423717 277.426979 529.88376 277.650636 529.485703 278.048693 \nC 529.087646 278.44675 528.863988 278.986707 528.863988 279.549645 \nC 528.863988 280.112583 529.087646 280.65254 529.485703 281.050597 \nC 529.88376 281.448654 530.423717 281.672311 530.986654 281.672311 \nz\n\" style=\"fill:#1f77b4;fill-opacity:0.6;stroke:#ffffff;stroke-opacity:0.6;stroke-width:0.339564;\"/>\n    <path clip-path=\"url(#p4300663c0a)\" d=\"M 507.353713 356.688007 \nC 507.930775 356.688007 508.484279 356.458738 508.892323 356.050694 \nC 509.300367 355.64265 509.529636 355.089146 509.529636 354.512085 \nC 509.529636 353.935024 509.300367 353.38152 508.892323 352.973476 \nC 508.484279 352.565432 507.930775 352.336163 507.353713 352.336163 \nC 506.776652 352.336163 506.223148 352.565432 505.815104 352.973476 \nC 505.40706 353.38152 505.177791 353.935024 505.177791 354.512085 \nC 505.177791 355.089146 505.40706 355.64265 505.815104 356.050694 \nC 506.223148 356.458738 506.776652 356.688007 507.353713 356.688007 \nz\n\" style=\"fill:#ff7f0e;fill-opacity:0.6;stroke:#ffffff;stroke-opacity:0.6;stroke-width:0.339564;\"/>\n    <path clip-path=\"url(#p4300663c0a)\" d=\"M 363.586654 180.472512 \nC 364.154504 180.472512 364.699172 180.246903 365.100702 179.845373 \nC 365.502232 179.443842 365.727841 178.899174 365.727841 178.331325 \nC 365.727841 177.763476 365.502232 177.218808 365.100702 176.817277 \nC 364.699172 176.415747 364.154504 176.190138 363.586654 176.190138 \nC 363.018805 176.190138 362.474137 176.415747 362.072607 176.817277 \nC 361.671077 177.218808 361.445468 177.763476 361.445468 178.331325 \nC 361.445468 178.899174 361.671077 179.443842 362.072607 179.845373 \nC 362.474137 180.246903 363.018805 180.472512 363.586654 180.472512 \nz\n\" style=\"fill:#2ca02c;fill-opacity:0.6;stroke:#ffffff;stroke-opacity:0.6;stroke-width:0.339564;\"/>\n    <path clip-path=\"url(#p4300663c0a)\" d=\"M 505.384301 233.725742 \nC 505.946961 233.725742 506.486651 233.502195 506.884511 233.104335 \nC 507.282372 232.706475 507.505919 232.166784 507.505919 231.604125 \nC 507.505919 231.041466 507.282372 230.501775 506.884511 230.103915 \nC 506.486651 229.706055 505.946961 229.482508 505.384301 229.482508 \nC 504.821642 229.482508 504.281952 229.706055 503.884092 230.103915 \nC 503.486231 230.501775 503.262684 231.041466 503.262684 231.604125 \nC 503.262684 232.166784 503.486231 232.706475 503.884092 233.104335 \nC 504.281952 233.502195 504.821642 233.725742 505.384301 233.725742 \nz\n\" style=\"fill:#8c564b;fill-opacity:0.6;stroke:#ffffff;stroke-opacity:0.6;stroke-width:0.339564;\"/>\n    <path clip-path=\"url(#p4300663c0a)\" d=\"M 464.683125 226.495768 \nC 465.24576 226.495768 465.785426 226.272231 466.183268 225.874388 \nC 466.581111 225.476546 466.804648 224.93688 466.804648 224.374245 \nC 466.804648 223.81161 466.581111 223.271944 466.183268 222.874102 \nC 465.785426 222.476259 465.24576 222.252722 464.683125 222.252722 \nC 464.12049 222.252722 463.580824 222.476259 463.182982 222.874102 \nC 462.785139 223.271944 462.561602 223.81161 462.561602 224.374245 \nC 462.561602 224.93688 462.785139 225.476546 463.182982 225.874388 \nC 463.580824 226.272231 464.12049 226.495768 464.683125 226.495768 \nz\n\" style=\"fill:#2ca02c;fill-opacity:0.6;stroke:#ffffff;stroke-opacity:0.6;stroke-width:0.339564;\"/>\n    <path clip-path=\"url(#p4300663c0a)\" d=\"M 544.772537 253.184769 \nC 545.349121 253.184769 545.902168 252.95569 546.309875 252.547983 \nC 546.717581 252.140276 546.946661 251.587229 546.946661 251.010645 \nC 546.946661 250.434061 546.717581 249.881014 546.309875 249.473307 \nC 545.902168 249.0656 545.349121 248.836521 544.772537 248.836521 \nC 544.195952 248.836521 543.642906 249.0656 543.235199 249.473307 \nC 542.827492 249.881014 542.598413 250.434061 542.598413 251.010645 \nC 542.598413 251.587229 542.827492 252.140276 543.235199 252.547983 \nC 543.642906 252.95569 544.195952 253.184769 544.772537 253.184769 \nz\n\" style=\"fill:#1f77b4;fill-opacity:0.6;stroke:#ffffff;stroke-opacity:0.6;stroke-width:0.339564;\"/>\n    <path clip-path=\"url(#p4300663c0a)\" d=\"M 432.516066 193.414751 \nC 433.085125 193.414751 433.630953 193.188662 434.033338 192.786277 \nC 434.435723 192.383892 434.661812 191.838064 434.661812 191.269005 \nC 434.661812 190.699946 434.435723 190.154118 434.033338 189.751733 \nC 433.630953 189.349348 433.085125 189.123259 432.516066 189.123259 \nC 431.947008 189.123259 431.40118 189.349348 430.998794 189.751733 \nC 430.596409 190.154118 430.37032 190.699946 430.37032 191.269005 \nC 430.37032 191.838064 430.596409 192.383892 430.998794 192.786277 \nC 431.40118 193.188662 431.947008 193.414751 432.516066 193.414751 \nz\n\" style=\"fill:#2ca02c;fill-opacity:0.6;stroke:#ffffff;stroke-opacity:0.6;stroke-width:0.339564;\"/>\n    <path clip-path=\"url(#p4300663c0a)\" d=\"M 513.918419 342.577607 \nC 514.487217 342.577607 515.032794 342.351621 515.434995 341.949421 \nC 515.837195 341.54722 516.063181 341.001642 516.063181 340.432845 \nC 516.063181 339.864048 515.837195 339.31847 515.434995 338.916269 \nC 515.032794 338.514069 514.487217 338.288083 513.918419 338.288083 \nC 513.349622 338.288083 512.804044 338.514069 512.401843 338.916269 \nC 511.999643 339.31847 511.773657 339.864048 511.773657 340.432845 \nC 511.773657 341.001642 511.999643 341.54722 512.401843 341.949421 \nC 512.804044 342.351621 513.349622 342.577607 513.918419 342.577607 \nz\n\" style=\"fill:#ff7f0e;fill-opacity:0.6;stroke:#ffffff;stroke-opacity:0.6;stroke-width:0.339564;\"/>\n    <path clip-path=\"url(#p4300663c0a)\" d=\"M 506.040772 323.147708 \nC 506.603369 323.147708 507.143 322.924186 507.540816 322.526369 \nC 507.938633 322.128553 508.162155 321.588922 508.162155 321.026325 \nC 508.162155 320.463728 507.938633 319.924097 507.540816 319.526281 \nC 507.143 319.128464 506.603369 318.904942 506.040772 318.904942 \nC 505.478175 318.904942 504.938544 319.128464 504.540728 319.526281 \nC 504.142911 319.924097 503.919389 320.463728 503.919389 321.026325 \nC 503.919389 321.588922 504.142911 322.128553 504.540728 322.526369 \nC 504.938544 322.924186 505.478175 323.147708 506.040772 323.147708 \nz\n\" style=\"fill:#2ca02c;fill-opacity:0.6;stroke:#ffffff;stroke-opacity:0.6;stroke-width:0.339564;\"/>\n    <path clip-path=\"url(#p4300663c0a)\" d=\"M 378.685478 179.701616 \nC 379.250713 179.701616 379.792874 179.477045 380.192556 179.077363 \nC 380.592238 178.677682 380.816809 178.135521 380.816809 177.570285 \nC 380.816809 177.005049 380.592238 176.462888 380.192556 176.063207 \nC 379.792874 175.663525 379.250713 175.438954 378.685478 175.438954 \nC 378.120242 175.438954 377.578081 175.663525 377.1784 176.063207 \nC 376.778718 176.462888 376.554147 177.005049 376.554147 177.570285 \nC 376.554147 178.135521 376.778718 178.677682 377.1784 179.077363 \nC 377.578081 179.477045 378.120242 179.701616 378.685478 179.701616 \nz\n\" style=\"fill:#2ca02c;fill-opacity:0.6;stroke:#ffffff;stroke-opacity:0.6;stroke-width:0.339564;\"/>\n    <path clip-path=\"url(#p4300663c0a)\" d=\"M 554.619596 344.0859 \nC 555.184737 344.0859 555.726807 343.861367 556.126423 343.461752 \nC 556.526038 343.062137 556.750571 342.520066 556.750571 341.954925 \nC 556.750571 341.389784 556.526038 340.847713 556.126423 340.448098 \nC 555.726807 340.048483 555.184737 339.82395 554.619596 339.82395 \nC 554.054454 339.82395 553.512384 340.048483 553.112769 340.448098 \nC 552.713153 340.847713 552.48862 341.389784 552.48862 341.954925 \nC 552.48862 342.520066 552.713153 343.062137 553.112769 343.461752 \nC 553.512384 343.861367 554.054454 344.0859 554.619596 344.0859 \nz\n\" style=\"fill:#1f77b4;fill-opacity:0.6;stroke:#ffffff;stroke-opacity:0.6;stroke-width:0.339564;\"/>\n    <path clip-path=\"url(#p4300663c0a)\" d=\"M 540.177243 358.921362 \nC 540.741106 358.921362 541.281951 358.697337 541.680663 358.298625 \nC 542.079374 357.899913 542.3034 357.359068 542.3034 356.795205 \nC 542.3034 356.231342 542.079374 355.690497 541.680663 355.291785 \nC 541.281951 354.893073 540.741106 354.669048 540.177243 354.669048 \nC 539.613379 354.669048 539.072534 354.893073 538.673823 355.291785 \nC 538.275111 355.690497 538.051086 356.231342 538.051086 356.795205 \nC 538.051086 357.359068 538.275111 357.899913 538.673823 358.298625 \nC 539.072534 358.697337 539.613379 358.921362 540.177243 358.921362 \nz\n\" style=\"fill:#ff7f0e;fill-opacity:0.6;stroke:#ffffff;stroke-opacity:0.6;stroke-width:0.339564;\"/>\n    <path clip-path=\"url(#p4300663c0a)\" d=\"M 445.645478 225.354898 \nC 446.208295 225.354898 446.748137 225.131288 447.146109 224.733316 \nC 447.544081 224.335344 447.767691 223.795502 447.767691 223.232685 \nC 447.767691 222.669868 447.544081 222.130026 447.146109 221.732054 \nC 446.748137 221.334082 446.208295 221.110472 445.645478 221.110472 \nC 445.082661 221.110472 444.542819 221.334082 444.144847 221.732054 \nC 443.746875 222.130026 443.523265 222.669868 443.523265 223.232685 \nC 443.523265 223.795502 443.746875 224.335344 444.144847 224.733316 \nC 444.542819 225.131288 445.082661 225.354898 445.645478 225.354898 \nz\n\" style=\"fill:#8c564b;fill-opacity:0.6;stroke:#ffffff;stroke-opacity:0.6;stroke-width:0.339564;\"/>\n    <path clip-path=\"url(#p4300663c0a)\" d=\"M 373.433713 115.402011 \nC 374.001143 115.402011 374.545409 115.176569 374.946643 114.775335 \nC 375.347877 114.374101 375.573319 113.829835 375.573319 113.262405 \nC 375.573319 112.694975 375.347877 112.150709 374.946643 111.749475 \nC 374.545409 111.348241 374.001143 111.122799 373.433713 111.122799 \nC 372.866283 111.122799 372.322017 111.348241 371.920783 111.749475 \nC 371.51955 112.150709 371.294107 112.694975 371.294107 113.262405 \nC 371.294107 113.829835 371.51955 114.374101 371.920783 114.775335 \nC 372.322017 115.176569 372.866283 115.402011 373.433713 115.402011 \nz\n\" style=\"fill:#2ca02c;fill-opacity:0.6;stroke:#ffffff;stroke-opacity:0.6;stroke-width:0.339564;\"/>\n    <path clip-path=\"url(#p4300663c0a)\" d=\"M 410.852537 295.859733 \nC 411.444165 295.859733 412.011641 295.624677 412.429985 295.206333 \nC 412.848329 294.787989 413.083385 294.220513 413.083385 293.628885 \nC 413.083385 293.037257 412.848329 292.469781 412.429985 292.051437 \nC 412.011641 291.633093 411.444165 291.398037 410.852537 291.398037 \nC 410.260909 291.398037 409.693433 291.633093 409.275089 292.051437 \nC 408.856745 292.469781 408.621689 293.037257 408.621689 293.628885 \nC 408.621689 294.220513 408.856745 294.787989 409.275089 295.206333 \nC 409.693433 295.624677 410.260909 295.859733 410.852537 295.859733 \nz\n\" style=\"fill:#2ca02c;fill-opacity:0.6;stroke:#ffffff;stroke-opacity:0.6;stroke-width:0.339564;\"/>\n    <path clip-path=\"url(#p4300663c0a)\" d=\"M 560.527831 358.63563 \nC 561.116832 358.63563 561.681789 358.401617 562.098276 357.98513 \nC 562.514763 357.568643 562.748776 357.003687 562.748776 356.414685 \nC 562.748776 355.825683 562.514763 355.260727 562.098276 354.84424 \nC 561.681789 354.427753 561.116832 354.19374 560.527831 354.19374 \nC 559.938829 354.19374 559.373872 354.427753 558.957385 354.84424 \nC 558.540898 355.260727 558.306886 355.825683 558.306886 356.414685 \nC 558.306886 357.003687 558.540898 357.568643 558.957385 357.98513 \nC 559.373872 358.401617 559.938829 358.63563 560.527831 358.63563 \nz\n\" style=\"fill:#ff7f0e;fill-opacity:0.6;stroke:#ffffff;stroke-opacity:0.6;stroke-width:0.339564;\"/>\n    <path clip-path=\"url(#p4300663c0a)\" d=\"M 515.887831 319.769382 \nC 516.462722 319.769382 517.014144 319.540976 517.420653 319.134467 \nC 517.827162 318.727958 518.055568 318.176536 518.055568 317.601645 \nC 518.055568 317.026754 517.827162 316.475332 517.420653 316.068823 \nC 517.014144 315.662314 516.462722 315.433908 515.887831 315.433908 \nC 515.31294 315.433908 514.761518 315.662314 514.355009 316.068823 \nC 513.9485 316.475332 513.720093 317.026754 513.720093 317.601645 \nC 513.720093 318.176536 513.9485 318.727958 514.355009 319.134467 \nC 514.761518 319.540976 515.31294 319.769382 515.887831 319.769382 \nz\n\" style=\"fill:#1f77b4;fill-opacity:0.6;stroke:#ffffff;stroke-opacity:0.6;stroke-width:0.339564;\"/>\n    <path clip-path=\"url(#p4300663c0a)\" d=\"M 450.240772 198.025657 \nC 450.821676 198.025657 451.378866 197.794862 451.789628 197.3841 \nC 452.200389 196.973339 452.431184 196.416149 452.431184 195.835245 \nC 452.431184 195.254341 452.200389 194.697151 451.789628 194.28639 \nC 451.378866 193.875628 450.821676 193.644833 450.240772 193.644833 \nC 449.659868 193.644833 449.102678 193.875628 448.691917 194.28639 \nC 448.281155 194.697151 448.05036 195.254341 448.05036 195.835245 \nC 448.05036 196.416149 448.281155 196.973339 448.691917 197.3841 \nC 449.102678 197.794862 449.659868 198.025657 450.240772 198.025657 \nz\n\" style=\"fill:#2ca02c;fill-opacity:0.6;stroke:#ffffff;stroke-opacity:0.6;stroke-width:0.339564;\"/>\n    <path clip-path=\"url(#p4300663c0a)\" d=\"M 498.163125 300.698029 \nC 498.725988 300.698029 499.265873 300.474401 499.663877 300.076397 \nC 500.061881 299.678393 500.285509 299.138508 500.285509 298.575645 \nC 500.285509 298.012782 500.061881 297.472897 499.663877 297.074893 \nC 499.265873 296.676889 498.725988 296.453261 498.163125 296.453261 \nC 497.600262 296.453261 497.060377 296.676889 496.662373 297.074893 \nC 496.264369 297.472897 496.040741 298.012782 496.040741 298.575645 \nC 496.040741 299.138508 496.264369 299.678393 496.662373 300.076397 \nC 497.060377 300.474401 497.600262 300.698029 498.163125 300.698029 \nz\n\" style=\"fill:#9467bd;fill-opacity:0.6;stroke:#ffffff;stroke-opacity:0.6;stroke-width:0.339564;\"/>\n    <path clip-path=\"url(#p4300663c0a)\" d=\"M 360.960772 244.763048 \nC 361.524022 244.763048 362.064278 244.539267 362.462556 244.140989 \nC 362.860834 243.742711 363.084615 243.202455 363.084615 242.639205 \nC 363.084615 242.075955 362.860834 241.535699 362.462556 241.137421 \nC 362.064278 240.739143 361.524022 240.515362 360.960772 240.515362 \nC 360.397522 240.515362 359.857266 240.739143 359.458988 241.137421 \nC 359.06071 241.535699 358.836929 242.075955 358.836929 242.639205 \nC 358.836929 243.202455 359.06071 243.742711 359.458988 244.140989 \nC 359.857266 244.539267 360.397522 244.763048 360.960772 244.763048 \nz\n\" style=\"fill:#2ca02c;fill-opacity:0.6;stroke:#ffffff;stroke-opacity:0.6;stroke-width:0.339564;\"/>\n    <path clip-path=\"url(#p4300663c0a)\" d=\"M 563.810184 345.620302 \nC 564.378593 345.620302 564.923798 345.39447 565.325723 344.992545 \nC 565.727649 344.590619 565.95348 344.045414 565.95348 343.477005 \nC 565.95348 342.908596 565.727649 342.363391 565.325723 341.961465 \nC 564.923798 341.55954 564.378593 341.333708 563.810184 341.333708 \nC 563.241775 341.333708 562.69657 341.55954 562.294644 341.961465 \nC 561.892718 342.363391 561.666887 342.908596 561.666887 343.477005 \nC 561.666887 344.045414 561.892718 344.590619 562.294644 344.992545 \nC 562.69657 345.39447 563.241775 345.620302 563.810184 345.620302 \nz\n\" style=\"fill:#ff7f0e;fill-opacity:0.6;stroke:#ffffff;stroke-opacity:0.6;stroke-width:0.339564;\"/>\n    <path clip-path=\"url(#p4300663c0a)\" d=\"M 564.466654 350.182305 \nC 565.03394 350.182305 565.578067 349.95692 565.979198 349.555789 \nC 566.380329 349.154657 566.605714 348.61053 566.605714 348.043245 \nC 566.605714 347.47596 566.380329 346.931833 565.979198 346.530701 \nC 565.578067 346.12957 565.03394 345.904185 564.466654 345.904185 \nC 563.899369 345.904185 563.355242 346.12957 562.954111 346.530701 \nC 562.552979 346.931833 562.327595 347.47596 562.327595 348.043245 \nC 562.327595 348.61053 562.552979 349.154657 562.954111 349.555789 \nC 563.355242 349.95692 563.899369 350.182305 564.466654 350.182305 \nz\n\" style=\"fill:#ff7f0e;fill-opacity:0.6;stroke:#ffffff;stroke-opacity:0.6;stroke-width:0.339564;\"/>\n    <path clip-path=\"url(#p4300663c0a)\" d=\"M 529.017243 254.313977 \nC 529.590551 254.313977 530.140456 254.086199 530.545846 253.680808 \nC 530.951236 253.275418 531.179014 252.725514 531.179014 252.152205 \nC 531.179014 251.578896 530.951236 251.028992 530.545846 250.623602 \nC 530.140456 250.218211 529.590551 249.990433 529.017243 249.990433 \nC 528.443934 249.990433 527.89403 250.218211 527.488639 250.623602 \nC 527.083249 251.028992 526.855471 251.578896 526.855471 252.152205 \nC 526.855471 252.725514 527.083249 253.275418 527.488639 253.680808 \nC 527.89403 254.086199 528.443934 254.313977 529.017243 254.313977 \nz\n\" style=\"fill:#1f77b4;fill-opacity:0.6;stroke:#ffffff;stroke-opacity:0.6;stroke-width:0.339564;\"/>\n    <path clip-path=\"url(#p4300663c0a)\" d=\"M 472.560772 254.66935 \nC 473.127412 254.66935 473.670919 254.444221 474.071594 254.043547 \nC 474.472269 253.642872 474.697397 253.099365 474.697397 252.532725 \nC 474.697397 251.966085 474.472269 251.422578 474.071594 251.021903 \nC 473.670919 250.621229 473.127412 250.3961 472.560772 250.3961 \nC 471.994133 250.3961 471.450625 250.621229 471.04995 251.021903 \nC 470.649276 251.422578 470.424147 251.966085 470.424147 252.532725 \nC 470.424147 253.099365 470.649276 253.642872 471.04995 254.043547 \nC 471.450625 254.444221 471.994133 254.66935 472.560772 254.66935 \nz\n\" style=\"fill:#1f77b4;fill-opacity:0.6;stroke:#ffffff;stroke-opacity:0.6;stroke-width:0.339564;\"/>\n    <path clip-path=\"url(#p4300663c0a)\" d=\"M 397.066654 188.526957 \nC 397.651351 188.526957 398.212178 188.294654 398.625621 187.881212 \nC 399.039064 187.467769 399.271366 186.906941 399.271366 186.322245 \nC 399.271366 185.737549 399.039064 185.176721 398.625621 184.763278 \nC 398.212178 184.349836 397.651351 184.117533 397.066654 184.117533 \nC 396.481958 184.117533 395.921131 184.349836 395.507688 184.763278 \nC 395.094245 185.176721 394.861943 185.737549 394.861943 186.322245 \nC 394.861943 186.906941 395.094245 187.467769 395.507688 187.881212 \nC 395.921131 188.294654 396.481958 188.526957 397.066654 188.526957 \nz\n\" style=\"fill:#2ca02c;fill-opacity:0.6;stroke:#ffffff;stroke-opacity:0.6;stroke-width:0.339564;\"/>\n    <path clip-path=\"url(#p4300663c0a)\" d=\"M 504.727831 341.18362 \nC 505.330599 341.18362 505.908761 340.944138 506.334982 340.517916 \nC 506.761204 340.091695 507.000686 339.513533 507.000686 338.910765 \nC 507.000686 338.307997 506.761204 337.729835 506.334982 337.303614 \nC 505.908761 336.877392 505.330599 336.63791 504.727831 336.63791 \nC 504.125063 336.63791 503.546901 336.877392 503.12068 337.303614 \nC 502.694458 337.729835 502.454976 338.307997 502.454976 338.910765 \nC 502.454976 339.513533 502.694458 340.091695 503.12068 340.517916 \nC 503.546901 340.944138 504.125063 341.18362 504.727831 341.18362 \nz\n\" style=\"fill:#1f77b4;fill-opacity:0.6;stroke:#ffffff;stroke-opacity:0.6;stroke-width:0.339564;\"/>\n    <path clip-path=\"url(#p4300663c0a)\" d=\"M 412.821949 203.676405 \nC 413.387722 203.676405 413.930399 203.451621 414.330462 203.051558 \nC 414.730524 202.651496 414.955308 202.108819 414.955308 201.543045 \nC 414.955308 200.977271 414.730524 200.434594 414.330462 200.034532 \nC 413.930399 199.634469 413.387722 199.409685 412.821949 199.409685 \nC 412.256175 199.409685 411.713498 199.634469 411.313435 200.034532 \nC 410.913373 200.434594 410.688589 200.977271 410.688589 201.543045 \nC 410.688589 202.108819 410.913373 202.651496 411.313435 203.051558 \nC 411.713498 203.451621 412.256175 203.676405 412.821949 203.676405 \nz\n\" style=\"fill:#2ca02c;fill-opacity:0.6;stroke:#ffffff;stroke-opacity:0.6;stroke-width:0.339564;\"/>\n    <path clip-path=\"url(#p4300663c0a)\" d=\"M 497.506654 243.23855 \nC 498.069263 243.23855 498.608904 243.015023 499.006728 242.617199 \nC 499.404553 242.219375 499.628079 241.679733 499.628079 241.117125 \nC 499.628079 240.554517 499.404553 240.014875 499.006728 239.617051 \nC 498.608904 239.219227 498.069263 238.9957 497.506654 238.9957 \nC 496.944046 238.9957 496.404405 239.219227 496.00658 239.617051 \nC 495.608756 240.014875 495.38523 240.554517 495.38523 241.117125 \nC 495.38523 241.679733 495.608756 242.219375 496.00658 242.617199 \nC 496.404405 243.015023 496.944046 243.23855 497.506654 243.23855 \nz\n\" style=\"fill:#8c564b;fill-opacity:0.6;stroke:#ffffff;stroke-opacity:0.6;stroke-width:0.339564;\"/>\n    <path clip-path=\"url(#p4300663c0a)\" d=\"M 496.850184 338.37148 \nC 497.413569 338.37148 497.953956 338.147644 498.352329 337.749271 \nC 498.750703 337.350897 498.974538 336.81051 498.974538 336.247125 \nC 498.974538 335.68374 498.750703 335.143353 498.352329 334.744979 \nC 497.953956 334.346606 497.413569 334.12277 496.850184 334.12277 \nC 496.286798 334.12277 495.746412 334.346606 495.348038 334.744979 \nC 494.949665 335.143353 494.725829 335.68374 494.725829 336.247125 \nC 494.725829 336.81051 494.949665 337.350897 495.348038 337.749271 \nC 495.746412 338.147644 496.286798 338.37148 496.850184 338.37148 \nz\n\" style=\"fill:#d62728;fill-opacity:0.6;stroke:#ffffff;stroke-opacity:0.6;stroke-width:0.339564;\"/>\n    <path clip-path=\"url(#p4300663c0a)\" d=\"M 532.956066 324.693751 \nC 533.525019 324.693751 534.070745 324.467704 534.473055 324.065394 \nC 534.875365 323.663084 535.101413 323.117358 535.101413 322.548405 \nC 535.101413 321.979452 534.875365 321.433726 534.473055 321.031416 \nC 534.070745 320.629106 533.525019 320.403059 532.956066 320.403059 \nC 532.387114 320.403059 531.841387 320.629106 531.439077 321.031416 \nC 531.036767 321.433726 530.81072 321.979452 530.81072 322.548405 \nC 530.81072 323.117358 531.036767 323.663084 531.439077 324.065394 \nC 531.841387 324.467704 532.387114 324.693751 532.956066 324.693751 \nz\n\" style=\"fill:#2ca02c;fill-opacity:0.6;stroke:#ffffff;stroke-opacity:0.6;stroke-width:0.339564;\"/>\n    <path clip-path=\"url(#p4300663c0a)\" d=\"M 525.078419 311.884859 \nC 525.681526 311.884859 526.260013 311.645242 526.686474 311.21878 \nC 527.112936 310.792319 527.352553 310.213832 527.352553 309.610725 \nC 527.352553 309.007618 527.112936 308.429131 526.686474 308.00267 \nC 526.260013 307.576208 525.681526 307.336591 525.078419 307.336591 \nC 524.475312 307.336591 523.896825 307.576208 523.470364 308.00267 \nC 523.043903 308.429131 522.804285 309.007618 522.804285 309.610725 \nC 522.804285 310.213832 523.043903 310.792319 523.470364 311.21878 \nC 523.896825 311.645242 524.475312 311.884859 525.078419 311.884859 \nz\n\" style=\"fill:#1f77b4;fill-opacity:0.6;stroke:#ffffff;stroke-opacity:0.6;stroke-width:0.339564;\"/>\n    <path clip-path=\"url(#p4300663c0a)\" d=\"M 458.77489 296.902875 \nC 459.340417 296.902875 459.882857 296.678188 460.282745 296.2783 \nC 460.682633 295.878412 460.907319 295.335972 460.907319 294.770445 \nC 460.907319 294.204918 460.682633 293.662478 460.282745 293.26259 \nC 459.882857 292.862702 459.340417 292.638015 458.77489 292.638015 \nC 458.209363 292.638015 457.666922 292.862702 457.267034 293.26259 \nC 456.867146 293.662478 456.64246 294.204918 456.64246 294.770445 \nC 456.64246 295.335972 456.867146 295.878412 457.267034 296.2783 \nC 457.666922 296.678188 458.209363 296.902875 458.77489 296.902875 \nz\n\" style=\"fill:#1f77b4;fill-opacity:0.6;stroke:#ffffff;stroke-opacity:0.6;stroke-width:0.339564;\"/>\n    <path clip-path=\"url(#p4300663c0a)\" d=\"M 362.930184 143.600784 \nC 363.5083 143.600784 364.062816 143.371096 364.471605 142.962307 \nC 364.880395 142.553517 365.110083 141.999001 365.110083 141.420885 \nC 365.110083 140.842769 364.880395 140.288253 364.471605 139.879463 \nC 364.062816 139.470674 363.5083 139.240986 362.930184 139.240986 \nC 362.352068 139.240986 361.797552 139.470674 361.388762 139.879463 \nC 360.979972 140.288253 360.750285 140.842769 360.750285 141.420885 \nC 360.750285 141.999001 360.979972 142.553517 361.388762 142.962307 \nC 361.797552 143.371096 362.352068 143.600784 362.930184 143.600784 \nz\n\" style=\"fill:#2ca02c;fill-opacity:0.6;stroke:#ffffff;stroke-opacity:0.6;stroke-width:0.339564;\"/>\n    <path clip-path=\"url(#p4300663c0a)\" d=\"M 482.407831 361.698846 \nC 483.001886 361.698846 483.57169 361.462825 483.991751 361.042765 \nC 484.411811 360.622705 484.647832 360.0529 484.647832 359.458845 \nC 484.647832 358.86479 484.411811 358.294985 483.991751 357.874925 \nC 483.57169 357.454865 483.001886 357.218844 482.407831 357.218844 \nC 481.813776 357.218844 481.243971 357.454865 480.823911 357.874925 \nC 480.40385 358.294985 480.16783 358.86479 480.16783 359.458845 \nC 480.16783 360.0529 480.40385 360.622705 480.823911 361.042765 \nC 481.243971 361.462825 481.813776 361.698846 482.407831 361.698846 \nz\n\" style=\"fill:#ff7f0e;fill-opacity:0.6;stroke:#ffffff;stroke-opacity:0.6;stroke-width:0.339564;\"/>\n    <path clip-path=\"url(#p4300663c0a)\" d=\"M 521.796066 304.509654 \nC 522.360633 304.509654 522.902152 304.285349 523.301361 303.88614 \nC 523.70057 303.486931 523.924875 302.945412 523.924875 302.380845 \nC 523.924875 301.816278 523.70057 301.274759 523.301361 300.87555 \nC 522.902152 300.476341 522.360633 300.252036 521.796066 300.252036 \nC 521.231499 300.252036 520.68998 300.476341 520.290771 300.87555 \nC 519.891562 301.274759 519.667257 301.816278 519.667257 302.380845 \nC 519.667257 302.945412 519.891562 303.486931 520.290771 303.88614 \nC 520.68998 304.285349 521.231499 304.509654 521.796066 304.509654 \nz\n\" style=\"fill:#1f77b4;fill-opacity:0.6;stroke:#ffffff;stroke-opacity:0.6;stroke-width:0.339564;\"/>\n    <path clip-path=\"url(#p4300663c0a)\" d=\"M 551.337243 341.174654 \nC 551.937633 341.174654 552.513514 340.936117 552.938054 340.511576 \nC 553.362594 340.087036 553.601132 339.511155 553.601132 338.910765 \nC 553.601132 338.310375 553.362594 337.734494 552.938054 337.309954 \nC 552.513514 336.885413 551.937633 336.646876 551.337243 336.646876 \nC 550.736852 336.646876 550.160971 336.885413 549.736431 337.309954 \nC 549.311891 337.734494 549.073353 338.310375 549.073353 338.910765 \nC 549.073353 339.511155 549.311891 340.087036 549.736431 340.511576 \nC 550.160971 340.936117 550.736852 341.174654 551.337243 341.174654 \nz\n\" style=\"fill:#ff7f0e;fill-opacity:0.6;stroke:#ffffff;stroke-opacity:0.6;stroke-width:0.339564;\"/>\n    <path clip-path=\"url(#p4300663c0a)\" d=\"M 545.429007 327.571371 \nC 546.155623 327.571371 546.852576 327.282683 547.366371 326.768889 \nC 547.880166 326.255094 548.168853 325.558141 548.168853 324.831525 \nC 548.168853 324.104909 547.880166 323.407956 547.366371 322.894161 \nC 546.852576 322.380367 546.155623 322.091679 545.429007 322.091679 \nC 544.702392 322.091679 544.005439 322.380367 543.491644 322.894161 \nC 542.977849 323.407956 542.689161 324.104909 542.689161 324.831525 \nC 542.689161 325.558141 542.977849 326.255094 543.491644 326.768889 \nC 544.005439 327.282683 544.702392 327.571371 545.429007 327.571371 \nz\n\" style=\"fill:#d62728;fill-opacity:0.6;stroke:#ffffff;stroke-opacity:0.6;stroke-width:0.339564;\"/>\n    <path clip-path=\"url(#p4300663c0a)\" d=\"M 530.330184 319.731131 \nC 530.89493 319.731131 531.436622 319.506755 531.835958 319.107419 \nC 532.235294 318.708083 532.45967 318.166391 532.45967 317.601645 \nC 532.45967 317.036899 532.235294 316.495207 531.835958 316.095871 \nC 531.436622 315.696535 530.89493 315.472159 530.330184 315.472159 \nC 529.765438 315.472159 529.223746 315.696535 528.82441 316.095871 \nC 528.425074 316.495207 528.200698 317.036899 528.200698 317.601645 \nC 528.200698 318.166391 528.425074 318.708083 528.82441 319.107419 \nC 529.223746 319.506755 529.765438 319.731131 530.330184 319.731131 \nz\n\" style=\"fill:#9467bd;fill-opacity:0.6;stroke:#ffffff;stroke-opacity:0.6;stroke-width:0.339564;\"/>\n    <path clip-path=\"url(#p4300663c0a)\" d=\"M 484.377243 300.757398 \nC 484.95585 300.757398 485.510838 300.527515 485.919975 300.118377 \nC 486.329112 299.70924 486.558996 299.154253 486.558996 298.575645 \nC 486.558996 297.997037 486.329112 297.44205 485.919975 297.032913 \nC 485.510838 296.623775 484.95585 296.393892 484.377243 296.393892 \nC 483.798635 296.393892 483.243648 296.623775 482.83451 297.032913 \nC 482.425373 297.44205 482.19549 297.997037 482.19549 298.575645 \nC 482.19549 299.154253 482.425373 299.70924 482.83451 300.118377 \nC 483.243648 300.527515 483.798635 300.757398 484.377243 300.757398 \nz\n\" style=\"fill:#1f77b4;fill-opacity:0.6;stroke:#ffffff;stroke-opacity:0.6;stroke-width:0.339564;\"/>\n    <path clip-path=\"url(#p4300663c0a)\" d=\"M 450.897243 238.672528 \nC 451.459909 238.672528 451.999606 238.448979 452.397471 238.051113 \nC 452.795336 237.653248 453.018886 237.113551 453.018886 236.550885 \nC 453.018886 235.988219 452.795336 235.448522 452.397471 235.050657 \nC 451.999606 234.652791 451.459909 234.429242 450.897243 234.429242 \nC 450.334576 234.429242 449.79488 234.652791 449.397014 235.050657 \nC 448.999149 235.448522 448.775599 235.988219 448.775599 236.550885 \nC 448.775599 237.113551 448.999149 237.653248 449.397014 238.051113 \nC 449.79488 238.448979 450.334576 238.672528 450.897243 238.672528 \nz\n\" style=\"fill:#8c564b;fill-opacity:0.6;stroke:#ffffff;stroke-opacity:0.6;stroke-width:0.339564;\"/>\n    <path clip-path=\"url(#p4300663c0a)\" d=\"M 525.078419 297.713149 \nC 525.657003 297.713149 526.211968 297.483275 526.621088 297.074154 \nC 527.030209 296.665033 527.260083 296.110069 527.260083 295.531485 \nC 527.260083 294.952901 527.030209 294.397937 526.621088 293.988816 \nC 526.211968 293.579695 525.657003 293.349821 525.078419 293.349821 \nC 524.499835 293.349821 523.944871 293.579695 523.53575 293.988816 \nC 523.126629 294.397937 522.896756 294.952901 522.896756 295.531485 \nC 522.896756 296.110069 523.126629 296.665033 523.53575 297.074154 \nC 523.944871 297.483275 524.499835 297.713149 525.078419 297.713149 \nz\n\" style=\"fill:#9467bd;fill-opacity:0.6;stroke:#ffffff;stroke-opacity:0.6;stroke-width:0.339564;\"/>\n    <path clip-path=\"url(#p4300663c0a)\" d=\"M 513.261949 329.808796 \nC 513.875531 329.808796 514.464064 329.565017 514.897932 329.131149 \nC 515.3318 328.697281 515.575579 328.108747 515.575579 327.495165 \nC 515.575579 326.881583 515.3318 326.293049 514.897932 325.859181 \nC 514.464064 325.425313 513.875531 325.181534 513.261949 325.181534 \nC 512.648367 325.181534 512.059833 325.425313 511.625965 325.859181 \nC 511.192097 326.293049 510.948318 326.881583 510.948318 327.495165 \nC 510.948318 328.108747 511.192097 328.697281 511.625965 329.131149 \nC 512.059833 329.565017 512.648367 329.808796 513.261949 329.808796 \nz\n\" style=\"fill:#1f77b4;fill-opacity:0.6;stroke:#ffffff;stroke-opacity:0.6;stroke-width:0.339564;\"/>\n    <path clip-path=\"url(#p4300663c0a)\" d=\"M 450.240772 162.992717 \nC 450.81502 162.992717 451.365825 162.764566 451.771879 162.358512 \nC 452.177933 161.952458 452.406084 161.401652 452.406084 160.827405 \nC 452.406084 160.253158 452.177933 159.702352 451.771879 159.296298 \nC 451.365825 158.890244 450.81502 158.662093 450.240772 158.662093 \nC 449.666525 158.662093 449.115719 158.890244 448.709665 159.296298 \nC 448.303611 159.702352 448.07546 160.253158 448.07546 160.827405 \nC 448.07546 161.401652 448.303611 161.952458 448.709665 162.358512 \nC 449.115719 162.764566 449.666525 162.992717 450.240772 162.992717 \nz\n\" style=\"fill:#1f77b4;fill-opacity:0.6;stroke:#ffffff;stroke-opacity:0.6;stroke-width:0.339564;\"/>\n    <path clip-path=\"url(#p4300663c0a)\" d=\"M 334.701949 174.010025 \nC 335.271483 174.010025 335.817767 173.783747 336.220489 173.381025 \nC 336.623211 172.978304 336.849489 172.432019 336.849489 171.862485 \nC 336.849489 171.292951 336.623211 170.746666 336.220489 170.343945 \nC 335.817767 169.941223 335.271483 169.714945 334.701949 169.714945 \nC 334.132414 169.714945 333.58613 169.941223 333.183408 170.343945 \nC 332.780686 170.746666 332.554408 171.292951 332.554408 171.862485 \nC 332.554408 172.432019 332.780686 172.978304 333.183408 173.381025 \nC 333.58613 173.783747 334.132414 174.010025 334.701949 174.010025 \nz\n\" style=\"fill:#2ca02c;fill-opacity:0.6;stroke:#ffffff;stroke-opacity:0.6;stroke-width:0.339564;\"/>\n    <path clip-path=\"url(#p4300663c0a)\" d=\"M 355.052537 250.118759 \nC 355.623327 250.118759 356.170815 249.891982 356.574425 249.488373 \nC 356.978034 249.084763 357.204811 248.537275 357.204811 247.966485 \nC 357.204811 247.395695 356.978034 246.848207 356.574425 246.444597 \nC 356.170815 246.040988 355.623327 245.814211 355.052537 245.814211 \nC 354.481747 245.814211 353.934258 246.040988 353.530649 246.444597 \nC 353.12704 246.848207 352.900262 247.395695 352.900262 247.966485 \nC 352.900262 248.537275 353.12704 249.084763 353.530649 249.488373 \nC 353.934258 249.891982 354.481747 250.118759 355.052537 250.118759 \nz\n\" style=\"fill:#2ca02c;fill-opacity:0.6;stroke:#ffffff;stroke-opacity:0.6;stroke-width:0.339564;\"/>\n   </g>\n   <g id=\"PathCollection_2\"/>\n   <g id=\"PathCollection_3\"/>\n   <g id=\"PathCollection_4\"/>\n   <g id=\"PathCollection_5\"/>\n   <g id=\"PathCollection_6\"/>\n   <g id=\"PathCollection_7\"/>\n   <g id=\"PathCollection_8\"/>\n   <g id=\"PathCollection_9\"/>\n   <g id=\"PathCollection_10\"/>\n   <g id=\"PathCollection_11\"/>\n   <g id=\"PathCollection_12\"/>\n   <g id=\"matplotlib.axis_1\">\n    <g id=\"xtick_1\">\n     <g id=\"line2d_1\">\n      <defs>\n       <path d=\"M 0 0 \nL 0 3.5 \n\" id=\"med8323a9d4\" style=\"stroke:#000000;stroke-width:0.8;\"/>\n      </defs>\n      <g>\n       <use style=\"stroke:#000000;stroke-width:0.8;\" x=\"40.603125\" xlink:href=\"#med8323a9d4\" y=\"402.838125\"/>\n      </g>\n     </g>\n     <g id=\"text_1\">\n      <!-- 0 -->\n      <defs>\n       <path d=\"M 31.78125 66.40625 \nQ 24.171875 66.40625 20.328125 58.90625 \nQ 16.5 51.421875 16.5 36.375 \nQ 16.5 21.390625 20.328125 13.890625 \nQ 24.171875 6.390625 31.78125 6.390625 \nQ 39.453125 6.390625 43.28125 13.890625 \nQ 47.125 21.390625 47.125 36.375 \nQ 47.125 51.421875 43.28125 58.90625 \nQ 39.453125 66.40625 31.78125 66.40625 \nz\nM 31.78125 74.21875 \nQ 44.046875 74.21875 50.515625 64.515625 \nQ 56.984375 54.828125 56.984375 36.375 \nQ 56.984375 17.96875 50.515625 8.265625 \nQ 44.046875 -1.421875 31.78125 -1.421875 \nQ 19.53125 -1.421875 13.0625 8.265625 \nQ 6.59375 17.96875 6.59375 36.375 \nQ 6.59375 54.828125 13.0625 64.515625 \nQ 19.53125 74.21875 31.78125 74.21875 \nz\n\" id=\"DejaVuSans-48\"/>\n      </defs>\n      <g transform=\"translate(37.421875 417.436562)scale(0.1 -0.1)\">\n       <use xlink:href=\"#DejaVuSans-48\"/>\n      </g>\n     </g>\n    </g>\n    <g id=\"xtick_2\">\n     <g id=\"line2d_2\">\n      <g>\n       <use style=\"stroke:#000000;stroke-width:0.8;\" x=\"106.250184\" xlink:href=\"#med8323a9d4\" y=\"402.838125\"/>\n      </g>\n     </g>\n     <g id=\"text_2\">\n      <!-- 10 -->\n      <defs>\n       <path d=\"M 12.40625 8.296875 \nL 28.515625 8.296875 \nL 28.515625 63.921875 \nL 10.984375 60.40625 \nL 10.984375 69.390625 \nL 28.421875 72.90625 \nL 38.28125 72.90625 \nL 38.28125 8.296875 \nL 54.390625 8.296875 \nL 54.390625 0 \nL 12.40625 0 \nz\n\" id=\"DejaVuSans-49\"/>\n      </defs>\n      <g transform=\"translate(99.887684 417.436562)scale(0.1 -0.1)\">\n       <use xlink:href=\"#DejaVuSans-49\"/>\n       <use x=\"63.623047\" xlink:href=\"#DejaVuSans-48\"/>\n      </g>\n     </g>\n    </g>\n    <g id=\"xtick_3\">\n     <g id=\"line2d_3\">\n      <g>\n       <use style=\"stroke:#000000;stroke-width:0.8;\" x=\"171.897243\" xlink:href=\"#med8323a9d4\" y=\"402.838125\"/>\n      </g>\n     </g>\n     <g id=\"text_3\">\n      <!-- 20 -->\n      <defs>\n       <path d=\"M 19.1875 8.296875 \nL 53.609375 8.296875 \nL 53.609375 0 \nL 7.328125 0 \nL 7.328125 8.296875 \nQ 12.9375 14.109375 22.625 23.890625 \nQ 32.328125 33.6875 34.8125 36.53125 \nQ 39.546875 41.84375 41.421875 45.53125 \nQ 43.3125 49.21875 43.3125 52.78125 \nQ 43.3125 58.59375 39.234375 62.25 \nQ 35.15625 65.921875 28.609375 65.921875 \nQ 23.96875 65.921875 18.8125 64.3125 \nQ 13.671875 62.703125 7.8125 59.421875 \nL 7.8125 69.390625 \nQ 13.765625 71.78125 18.9375 73 \nQ 24.125 74.21875 28.421875 74.21875 \nQ 39.75 74.21875 46.484375 68.546875 \nQ 53.21875 62.890625 53.21875 53.421875 \nQ 53.21875 48.921875 51.53125 44.890625 \nQ 49.859375 40.875 45.40625 35.40625 \nQ 44.1875 33.984375 37.640625 27.21875 \nQ 31.109375 20.453125 19.1875 8.296875 \nz\n\" id=\"DejaVuSans-50\"/>\n      </defs>\n      <g transform=\"translate(165.534743 417.436562)scale(0.1 -0.1)\">\n       <use xlink:href=\"#DejaVuSans-50\"/>\n       <use x=\"63.623047\" xlink:href=\"#DejaVuSans-48\"/>\n      </g>\n     </g>\n    </g>\n    <g id=\"xtick_4\">\n     <g id=\"line2d_4\">\n      <g>\n       <use style=\"stroke:#000000;stroke-width:0.8;\" x=\"237.544301\" xlink:href=\"#med8323a9d4\" y=\"402.838125\"/>\n      </g>\n     </g>\n     <g id=\"text_4\">\n      <!-- 30 -->\n      <defs>\n       <path d=\"M 40.578125 39.3125 \nQ 47.65625 37.796875 51.625 33 \nQ 55.609375 28.21875 55.609375 21.1875 \nQ 55.609375 10.40625 48.1875 4.484375 \nQ 40.765625 -1.421875 27.09375 -1.421875 \nQ 22.515625 -1.421875 17.65625 -0.515625 \nQ 12.796875 0.390625 7.625 2.203125 \nL 7.625 11.71875 \nQ 11.71875 9.328125 16.59375 8.109375 \nQ 21.484375 6.890625 26.8125 6.890625 \nQ 36.078125 6.890625 40.9375 10.546875 \nQ 45.796875 14.203125 45.796875 21.1875 \nQ 45.796875 27.640625 41.28125 31.265625 \nQ 36.765625 34.90625 28.71875 34.90625 \nL 20.21875 34.90625 \nL 20.21875 43.015625 \nL 29.109375 43.015625 \nQ 36.375 43.015625 40.234375 45.921875 \nQ 44.09375 48.828125 44.09375 54.296875 \nQ 44.09375 59.90625 40.109375 62.90625 \nQ 36.140625 65.921875 28.71875 65.921875 \nQ 24.65625 65.921875 20.015625 65.03125 \nQ 15.375 64.15625 9.8125 62.3125 \nL 9.8125 71.09375 \nQ 15.4375 72.65625 20.34375 73.4375 \nQ 25.25 74.21875 29.59375 74.21875 \nQ 40.828125 74.21875 47.359375 69.109375 \nQ 53.90625 64.015625 53.90625 55.328125 \nQ 53.90625 49.265625 50.4375 45.09375 \nQ 46.96875 40.921875 40.578125 39.3125 \nz\n\" id=\"DejaVuSans-51\"/>\n      </defs>\n      <g transform=\"translate(231.181801 417.436562)scale(0.1 -0.1)\">\n       <use xlink:href=\"#DejaVuSans-51\"/>\n       <use x=\"63.623047\" xlink:href=\"#DejaVuSans-48\"/>\n      </g>\n     </g>\n    </g>\n    <g id=\"xtick_5\">\n     <g id=\"line2d_5\">\n      <g>\n       <use style=\"stroke:#000000;stroke-width:0.8;\" x=\"303.19136\" xlink:href=\"#med8323a9d4\" y=\"402.838125\"/>\n      </g>\n     </g>\n     <g id=\"text_5\">\n      <!-- 40 -->\n      <defs>\n       <path d=\"M 37.796875 64.3125 \nL 12.890625 25.390625 \nL 37.796875 25.390625 \nz\nM 35.203125 72.90625 \nL 47.609375 72.90625 \nL 47.609375 25.390625 \nL 58.015625 25.390625 \nL 58.015625 17.1875 \nL 47.609375 17.1875 \nL 47.609375 0 \nL 37.796875 0 \nL 37.796875 17.1875 \nL 4.890625 17.1875 \nL 4.890625 26.703125 \nz\n\" id=\"DejaVuSans-52\"/>\n      </defs>\n      <g transform=\"translate(296.82886 417.436562)scale(0.1 -0.1)\">\n       <use xlink:href=\"#DejaVuSans-52\"/>\n       <use x=\"63.623047\" xlink:href=\"#DejaVuSans-48\"/>\n      </g>\n     </g>\n    </g>\n    <g id=\"xtick_6\">\n     <g id=\"line2d_6\">\n      <g>\n       <use style=\"stroke:#000000;stroke-width:0.8;\" x=\"368.838419\" xlink:href=\"#med8323a9d4\" y=\"402.838125\"/>\n      </g>\n     </g>\n     <g id=\"text_6\">\n      <!-- 50 -->\n      <defs>\n       <path d=\"M 10.796875 72.90625 \nL 49.515625 72.90625 \nL 49.515625 64.59375 \nL 19.828125 64.59375 \nL 19.828125 46.734375 \nQ 21.96875 47.46875 24.109375 47.828125 \nQ 26.265625 48.1875 28.421875 48.1875 \nQ 40.625 48.1875 47.75 41.5 \nQ 54.890625 34.8125 54.890625 23.390625 \nQ 54.890625 11.625 47.5625 5.09375 \nQ 40.234375 -1.421875 26.90625 -1.421875 \nQ 22.3125 -1.421875 17.546875 -0.640625 \nQ 12.796875 0.140625 7.71875 1.703125 \nL 7.71875 11.625 \nQ 12.109375 9.234375 16.796875 8.0625 \nQ 21.484375 6.890625 26.703125 6.890625 \nQ 35.15625 6.890625 40.078125 11.328125 \nQ 45.015625 15.765625 45.015625 23.390625 \nQ 45.015625 31 40.078125 35.4375 \nQ 35.15625 39.890625 26.703125 39.890625 \nQ 22.75 39.890625 18.8125 39.015625 \nQ 14.890625 38.140625 10.796875 36.28125 \nz\n\" id=\"DejaVuSans-53\"/>\n      </defs>\n      <g transform=\"translate(362.475919 417.436562)scale(0.1 -0.1)\">\n       <use xlink:href=\"#DejaVuSans-53\"/>\n       <use x=\"63.623047\" xlink:href=\"#DejaVuSans-48\"/>\n      </g>\n     </g>\n    </g>\n    <g id=\"xtick_7\">\n     <g id=\"line2d_7\">\n      <g>\n       <use style=\"stroke:#000000;stroke-width:0.8;\" x=\"434.485478\" xlink:href=\"#med8323a9d4\" y=\"402.838125\"/>\n      </g>\n     </g>\n     <g id=\"text_7\">\n      <!-- 60 -->\n      <defs>\n       <path d=\"M 33.015625 40.375 \nQ 26.375 40.375 22.484375 35.828125 \nQ 18.609375 31.296875 18.609375 23.390625 \nQ 18.609375 15.53125 22.484375 10.953125 \nQ 26.375 6.390625 33.015625 6.390625 \nQ 39.65625 6.390625 43.53125 10.953125 \nQ 47.40625 15.53125 47.40625 23.390625 \nQ 47.40625 31.296875 43.53125 35.828125 \nQ 39.65625 40.375 33.015625 40.375 \nz\nM 52.59375 71.296875 \nL 52.59375 62.3125 \nQ 48.875 64.0625 45.09375 64.984375 \nQ 41.3125 65.921875 37.59375 65.921875 \nQ 27.828125 65.921875 22.671875 59.328125 \nQ 17.53125 52.734375 16.796875 39.40625 \nQ 19.671875 43.65625 24.015625 45.921875 \nQ 28.375 48.1875 33.59375 48.1875 \nQ 44.578125 48.1875 50.953125 41.515625 \nQ 57.328125 34.859375 57.328125 23.390625 \nQ 57.328125 12.15625 50.6875 5.359375 \nQ 44.046875 -1.421875 33.015625 -1.421875 \nQ 20.359375 -1.421875 13.671875 8.265625 \nQ 6.984375 17.96875 6.984375 36.375 \nQ 6.984375 53.65625 15.1875 63.9375 \nQ 23.390625 74.21875 37.203125 74.21875 \nQ 40.921875 74.21875 44.703125 73.484375 \nQ 48.484375 72.75 52.59375 71.296875 \nz\n\" id=\"DejaVuSans-54\"/>\n      </defs>\n      <g transform=\"translate(428.122978 417.436562)scale(0.1 -0.1)\">\n       <use xlink:href=\"#DejaVuSans-54\"/>\n       <use x=\"63.623047\" xlink:href=\"#DejaVuSans-48\"/>\n      </g>\n     </g>\n    </g>\n    <g id=\"xtick_8\">\n     <g id=\"line2d_8\">\n      <g>\n       <use style=\"stroke:#000000;stroke-width:0.8;\" x=\"500.132537\" xlink:href=\"#med8323a9d4\" y=\"402.838125\"/>\n      </g>\n     </g>\n     <g id=\"text_8\">\n      <!-- 70 -->\n      <defs>\n       <path d=\"M 8.203125 72.90625 \nL 55.078125 72.90625 \nL 55.078125 68.703125 \nL 28.609375 0 \nL 18.3125 0 \nL 43.21875 64.59375 \nL 8.203125 64.59375 \nz\n\" id=\"DejaVuSans-55\"/>\n      </defs>\n      <g transform=\"translate(493.770037 417.436562)scale(0.1 -0.1)\">\n       <use xlink:href=\"#DejaVuSans-55\"/>\n       <use x=\"63.623047\" xlink:href=\"#DejaVuSans-48\"/>\n      </g>\n     </g>\n    </g>\n    <g id=\"xtick_9\">\n     <g id=\"line2d_9\">\n      <g>\n       <use style=\"stroke:#000000;stroke-width:0.8;\" x=\"565.779596\" xlink:href=\"#med8323a9d4\" y=\"402.838125\"/>\n      </g>\n     </g>\n     <g id=\"text_9\">\n      <!-- 80 -->\n      <defs>\n       <path d=\"M 31.78125 34.625 \nQ 24.75 34.625 20.71875 30.859375 \nQ 16.703125 27.09375 16.703125 20.515625 \nQ 16.703125 13.921875 20.71875 10.15625 \nQ 24.75 6.390625 31.78125 6.390625 \nQ 38.8125 6.390625 42.859375 10.171875 \nQ 46.921875 13.96875 46.921875 20.515625 \nQ 46.921875 27.09375 42.890625 30.859375 \nQ 38.875 34.625 31.78125 34.625 \nz\nM 21.921875 38.8125 \nQ 15.578125 40.375 12.03125 44.71875 \nQ 8.5 49.078125 8.5 55.328125 \nQ 8.5 64.0625 14.71875 69.140625 \nQ 20.953125 74.21875 31.78125 74.21875 \nQ 42.671875 74.21875 48.875 69.140625 \nQ 55.078125 64.0625 55.078125 55.328125 \nQ 55.078125 49.078125 51.53125 44.71875 \nQ 48 40.375 41.703125 38.8125 \nQ 48.828125 37.15625 52.796875 32.3125 \nQ 56.78125 27.484375 56.78125 20.515625 \nQ 56.78125 9.90625 50.3125 4.234375 \nQ 43.84375 -1.421875 31.78125 -1.421875 \nQ 19.734375 -1.421875 13.25 4.234375 \nQ 6.78125 9.90625 6.78125 20.515625 \nQ 6.78125 27.484375 10.78125 32.3125 \nQ 14.796875 37.15625 21.921875 38.8125 \nz\nM 18.3125 54.390625 \nQ 18.3125 48.734375 21.84375 45.5625 \nQ 25.390625 42.390625 31.78125 42.390625 \nQ 38.140625 42.390625 41.71875 45.5625 \nQ 45.3125 48.734375 45.3125 54.390625 \nQ 45.3125 60.0625 41.71875 63.234375 \nQ 38.140625 66.40625 31.78125 66.40625 \nQ 25.390625 66.40625 21.84375 63.234375 \nQ 18.3125 60.0625 18.3125 54.390625 \nz\n\" id=\"DejaVuSans-56\"/>\n      </defs>\n      <g transform=\"translate(559.417096 417.436562)scale(0.1 -0.1)\">\n       <use xlink:href=\"#DejaVuSans-56\"/>\n       <use x=\"63.623047\" xlink:href=\"#DejaVuSans-48\"/>\n      </g>\n     </g>\n    </g>\n    <g id=\"text_10\">\n     <!-- Life Expectancy -->\n     <defs>\n      <path d=\"M 9.8125 72.90625 \nL 19.671875 72.90625 \nL 19.671875 8.296875 \nL 55.171875 8.296875 \nL 55.171875 0 \nL 9.8125 0 \nz\n\" id=\"DejaVuSans-76\"/>\n      <path d=\"M 9.421875 54.6875 \nL 18.40625 54.6875 \nL 18.40625 0 \nL 9.421875 0 \nz\nM 9.421875 75.984375 \nL 18.40625 75.984375 \nL 18.40625 64.59375 \nL 9.421875 64.59375 \nz\n\" id=\"DejaVuSans-105\"/>\n      <path d=\"M 37.109375 75.984375 \nL 37.109375 68.5 \nL 28.515625 68.5 \nQ 23.6875 68.5 21.796875 66.546875 \nQ 19.921875 64.59375 19.921875 59.515625 \nL 19.921875 54.6875 \nL 34.71875 54.6875 \nL 34.71875 47.703125 \nL 19.921875 47.703125 \nL 19.921875 0 \nL 10.890625 0 \nL 10.890625 47.703125 \nL 2.296875 47.703125 \nL 2.296875 54.6875 \nL 10.890625 54.6875 \nL 10.890625 58.5 \nQ 10.890625 67.625 15.140625 71.796875 \nQ 19.390625 75.984375 28.609375 75.984375 \nz\n\" id=\"DejaVuSans-102\"/>\n      <path d=\"M 56.203125 29.59375 \nL 56.203125 25.203125 \nL 14.890625 25.203125 \nQ 15.484375 15.921875 20.484375 11.0625 \nQ 25.484375 6.203125 34.421875 6.203125 \nQ 39.59375 6.203125 44.453125 7.46875 \nQ 49.3125 8.734375 54.109375 11.28125 \nL 54.109375 2.78125 \nQ 49.265625 0.734375 44.1875 -0.34375 \nQ 39.109375 -1.421875 33.890625 -1.421875 \nQ 20.796875 -1.421875 13.15625 6.1875 \nQ 5.515625 13.8125 5.515625 26.8125 \nQ 5.515625 40.234375 12.765625 48.109375 \nQ 20.015625 56 32.328125 56 \nQ 43.359375 56 49.78125 48.890625 \nQ 56.203125 41.796875 56.203125 29.59375 \nz\nM 47.21875 32.234375 \nQ 47.125 39.59375 43.09375 43.984375 \nQ 39.0625 48.390625 32.421875 48.390625 \nQ 24.90625 48.390625 20.390625 44.140625 \nQ 15.875 39.890625 15.1875 32.171875 \nz\n\" id=\"DejaVuSans-101\"/>\n      <path id=\"DejaVuSans-32\"/>\n      <path d=\"M 9.8125 72.90625 \nL 55.90625 72.90625 \nL 55.90625 64.59375 \nL 19.671875 64.59375 \nL 19.671875 43.015625 \nL 54.390625 43.015625 \nL 54.390625 34.71875 \nL 19.671875 34.71875 \nL 19.671875 8.296875 \nL 56.78125 8.296875 \nL 56.78125 0 \nL 9.8125 0 \nz\n\" id=\"DejaVuSans-69\"/>\n      <path d=\"M 54.890625 54.6875 \nL 35.109375 28.078125 \nL 55.90625 0 \nL 45.3125 0 \nL 29.390625 21.484375 \nL 13.484375 0 \nL 2.875 0 \nL 24.125 28.609375 \nL 4.6875 54.6875 \nL 15.28125 54.6875 \nL 29.78125 35.203125 \nL 44.28125 54.6875 \nz\n\" id=\"DejaVuSans-120\"/>\n      <path d=\"M 18.109375 8.203125 \nL 18.109375 -20.796875 \nL 9.078125 -20.796875 \nL 9.078125 54.6875 \nL 18.109375 54.6875 \nL 18.109375 46.390625 \nQ 20.953125 51.265625 25.265625 53.625 \nQ 29.59375 56 35.59375 56 \nQ 45.5625 56 51.78125 48.09375 \nQ 58.015625 40.1875 58.015625 27.296875 \nQ 58.015625 14.40625 51.78125 6.484375 \nQ 45.5625 -1.421875 35.59375 -1.421875 \nQ 29.59375 -1.421875 25.265625 0.953125 \nQ 20.953125 3.328125 18.109375 8.203125 \nz\nM 48.6875 27.296875 \nQ 48.6875 37.203125 44.609375 42.84375 \nQ 40.53125 48.484375 33.40625 48.484375 \nQ 26.265625 48.484375 22.1875 42.84375 \nQ 18.109375 37.203125 18.109375 27.296875 \nQ 18.109375 17.390625 22.1875 11.75 \nQ 26.265625 6.109375 33.40625 6.109375 \nQ 40.53125 6.109375 44.609375 11.75 \nQ 48.6875 17.390625 48.6875 27.296875 \nz\n\" id=\"DejaVuSans-112\"/>\n      <path d=\"M 48.78125 52.59375 \nL 48.78125 44.1875 \nQ 44.96875 46.296875 41.140625 47.34375 \nQ 37.3125 48.390625 33.40625 48.390625 \nQ 24.65625 48.390625 19.8125 42.84375 \nQ 14.984375 37.3125 14.984375 27.296875 \nQ 14.984375 17.28125 19.8125 11.734375 \nQ 24.65625 6.203125 33.40625 6.203125 \nQ 37.3125 6.203125 41.140625 7.25 \nQ 44.96875 8.296875 48.78125 10.40625 \nL 48.78125 2.09375 \nQ 45.015625 0.34375 40.984375 -0.53125 \nQ 36.96875 -1.421875 32.421875 -1.421875 \nQ 20.0625 -1.421875 12.78125 6.34375 \nQ 5.515625 14.109375 5.515625 27.296875 \nQ 5.515625 40.671875 12.859375 48.328125 \nQ 20.21875 56 33.015625 56 \nQ 37.15625 56 41.109375 55.140625 \nQ 45.0625 54.296875 48.78125 52.59375 \nz\n\" id=\"DejaVuSans-99\"/>\n      <path d=\"M 18.3125 70.21875 \nL 18.3125 54.6875 \nL 36.8125 54.6875 \nL 36.8125 47.703125 \nL 18.3125 47.703125 \nL 18.3125 18.015625 \nQ 18.3125 11.328125 20.140625 9.421875 \nQ 21.96875 7.515625 27.59375 7.515625 \nL 36.8125 7.515625 \nL 36.8125 0 \nL 27.59375 0 \nQ 17.1875 0 13.234375 3.875 \nQ 9.28125 7.765625 9.28125 18.015625 \nL 9.28125 47.703125 \nL 2.6875 47.703125 \nL 2.6875 54.6875 \nL 9.28125 54.6875 \nL 9.28125 70.21875 \nz\n\" id=\"DejaVuSans-116\"/>\n      <path d=\"M 34.28125 27.484375 \nQ 23.390625 27.484375 19.1875 25 \nQ 14.984375 22.515625 14.984375 16.5 \nQ 14.984375 11.71875 18.140625 8.90625 \nQ 21.296875 6.109375 26.703125 6.109375 \nQ 34.1875 6.109375 38.703125 11.40625 \nQ 43.21875 16.703125 43.21875 25.484375 \nL 43.21875 27.484375 \nz\nM 52.203125 31.203125 \nL 52.203125 0 \nL 43.21875 0 \nL 43.21875 8.296875 \nQ 40.140625 3.328125 35.546875 0.953125 \nQ 30.953125 -1.421875 24.3125 -1.421875 \nQ 15.921875 -1.421875 10.953125 3.296875 \nQ 6 8.015625 6 15.921875 \nQ 6 25.140625 12.171875 29.828125 \nQ 18.359375 34.515625 30.609375 34.515625 \nL 43.21875 34.515625 \nL 43.21875 35.40625 \nQ 43.21875 41.609375 39.140625 45 \nQ 35.0625 48.390625 27.6875 48.390625 \nQ 23 48.390625 18.546875 47.265625 \nQ 14.109375 46.140625 10.015625 43.890625 \nL 10.015625 52.203125 \nQ 14.9375 54.109375 19.578125 55.046875 \nQ 24.21875 56 28.609375 56 \nQ 40.484375 56 46.34375 49.84375 \nQ 52.203125 43.703125 52.203125 31.203125 \nz\n\" id=\"DejaVuSans-97\"/>\n      <path d=\"M 54.890625 33.015625 \nL 54.890625 0 \nL 45.90625 0 \nL 45.90625 32.71875 \nQ 45.90625 40.484375 42.875 44.328125 \nQ 39.84375 48.1875 33.796875 48.1875 \nQ 26.515625 48.1875 22.3125 43.546875 \nQ 18.109375 38.921875 18.109375 30.90625 \nL 18.109375 0 \nL 9.078125 0 \nL 9.078125 54.6875 \nL 18.109375 54.6875 \nL 18.109375 46.1875 \nQ 21.34375 51.125 25.703125 53.5625 \nQ 30.078125 56 35.796875 56 \nQ 45.21875 56 50.046875 50.171875 \nQ 54.890625 44.34375 54.890625 33.015625 \nz\n\" id=\"DejaVuSans-110\"/>\n      <path d=\"M 32.171875 -5.078125 \nQ 28.375 -14.84375 24.75 -17.8125 \nQ 21.140625 -20.796875 15.09375 -20.796875 \nL 7.90625 -20.796875 \nL 7.90625 -13.28125 \nL 13.1875 -13.28125 \nQ 16.890625 -13.28125 18.9375 -11.515625 \nQ 21 -9.765625 23.484375 -3.21875 \nL 25.09375 0.875 \nL 2.984375 54.6875 \nL 12.5 54.6875 \nL 29.59375 11.921875 \nL 46.6875 54.6875 \nL 56.203125 54.6875 \nz\n\" id=\"DejaVuSans-121\"/>\n     </defs>\n     <g transform=\"translate(279.982031 431.114687)scale(0.1 -0.1)\">\n      <use xlink:href=\"#DejaVuSans-76\"/>\n      <use x=\"55.712891\" xlink:href=\"#DejaVuSans-105\"/>\n      <use x=\"83.496094\" xlink:href=\"#DejaVuSans-102\"/>\n      <use x=\"118.701172\" xlink:href=\"#DejaVuSans-101\"/>\n      <use x=\"180.224609\" xlink:href=\"#DejaVuSans-32\"/>\n      <use x=\"212.011719\" xlink:href=\"#DejaVuSans-69\"/>\n      <use x=\"275.195312\" xlink:href=\"#DejaVuSans-120\"/>\n      <use x=\"334.375\" xlink:href=\"#DejaVuSans-112\"/>\n      <use x=\"397.851562\" xlink:href=\"#DejaVuSans-101\"/>\n      <use x=\"459.375\" xlink:href=\"#DejaVuSans-99\"/>\n      <use x=\"514.355469\" xlink:href=\"#DejaVuSans-116\"/>\n      <use x=\"553.564453\" xlink:href=\"#DejaVuSans-97\"/>\n      <use x=\"614.84375\" xlink:href=\"#DejaVuSans-110\"/>\n      <use x=\"678.222656\" xlink:href=\"#DejaVuSans-99\"/>\n      <use x=\"733.203125\" xlink:href=\"#DejaVuSans-121\"/>\n     </g>\n    </g>\n   </g>\n   <g id=\"matplotlib.axis_2\">\n    <g id=\"ytick_1\">\n     <g id=\"line2d_10\">\n      <defs>\n       <path d=\"M 0 0 \nL -3.5 0 \n\" id=\"m8f6042e22e\" style=\"stroke:#000000;stroke-width:0.8;\"/>\n      </defs>\n      <g>\n       <use style=\"stroke:#000000;stroke-width:0.8;\" x=\"40.603125\" xlink:href=\"#m8f6042e22e\" y=\"402.838125\"/>\n      </g>\n     </g>\n     <g id=\"text_11\">\n      <!-- 0 -->\n      <g transform=\"translate(27.240625 406.637344)scale(0.1 -0.1)\">\n       <use xlink:href=\"#DejaVuSans-48\"/>\n      </g>\n     </g>\n    </g>\n    <g id=\"ytick_2\">\n     <g id=\"line2d_11\">\n      <g>\n       <use style=\"stroke:#000000;stroke-width:0.8;\" x=\"40.603125\" xlink:href=\"#m8f6042e22e\" y=\"326.734125\"/>\n      </g>\n     </g>\n     <g id=\"text_12\">\n      <!-- 2 -->\n      <g transform=\"translate(27.240625 330.533344)scale(0.1 -0.1)\">\n       <use xlink:href=\"#DejaVuSans-50\"/>\n      </g>\n     </g>\n    </g>\n    <g id=\"ytick_3\">\n     <g id=\"line2d_12\">\n      <g>\n       <use style=\"stroke:#000000;stroke-width:0.8;\" x=\"40.603125\" xlink:href=\"#m8f6042e22e\" y=\"250.630125\"/>\n      </g>\n     </g>\n     <g id=\"text_13\">\n      <!-- 4 -->\n      <g transform=\"translate(27.240625 254.429344)scale(0.1 -0.1)\">\n       <use xlink:href=\"#DejaVuSans-52\"/>\n      </g>\n     </g>\n    </g>\n    <g id=\"ytick_4\">\n     <g id=\"line2d_13\">\n      <g>\n       <use style=\"stroke:#000000;stroke-width:0.8;\" x=\"40.603125\" xlink:href=\"#m8f6042e22e\" y=\"174.526125\"/>\n      </g>\n     </g>\n     <g id=\"text_14\">\n      <!-- 6 -->\n      <g transform=\"translate(27.240625 178.325344)scale(0.1 -0.1)\">\n       <use xlink:href=\"#DejaVuSans-54\"/>\n      </g>\n     </g>\n    </g>\n    <g id=\"ytick_5\">\n     <g id=\"line2d_14\">\n      <g>\n       <use style=\"stroke:#000000;stroke-width:0.8;\" x=\"40.603125\" xlink:href=\"#m8f6042e22e\" y=\"98.422125\"/>\n      </g>\n     </g>\n     <g id=\"text_15\">\n      <!-- 8 -->\n      <g transform=\"translate(27.240625 102.221344)scale(0.1 -0.1)\">\n       <use xlink:href=\"#DejaVuSans-56\"/>\n      </g>\n     </g>\n    </g>\n    <g id=\"ytick_6\">\n     <g id=\"line2d_15\">\n      <g>\n       <use style=\"stroke:#000000;stroke-width:0.8;\" x=\"40.603125\" xlink:href=\"#m8f6042e22e\" y=\"22.318125\"/>\n      </g>\n     </g>\n     <g id=\"text_16\">\n      <!-- 10 -->\n      <g transform=\"translate(20.878125 26.117344)scale(0.1 -0.1)\">\n       <use xlink:href=\"#DejaVuSans-49\"/>\n       <use x=\"63.623047\" xlink:href=\"#DejaVuSans-48\"/>\n      </g>\n     </g>\n    </g>\n    <g id=\"text_17\">\n     <!-- Fertility Rate -->\n     <defs>\n      <path d=\"M 9.8125 72.90625 \nL 51.703125 72.90625 \nL 51.703125 64.59375 \nL 19.671875 64.59375 \nL 19.671875 43.109375 \nL 48.578125 43.109375 \nL 48.578125 34.8125 \nL 19.671875 34.8125 \nL 19.671875 0 \nL 9.8125 0 \nz\n\" id=\"DejaVuSans-70\"/>\n      <path d=\"M 41.109375 46.296875 \nQ 39.59375 47.171875 37.8125 47.578125 \nQ 36.03125 48 33.890625 48 \nQ 26.265625 48 22.1875 43.046875 \nQ 18.109375 38.09375 18.109375 28.8125 \nL 18.109375 0 \nL 9.078125 0 \nL 9.078125 54.6875 \nL 18.109375 54.6875 \nL 18.109375 46.1875 \nQ 20.953125 51.171875 25.484375 53.578125 \nQ 30.03125 56 36.53125 56 \nQ 37.453125 56 38.578125 55.875 \nQ 39.703125 55.765625 41.0625 55.515625 \nz\n\" id=\"DejaVuSans-114\"/>\n      <path d=\"M 9.421875 75.984375 \nL 18.40625 75.984375 \nL 18.40625 0 \nL 9.421875 0 \nz\n\" id=\"DejaVuSans-108\"/>\n      <path d=\"M 44.390625 34.1875 \nQ 47.5625 33.109375 50.5625 29.59375 \nQ 53.5625 26.078125 56.59375 19.921875 \nL 66.609375 0 \nL 56 0 \nL 46.6875 18.703125 \nQ 43.0625 26.03125 39.671875 28.421875 \nQ 36.28125 30.8125 30.421875 30.8125 \nL 19.671875 30.8125 \nL 19.671875 0 \nL 9.8125 0 \nL 9.8125 72.90625 \nL 32.078125 72.90625 \nQ 44.578125 72.90625 50.734375 67.671875 \nQ 56.890625 62.453125 56.890625 51.90625 \nQ 56.890625 45.015625 53.6875 40.46875 \nQ 50.484375 35.9375 44.390625 34.1875 \nz\nM 19.671875 64.796875 \nL 19.671875 38.921875 \nL 32.078125 38.921875 \nQ 39.203125 38.921875 42.84375 42.21875 \nQ 46.484375 45.515625 46.484375 51.90625 \nQ 46.484375 58.296875 42.84375 61.546875 \nQ 39.203125 64.796875 32.078125 64.796875 \nz\n\" id=\"DejaVuSans-82\"/>\n     </defs>\n     <g transform=\"translate(14.798437 244.409375)rotate(-90)scale(0.1 -0.1)\">\n      <use xlink:href=\"#DejaVuSans-70\"/>\n      <use x=\"52.019531\" xlink:href=\"#DejaVuSans-101\"/>\n      <use x=\"113.542969\" xlink:href=\"#DejaVuSans-114\"/>\n      <use x=\"154.65625\" xlink:href=\"#DejaVuSans-116\"/>\n      <use x=\"193.865234\" xlink:href=\"#DejaVuSans-105\"/>\n      <use x=\"221.648438\" xlink:href=\"#DejaVuSans-108\"/>\n      <use x=\"249.431641\" xlink:href=\"#DejaVuSans-105\"/>\n      <use x=\"277.214844\" xlink:href=\"#DejaVuSans-116\"/>\n      <use x=\"316.423828\" xlink:href=\"#DejaVuSans-121\"/>\n      <use x=\"375.603516\" xlink:href=\"#DejaVuSans-32\"/>\n      <use x=\"407.390625\" xlink:href=\"#DejaVuSans-82\"/>\n      <use x=\"474.623047\" xlink:href=\"#DejaVuSans-97\"/>\n      <use x=\"535.902344\" xlink:href=\"#DejaVuSans-116\"/>\n      <use x=\"575.111328\" xlink:href=\"#DejaVuSans-101\"/>\n     </g>\n    </g>\n   </g>\n   <g id=\"patch_3\">\n    <path d=\"M 40.603125 402.838125 \nL 40.603125 22.318125 \n\" style=\"fill:none;stroke:#000000;stroke-linecap:square;stroke-linejoin:miter;stroke-width:0.8;\"/>\n   </g>\n   <g id=\"patch_4\">\n    <path d=\"M 598.603125 402.838125 \nL 598.603125 22.318125 \n\" style=\"fill:none;stroke:#000000;stroke-linecap:square;stroke-linejoin:miter;stroke-width:0.8;\"/>\n   </g>\n   <g id=\"patch_5\">\n    <path d=\"M 40.603125 402.838125 \nL 598.603125 402.838125 \n\" style=\"fill:none;stroke:#000000;stroke-linecap:square;stroke-linejoin:miter;stroke-width:0.8;\"/>\n   </g>\n   <g id=\"patch_6\">\n    <path d=\"M 40.603125 22.318125 \nL 598.603125 22.318125 \n\" style=\"fill:none;stroke:#000000;stroke-linecap:square;stroke-linejoin:miter;stroke-width:0.8;\"/>\n   </g>\n   <g id=\"text_18\">\n    <!-- 2000 -->\n    <g transform=\"translate(304.333125 16.318125)scale(0.12 -0.12)\">\n     <use xlink:href=\"#DejaVuSans-50\"/>\n     <use x=\"63.623047\" xlink:href=\"#DejaVuSans-48\"/>\n     <use x=\"127.246094\" xlink:href=\"#DejaVuSans-48\"/>\n     <use x=\"190.869141\" xlink:href=\"#DejaVuSans-48\"/>\n    </g>\n   </g>\n   <g id=\"legend_1\">\n    <g id=\"text_19\">\n     <!-- continent -->\n     <defs>\n      <path d=\"M 30.609375 48.390625 \nQ 23.390625 48.390625 19.1875 42.75 \nQ 14.984375 37.109375 14.984375 27.296875 \nQ 14.984375 17.484375 19.15625 11.84375 \nQ 23.34375 6.203125 30.609375 6.203125 \nQ 37.796875 6.203125 41.984375 11.859375 \nQ 46.1875 17.53125 46.1875 27.296875 \nQ 46.1875 37.015625 41.984375 42.703125 \nQ 37.796875 48.390625 30.609375 48.390625 \nz\nM 30.609375 56 \nQ 42.328125 56 49.015625 48.375 \nQ 55.71875 40.765625 55.71875 27.296875 \nQ 55.71875 13.875 49.015625 6.21875 \nQ 42.328125 -1.421875 30.609375 -1.421875 \nQ 18.84375 -1.421875 12.171875 6.21875 \nQ 5.515625 13.875 5.515625 27.296875 \nQ 5.515625 40.765625 12.171875 48.375 \nQ 18.84375 56 30.609375 56 \nz\n\" id=\"DejaVuSans-111\"/>\n     </defs>\n     <g transform=\"translate(77.603125 303.689687)scale(0.1 -0.1)\">\n      <use xlink:href=\"#DejaVuSans-99\"/>\n      <use x=\"54.980469\" xlink:href=\"#DejaVuSans-111\"/>\n      <use x=\"116.162109\" xlink:href=\"#DejaVuSans-110\"/>\n      <use x=\"179.541016\" xlink:href=\"#DejaVuSans-116\"/>\n      <use x=\"218.75\" xlink:href=\"#DejaVuSans-105\"/>\n      <use x=\"246.533203\" xlink:href=\"#DejaVuSans-110\"/>\n      <use x=\"309.912109\" xlink:href=\"#DejaVuSans-101\"/>\n      <use x=\"371.435547\" xlink:href=\"#DejaVuSans-110\"/>\n      <use x=\"434.814453\" xlink:href=\"#DejaVuSans-116\"/>\n     </g>\n    </g>\n    <g id=\"PathCollection_13\">\n     <defs>\n      <path d=\"M 0 3 \nC 0.795609 3 1.55874 2.683901 2.12132 2.12132 \nC 2.683901 1.55874 3 0.795609 3 0 \nC 3 -0.795609 2.683901 -1.55874 2.12132 -2.12132 \nC 1.55874 -2.683901 0.795609 -3 0 -3 \nC -0.795609 -3 -1.55874 -2.683901 -2.12132 -2.12132 \nC -2.683901 -1.55874 -3 -0.795609 -3 0 \nC -3 0.795609 -2.683901 1.55874 -2.12132 2.12132 \nC -1.55874 2.683901 -0.795609 3 0 3 \nz\n\" id=\"m4633235b93\" style=\"stroke:#1f77b4;\"/>\n     </defs>\n     <g>\n      <use style=\"fill:#1f77b4;stroke:#1f77b4;\" x=\"59.603125\" xlink:href=\"#m4633235b93\" y=\"315.742812\"/>\n     </g>\n    </g>\n    <g id=\"text_20\">\n     <!-- Asia -->\n     <defs>\n      <path d=\"M 34.1875 63.1875 \nL 20.796875 26.90625 \nL 47.609375 26.90625 \nz\nM 28.609375 72.90625 \nL 39.796875 72.90625 \nL 67.578125 0 \nL 57.328125 0 \nL 50.6875 18.703125 \nL 17.828125 18.703125 \nL 11.1875 0 \nL 0.78125 0 \nz\n\" id=\"DejaVuSans-65\"/>\n      <path d=\"M 44.28125 53.078125 \nL 44.28125 44.578125 \nQ 40.484375 46.53125 36.375 47.5 \nQ 32.28125 48.484375 27.875 48.484375 \nQ 21.1875 48.484375 17.84375 46.4375 \nQ 14.5 44.390625 14.5 40.28125 \nQ 14.5 37.15625 16.890625 35.375 \nQ 19.28125 33.59375 26.515625 31.984375 \nL 29.59375 31.296875 \nQ 39.15625 29.25 43.1875 25.515625 \nQ 47.21875 21.78125 47.21875 15.09375 \nQ 47.21875 7.46875 41.1875 3.015625 \nQ 35.15625 -1.421875 24.609375 -1.421875 \nQ 20.21875 -1.421875 15.453125 -0.5625 \nQ 10.6875 0.296875 5.421875 2 \nL 5.421875 11.28125 \nQ 10.40625 8.6875 15.234375 7.390625 \nQ 20.0625 6.109375 24.8125 6.109375 \nQ 31.15625 6.109375 34.5625 8.28125 \nQ 37.984375 10.453125 37.984375 14.40625 \nQ 37.984375 18.0625 35.515625 20.015625 \nQ 33.0625 21.96875 24.703125 23.78125 \nL 21.578125 24.515625 \nQ 13.234375 26.265625 9.515625 29.90625 \nQ 5.8125 33.546875 5.8125 39.890625 \nQ 5.8125 47.609375 11.28125 51.796875 \nQ 16.75 56 26.8125 56 \nQ 31.78125 56 36.171875 55.265625 \nQ 40.578125 54.546875 44.28125 53.078125 \nz\n\" id=\"DejaVuSans-115\"/>\n     </defs>\n     <g transform=\"translate(77.603125 318.367812)scale(0.1 -0.1)\">\n      <use xlink:href=\"#DejaVuSans-65\"/>\n      <use x=\"68.408203\" xlink:href=\"#DejaVuSans-115\"/>\n      <use x=\"120.507812\" xlink:href=\"#DejaVuSans-105\"/>\n      <use x=\"148.291016\" xlink:href=\"#DejaVuSans-97\"/>\n     </g>\n    </g>\n    <g id=\"PathCollection_14\">\n     <defs>\n      <path d=\"M 0 3 \nC 0.795609 3 1.55874 2.683901 2.12132 2.12132 \nC 2.683901 1.55874 3 0.795609 3 0 \nC 3 -0.795609 2.683901 -1.55874 2.12132 -2.12132 \nC 1.55874 -2.683901 0.795609 -3 0 -3 \nC -0.795609 -3 -1.55874 -2.683901 -2.12132 -2.12132 \nC -2.683901 -1.55874 -3 -0.795609 -3 0 \nC -3 0.795609 -2.683901 1.55874 -2.12132 2.12132 \nC -1.55874 2.683901 -0.795609 3 0 3 \nz\n\" id=\"mea106fd143\" style=\"stroke:#ff7f0e;\"/>\n     </defs>\n     <g>\n      <use style=\"fill:#ff7f0e;stroke:#ff7f0e;\" x=\"59.603125\" xlink:href=\"#mea106fd143\" y=\"330.420937\"/>\n     </g>\n    </g>\n    <g id=\"text_21\">\n     <!-- Europe -->\n     <defs>\n      <path d=\"M 8.5 21.578125 \nL 8.5 54.6875 \nL 17.484375 54.6875 \nL 17.484375 21.921875 \nQ 17.484375 14.15625 20.5 10.265625 \nQ 23.53125 6.390625 29.59375 6.390625 \nQ 36.859375 6.390625 41.078125 11.03125 \nQ 45.3125 15.671875 45.3125 23.6875 \nL 45.3125 54.6875 \nL 54.296875 54.6875 \nL 54.296875 0 \nL 45.3125 0 \nL 45.3125 8.40625 \nQ 42.046875 3.421875 37.71875 1 \nQ 33.40625 -1.421875 27.6875 -1.421875 \nQ 18.265625 -1.421875 13.375 4.4375 \nQ 8.5 10.296875 8.5 21.578125 \nz\nM 31.109375 56 \nz\n\" id=\"DejaVuSans-117\"/>\n     </defs>\n     <g transform=\"translate(77.603125 333.045937)scale(0.1 -0.1)\">\n      <use xlink:href=\"#DejaVuSans-69\"/>\n      <use x=\"63.183594\" xlink:href=\"#DejaVuSans-117\"/>\n      <use x=\"126.5625\" xlink:href=\"#DejaVuSans-114\"/>\n      <use x=\"165.425781\" xlink:href=\"#DejaVuSans-111\"/>\n      <use x=\"226.607422\" xlink:href=\"#DejaVuSans-112\"/>\n      <use x=\"290.083984\" xlink:href=\"#DejaVuSans-101\"/>\n     </g>\n    </g>\n    <g id=\"PathCollection_15\">\n     <defs>\n      <path d=\"M 0 3 \nC 0.795609 3 1.55874 2.683901 2.12132 2.12132 \nC 2.683901 1.55874 3 0.795609 3 0 \nC 3 -0.795609 2.683901 -1.55874 2.12132 -2.12132 \nC 1.55874 -2.683901 0.795609 -3 0 -3 \nC -0.795609 -3 -1.55874 -2.683901 -2.12132 -2.12132 \nC -2.683901 -1.55874 -3 -0.795609 -3 0 \nC -3 0.795609 -2.683901 1.55874 -2.12132 2.12132 \nC -1.55874 2.683901 -0.795609 3 0 3 \nz\n\" id=\"m39e970020d\" style=\"stroke:#2ca02c;\"/>\n     </defs>\n     <g>\n      <use style=\"fill:#2ca02c;stroke:#2ca02c;\" x=\"59.603125\" xlink:href=\"#m39e970020d\" y=\"345.099062\"/>\n     </g>\n    </g>\n    <g id=\"text_22\">\n     <!-- Africa -->\n     <g transform=\"translate(77.603125 347.724062)scale(0.1 -0.1)\">\n      <use xlink:href=\"#DejaVuSans-65\"/>\n      <use x=\"64.783203\" xlink:href=\"#DejaVuSans-102\"/>\n      <use x=\"99.988281\" xlink:href=\"#DejaVuSans-114\"/>\n      <use x=\"141.101562\" xlink:href=\"#DejaVuSans-105\"/>\n      <use x=\"168.884766\" xlink:href=\"#DejaVuSans-99\"/>\n      <use x=\"223.865234\" xlink:href=\"#DejaVuSans-97\"/>\n     </g>\n    </g>\n    <g id=\"PathCollection_16\">\n     <defs>\n      <path d=\"M 0 3 \nC 0.795609 3 1.55874 2.683901 2.12132 2.12132 \nC 2.683901 1.55874 3 0.795609 3 0 \nC 3 -0.795609 2.683901 -1.55874 2.12132 -2.12132 \nC 1.55874 -2.683901 0.795609 -3 0 -3 \nC -0.795609 -3 -1.55874 -2.683901 -2.12132 -2.12132 \nC -2.683901 -1.55874 -3 -0.795609 -3 0 \nC -3 0.795609 -2.683901 1.55874 -2.12132 2.12132 \nC -1.55874 2.683901 -0.795609 3 0 3 \nz\n\" id=\"mb1f45740e1\" style=\"stroke:#d62728;\"/>\n     </defs>\n     <g>\n      <use style=\"fill:#d62728;stroke:#d62728;\" x=\"59.603125\" xlink:href=\"#mb1f45740e1\" y=\"359.777187\"/>\n     </g>\n    </g>\n    <g id=\"text_23\">\n     <!-- North America -->\n     <defs>\n      <path d=\"M 9.8125 72.90625 \nL 23.09375 72.90625 \nL 55.421875 11.921875 \nL 55.421875 72.90625 \nL 64.984375 72.90625 \nL 64.984375 0 \nL 51.703125 0 \nL 19.390625 60.984375 \nL 19.390625 0 \nL 9.8125 0 \nz\n\" id=\"DejaVuSans-78\"/>\n      <path d=\"M 54.890625 33.015625 \nL 54.890625 0 \nL 45.90625 0 \nL 45.90625 32.71875 \nQ 45.90625 40.484375 42.875 44.328125 \nQ 39.84375 48.1875 33.796875 48.1875 \nQ 26.515625 48.1875 22.3125 43.546875 \nQ 18.109375 38.921875 18.109375 30.90625 \nL 18.109375 0 \nL 9.078125 0 \nL 9.078125 75.984375 \nL 18.109375 75.984375 \nL 18.109375 46.1875 \nQ 21.34375 51.125 25.703125 53.5625 \nQ 30.078125 56 35.796875 56 \nQ 45.21875 56 50.046875 50.171875 \nQ 54.890625 44.34375 54.890625 33.015625 \nz\n\" id=\"DejaVuSans-104\"/>\n      <path d=\"M 52 44.1875 \nQ 55.375 50.25 60.0625 53.125 \nQ 64.75 56 71.09375 56 \nQ 79.640625 56 84.28125 50.015625 \nQ 88.921875 44.046875 88.921875 33.015625 \nL 88.921875 0 \nL 79.890625 0 \nL 79.890625 32.71875 \nQ 79.890625 40.578125 77.09375 44.375 \nQ 74.3125 48.1875 68.609375 48.1875 \nQ 61.625 48.1875 57.5625 43.546875 \nQ 53.515625 38.921875 53.515625 30.90625 \nL 53.515625 0 \nL 44.484375 0 \nL 44.484375 32.71875 \nQ 44.484375 40.625 41.703125 44.40625 \nQ 38.921875 48.1875 33.109375 48.1875 \nQ 26.21875 48.1875 22.15625 43.53125 \nQ 18.109375 38.875 18.109375 30.90625 \nL 18.109375 0 \nL 9.078125 0 \nL 9.078125 54.6875 \nL 18.109375 54.6875 \nL 18.109375 46.1875 \nQ 21.1875 51.21875 25.484375 53.609375 \nQ 29.78125 56 35.6875 56 \nQ 41.65625 56 45.828125 52.96875 \nQ 50 49.953125 52 44.1875 \nz\n\" id=\"DejaVuSans-109\"/>\n     </defs>\n     <g transform=\"translate(77.603125 362.402187)scale(0.1 -0.1)\">\n      <use xlink:href=\"#DejaVuSans-78\"/>\n      <use x=\"74.804688\" xlink:href=\"#DejaVuSans-111\"/>\n      <use x=\"135.986328\" xlink:href=\"#DejaVuSans-114\"/>\n      <use x=\"177.099609\" xlink:href=\"#DejaVuSans-116\"/>\n      <use x=\"216.308594\" xlink:href=\"#DejaVuSans-104\"/>\n      <use x=\"279.6875\" xlink:href=\"#DejaVuSans-32\"/>\n      <use x=\"311.474609\" xlink:href=\"#DejaVuSans-65\"/>\n      <use x=\"379.882812\" xlink:href=\"#DejaVuSans-109\"/>\n      <use x=\"477.294922\" xlink:href=\"#DejaVuSans-101\"/>\n      <use x=\"538.818359\" xlink:href=\"#DejaVuSans-114\"/>\n      <use x=\"579.931641\" xlink:href=\"#DejaVuSans-105\"/>\n      <use x=\"607.714844\" xlink:href=\"#DejaVuSans-99\"/>\n      <use x=\"662.695312\" xlink:href=\"#DejaVuSans-97\"/>\n     </g>\n    </g>\n    <g id=\"PathCollection_17\">\n     <defs>\n      <path d=\"M 0 3 \nC 0.795609 3 1.55874 2.683901 2.12132 2.12132 \nC 2.683901 1.55874 3 0.795609 3 0 \nC 3 -0.795609 2.683901 -1.55874 2.12132 -2.12132 \nC 1.55874 -2.683901 0.795609 -3 0 -3 \nC -0.795609 -3 -1.55874 -2.683901 -2.12132 -2.12132 \nC -2.683901 -1.55874 -3 -0.795609 -3 0 \nC -3 0.795609 -2.683901 1.55874 -2.12132 2.12132 \nC -1.55874 2.683901 -0.795609 3 0 3 \nz\n\" id=\"mebc7695b03\" style=\"stroke:#9467bd;\"/>\n     </defs>\n     <g>\n      <use style=\"fill:#9467bd;stroke:#9467bd;\" x=\"59.603125\" xlink:href=\"#mebc7695b03\" y=\"374.455312\"/>\n     </g>\n    </g>\n    <g id=\"text_24\">\n     <!-- South America -->\n     <defs>\n      <path d=\"M 53.515625 70.515625 \nL 53.515625 60.890625 \nQ 47.90625 63.578125 42.921875 64.890625 \nQ 37.9375 66.21875 33.296875 66.21875 \nQ 25.25 66.21875 20.875 63.09375 \nQ 16.5 59.96875 16.5 54.203125 \nQ 16.5 49.359375 19.40625 46.890625 \nQ 22.3125 44.4375 30.421875 42.921875 \nL 36.375 41.703125 \nQ 47.40625 39.59375 52.65625 34.296875 \nQ 57.90625 29 57.90625 20.125 \nQ 57.90625 9.515625 50.796875 4.046875 \nQ 43.703125 -1.421875 29.984375 -1.421875 \nQ 24.8125 -1.421875 18.96875 -0.25 \nQ 13.140625 0.921875 6.890625 3.21875 \nL 6.890625 13.375 \nQ 12.890625 10.015625 18.65625 8.296875 \nQ 24.421875 6.59375 29.984375 6.59375 \nQ 38.421875 6.59375 43.015625 9.90625 \nQ 47.609375 13.234375 47.609375 19.390625 \nQ 47.609375 24.75 44.3125 27.78125 \nQ 41.015625 30.8125 33.5 32.328125 \nL 27.484375 33.5 \nQ 16.453125 35.6875 11.515625 40.375 \nQ 6.59375 45.0625 6.59375 53.421875 \nQ 6.59375 63.09375 13.40625 68.65625 \nQ 20.21875 74.21875 32.171875 74.21875 \nQ 37.3125 74.21875 42.625 73.28125 \nQ 47.953125 72.359375 53.515625 70.515625 \nz\n\" id=\"DejaVuSans-83\"/>\n     </defs>\n     <g transform=\"translate(77.603125 377.080312)scale(0.1 -0.1)\">\n      <use xlink:href=\"#DejaVuSans-83\"/>\n      <use x=\"63.476562\" xlink:href=\"#DejaVuSans-111\"/>\n      <use x=\"124.658203\" xlink:href=\"#DejaVuSans-117\"/>\n      <use x=\"188.037109\" xlink:href=\"#DejaVuSans-116\"/>\n      <use x=\"227.246094\" xlink:href=\"#DejaVuSans-104\"/>\n      <use x=\"290.625\" xlink:href=\"#DejaVuSans-32\"/>\n      <use x=\"322.412109\" xlink:href=\"#DejaVuSans-65\"/>\n      <use x=\"390.820312\" xlink:href=\"#DejaVuSans-109\"/>\n      <use x=\"488.232422\" xlink:href=\"#DejaVuSans-101\"/>\n      <use x=\"549.755859\" xlink:href=\"#DejaVuSans-114\"/>\n      <use x=\"590.869141\" xlink:href=\"#DejaVuSans-105\"/>\n      <use x=\"618.652344\" xlink:href=\"#DejaVuSans-99\"/>\n      <use x=\"673.632812\" xlink:href=\"#DejaVuSans-97\"/>\n     </g>\n    </g>\n    <g id=\"PathCollection_18\">\n     <defs>\n      <path d=\"M 0 3 \nC 0.795609 3 1.55874 2.683901 2.12132 2.12132 \nC 2.683901 1.55874 3 0.795609 3 0 \nC 3 -0.795609 2.683901 -1.55874 2.12132 -2.12132 \nC 1.55874 -2.683901 0.795609 -3 0 -3 \nC -0.795609 -3 -1.55874 -2.683901 -2.12132 -2.12132 \nC -2.683901 -1.55874 -3 -0.795609 -3 0 \nC -3 0.795609 -2.683901 1.55874 -2.12132 2.12132 \nC -1.55874 2.683901 -0.795609 3 0 3 \nz\n\" id=\"ma66e399763\" style=\"stroke:#8c564b;\"/>\n     </defs>\n     <g>\n      <use style=\"fill:#8c564b;stroke:#8c564b;\" x=\"59.603125\" xlink:href=\"#ma66e399763\" y=\"389.133437\"/>\n     </g>\n    </g>\n    <g id=\"text_25\">\n     <!-- Australia and Oceania -->\n     <defs>\n      <path d=\"M 45.40625 46.390625 \nL 45.40625 75.984375 \nL 54.390625 75.984375 \nL 54.390625 0 \nL 45.40625 0 \nL 45.40625 8.203125 \nQ 42.578125 3.328125 38.25 0.953125 \nQ 33.9375 -1.421875 27.875 -1.421875 \nQ 17.96875 -1.421875 11.734375 6.484375 \nQ 5.515625 14.40625 5.515625 27.296875 \nQ 5.515625 40.1875 11.734375 48.09375 \nQ 17.96875 56 27.875 56 \nQ 33.9375 56 38.25 53.625 \nQ 42.578125 51.265625 45.40625 46.390625 \nz\nM 14.796875 27.296875 \nQ 14.796875 17.390625 18.875 11.75 \nQ 22.953125 6.109375 30.078125 6.109375 \nQ 37.203125 6.109375 41.296875 11.75 \nQ 45.40625 17.390625 45.40625 27.296875 \nQ 45.40625 37.203125 41.296875 42.84375 \nQ 37.203125 48.484375 30.078125 48.484375 \nQ 22.953125 48.484375 18.875 42.84375 \nQ 14.796875 37.203125 14.796875 27.296875 \nz\n\" id=\"DejaVuSans-100\"/>\n      <path d=\"M 39.40625 66.21875 \nQ 28.65625 66.21875 22.328125 58.203125 \nQ 16.015625 50.203125 16.015625 36.375 \nQ 16.015625 22.609375 22.328125 14.59375 \nQ 28.65625 6.59375 39.40625 6.59375 \nQ 50.140625 6.59375 56.421875 14.59375 \nQ 62.703125 22.609375 62.703125 36.375 \nQ 62.703125 50.203125 56.421875 58.203125 \nQ 50.140625 66.21875 39.40625 66.21875 \nz\nM 39.40625 74.21875 \nQ 54.734375 74.21875 63.90625 63.9375 \nQ 73.09375 53.65625 73.09375 36.375 \nQ 73.09375 19.140625 63.90625 8.859375 \nQ 54.734375 -1.421875 39.40625 -1.421875 \nQ 24.03125 -1.421875 14.8125 8.828125 \nQ 5.609375 19.09375 5.609375 36.375 \nQ 5.609375 53.65625 14.8125 63.9375 \nQ 24.03125 74.21875 39.40625 74.21875 \nz\n\" id=\"DejaVuSans-79\"/>\n     </defs>\n     <g transform=\"translate(77.603125 391.758437)scale(0.1 -0.1)\">\n      <use xlink:href=\"#DejaVuSans-65\"/>\n      <use x=\"68.408203\" xlink:href=\"#DejaVuSans-117\"/>\n      <use x=\"131.787109\" xlink:href=\"#DejaVuSans-115\"/>\n      <use x=\"183.886719\" xlink:href=\"#DejaVuSans-116\"/>\n      <use x=\"223.095703\" xlink:href=\"#DejaVuSans-114\"/>\n      <use x=\"264.208984\" xlink:href=\"#DejaVuSans-97\"/>\n      <use x=\"325.488281\" xlink:href=\"#DejaVuSans-108\"/>\n      <use x=\"353.271484\" xlink:href=\"#DejaVuSans-105\"/>\n      <use x=\"381.054688\" xlink:href=\"#DejaVuSans-97\"/>\n      <use x=\"442.333984\" xlink:href=\"#DejaVuSans-32\"/>\n      <use x=\"474.121094\" xlink:href=\"#DejaVuSans-97\"/>\n      <use x=\"535.400391\" xlink:href=\"#DejaVuSans-110\"/>\n      <use x=\"598.779297\" xlink:href=\"#DejaVuSans-100\"/>\n      <use x=\"662.255859\" xlink:href=\"#DejaVuSans-32\"/>\n      <use x=\"694.042969\" xlink:href=\"#DejaVuSans-79\"/>\n      <use x=\"772.753906\" xlink:href=\"#DejaVuSans-99\"/>\n      <use x=\"827.734375\" xlink:href=\"#DejaVuSans-101\"/>\n      <use x=\"889.257812\" xlink:href=\"#DejaVuSans-97\"/>\n      <use x=\"950.537109\" xlink:href=\"#DejaVuSans-110\"/>\n      <use x=\"1013.916016\" xlink:href=\"#DejaVuSans-105\"/>\n      <use x=\"1041.699219\" xlink:href=\"#DejaVuSans-97\"/>\n     </g>\n    </g>\n   </g>\n  </g>\n </g>\n <defs>\n  <clipPath id=\"p4300663c0a\">\n   <rect height=\"380.52\" width=\"558\" x=\"40.603125\" y=\"22.318125\"/>\n  </clipPath>\n </defs>\n</svg>\n",
      "image/png": "[encoded data removed]"
     },
     "metadata": {
      "needs_background": "light"
     }
    },
    {
     "output_type": "stream",
     "name": "stdout",
     "text": [
      "1805 4\n"
     ]
    }
   ],
   "source": [
    "plt.subplots(figsize = (10,7))\n",
    "ax = sns.scatterplot(x='life_expectancy', y='fertility_rate', hue='continent',size=\"population\",data=dfcont.loc[2000],      alpha=0.6)\n",
    "ax.set_title(2000)\n",
    "h,l = ax.get_legend_handles_labels()\n",
    "\n",
    "plt.legend(h[:7],l[:7],loc='lower left', frameon=False)\n",
    "ax.set(xlabel=\"Life Expectancy\",ylabel= \"Fertility Rate\")\n",
    "plt.axis((0,85,0,10))\n",
    "yearnumber= i+x\n",
    "\n",
    "\n",
    "filename = 'lifeexp_{}.png'.format(yearnumber)\n",
    "plt.savefig(filename)\n",
    "images.append(imageio.imread(filename))\n",
    "plt.show(ax)\n",
    "print(i,x)\n",
    "plt.close()"
   ]
  },
  {
   "cell_type": "code",
   "execution_count": null,
   "metadata": {},
   "outputs": [],
   "source": []
  }
 ]
}